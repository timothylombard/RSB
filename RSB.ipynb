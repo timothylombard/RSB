{
  "nbformat": 4,
  "nbformat_minor": 0,
  "metadata": {
    "colab": {
      "name": "RSB.ipynb",
      "version": "0.3.2",
      "provenance": [],
      "collapsed_sections": [],
      "include_colab_link": true
    },
    "kernelspec": {
      "name": "python3",
      "display_name": "Python 3"
    }
  },
  "cells": [
    {
      "cell_type": "markdown",
      "metadata": {
        "id": "view-in-github",
        "colab_type": "text"
      },
      "source": [
        "<a href=\"https://colab.research.google.com/github/timothylombard/RSB/blob/master/RSB.ipynb\" target=\"_parent\"><img src=\"https://colab.research.google.com/assets/colab-badge.svg\" alt=\"Open In Colab\"/></a>"
      ]
    },
    {
      "cell_type": "markdown",
      "metadata": {
        "id": "jX4JSH0qu0Vy",
        "colab_type": "text"
      },
      "source": [
        "# **-1-**\n",
        "## **Analytic Approach to Project Management of PCB Designs**\n",
        "\n",
        "\n",
        "---\n",
        "\n"
      ]
    },
    {
      "cell_type": "markdown",
      "metadata": {
        "id": "PTIyhR0A-9ML",
        "colab_type": "text"
      },
      "source": [
        "\n",
        "The document you are reading is a Jupyter notebook, hosted in [Colaboratory.](https://colab.research.google.com/) It is not a static page, but an interactive environment that runs real code! <br>  \n",
        "\n",
        "The graphs in this notebook can be changed by updating variables  in the agreement form. \n",
        "\n",
        " Use it, modify it, have fun!  Note: the [usual and customary restrictions apply.](https://github.com/timothylombard/RSB/blob/master/LICENSE) <br> \n",
        " \n",
        " Comments or suggestions:  timothylombard@gmail.com\n",
        " \n",
        "##Note:\n",
        "If you are getting unexpected results try the following: <br>\n",
        "\n",
        "\n",
        "1.   Refresh notebook and re-run each cell in sequence.  \n",
        "2.   If the previous step doesn't work-  it could be because notebook has been altered from it's master source.      [Reload new copy to go back to starting point](https://colab.research.google.com/github/timothylombard/RSB/blob/master/RSB.ipynb). \n",
        "\n"
      ]
    },
    {
      "cell_type": "markdown",
      "metadata": {
        "id": "ggbiCezdtHe6",
        "colab_type": "text"
      },
      "source": [
        "This is a Google Colab Notebook to explore a project for the Road Runner Service Bureau<br>\n",
        "![alt text](https://i.pinimg.com/564x/44/f9/b2/44f9b244eb21814faec6bef4c82c2023.jpg)\n"
      ]
    },
    {
      "cell_type": "code",
      "metadata": {
        "id": "bKmbupibuoFS",
        "colab_type": "code",
        "cellView": "form",
        "colab": {}
      },
      "source": [
        "#@title Fill in Key Agreement Details then hit run button on the left\n",
        "\n",
        "project_name = 'ABC_CPU_Main' #@param {type:\"string\"}\n",
        "schedule = '2017-01-10' #@param {type:\"date\"}\n",
        "budget = 9000 #@param {type:\"number\"}\n",
        "regular_rate = 50.0 #@param {type:\"number\"}\n",
        "overtime_rate = 75.0 #@param {type:\"number\"}\n",
        "\n",
        "#@title Setup the enviroment\n",
        "import pandas as pd  #import the pandas module and shorten to pd\n",
        "\n",
        "%matplotlib inline\n",
        "import matplotlib.pyplot as plt\n",
        "from matplotlib.pyplot import text\n",
        "from matplotlib.ticker import FuncFormatter\n",
        "import matplotlib.ticker as mtick\n",
        "import seaborn; seaborn.set()\n",
        "\n",
        "\n",
        "from dateutil import parser\n",
        "\n",
        "from bokeh.io import show, output_notebook\n",
        "from bokeh.palettes import PuBu4\n",
        "from bokeh.plotting import figure\n",
        "from bokeh.models import Label\n",
        "\n",
        "\n",
        "from tabulate import tabulate\n",
        "from datetime import date # Import\n",
        "\n",
        "#Define Functions\n",
        "\n",
        "def int2dollar(number):\n",
        "  ''' function that takes a number (float or integer) \n",
        "  and returns a currency string rounded up to the nearest dollar'''\n",
        "  \n",
        "  return f'${number:,.0f}'\n",
        "\n",
        "def change_report(dataframe, column2check):\n",
        "  ''' function that takes a dataframe and a columnname and returns diff report '''\n",
        "  changes = [] #This is an empty list to store our change data\n",
        "  series_to_check = dataframe[column2check] \n",
        "  change_pairs = [(i, i-1) for i in range(1,len(series_to_check)) #remove the -1\n",
        "                  if series_to_check[i]!=series_to_check[i-1] ] \n",
        "  \n",
        "  for x in change_pairs:\n",
        "    \n",
        "    change = list(df.iloc[[x[0]]].itertuples())\n",
        "    prior = list(df.iloc[[x[1]]].itertuples())\n",
        "    conn_diff = change[0].Connections - prior[0].Connections\n",
        "    pct_conn_diff = conn_diff /  prior[0].Connections\n",
        "    comp_diff = change[0].Total_Components - prior[0].Total_Components\n",
        "    pct_comp_diff = comp_diff / prior[0].Total_Components\n",
        "    \n",
        "    change_dict = {\"-0- Change Date\":change[0].Index.date(),\n",
        "        \"-1.0- Connections\":change[0].Connections,\n",
        "        \"-1.1- Previous Connections\":prior[0].Connections,\n",
        "        \"-1.2- Diff in Conns\": conn_diff,\n",
        "        \"-1.3- Pct Change Conns\": f'{pct_conn_diff :.2%}',\n",
        "        \"-2.0- Component Count\": change[0].Total_Components,\n",
        "        \"-2.1- Previous Comp Count\":prior[0].Total_Components,\n",
        "        \"-2.2- Diff in Comp Count\":comp_diff,                    \n",
        "        \"-2.3- Pct Change in Comp Count\": f'{pct_comp_diff :.2%}',\n",
        "        \"-3.0- Routed Connections\":change[0].Connected,\n",
        "        \"-3.1- Previous Routed Connections\" :prior[0].Connected,\n",
        "        \"-3.2- Impact to Connected Progress\" : prior[0].Connected - change[0].Connected,\n",
        "        \"-4.0- Parts Placed\" : change[0].Placed,\n",
        "        \"-4.1- Previous Parts Placed\": prior[0].Placed,\n",
        "        \"-4.2- Impact to Placement\" : prior[0].Placed - change[0].Placed,\n",
        "           \n",
        "\n",
        "    }\n",
        "    changes.append(change_dict)\n",
        "    \n",
        "    \n",
        "  return changes\n",
        "  \n",
        "def pprint_df(dframe):\n",
        "  print(tabulate(dframe, headers='keys', tablefmt='psql', showindex=False))"
      ],
      "execution_count": 0,
      "outputs": []
    },
    {
      "cell_type": "markdown",
      "metadata": {
        "id": "wi-y1or6Nu8h",
        "colab_type": "text"
      },
      "source": [
        "##To Analyze, Data is required\n",
        "Here is a sample data set: https://raw.githubusercontent.com/timothylombard/RSB/master/RSBdata.csv\n",
        "\n",
        "Use this [template](https://docs.google.com/spreadsheets/d/1NUL4kl_ZZBQZSozCFONzH-7no0BX48sg7gEyaNE5ZG8/copy) to enter data for your design."
      ]
    },
    {
      "cell_type": "code",
      "metadata": {
        "id": "x0mr-QJiIcyW",
        "colab_type": "code",
        "cellView": "form",
        "colab": {}
      },
      "source": [
        "#@title Enter the link to the CSV file\n",
        "#assign variable link that points to copy of csv data\n",
        "link = 'https://raw.githubusercontent.com/timothylombard/RSB/master/RSBdata.csv' #@param {type:\"string\"}\n",
        "\n",
        "\n"
      ],
      "execution_count": 0,
      "outputs": []
    },
    {
      "cell_type": "code",
      "metadata": {
        "id": "cO1JTOBVr6d-",
        "colab_type": "code",
        "cellView": "form",
        "colab": {}
      },
      "source": [
        "#@title Print out the CSV data from link\n",
        "\n",
        "df = pd.read_csv(link)\n",
        "pprint_df(df)\n"
      ],
      "execution_count": 0,
      "outputs": []
    },
    {
      "cell_type": "code",
      "metadata": {
        "id": "pruXXcYVjUmV",
        "colab_type": "code",
        "cellView": "form",
        "colab": {}
      },
      "source": [
        "#@title Placement and Routing progress Chart\n",
        "df['pctPlaced'] = df['Placed']/df['Total_Components']\n",
        "df['pctConn'] = df['Connected']/df['Connections']\n",
        "df['Date'] =  pd.to_datetime(df['Date'])\n",
        "df.set_index('Date', inplace=True)\n",
        "\n",
        "ax = df[['pctConn','pctPlaced']].plot(title='Placement Routing Progress for '+project_name)\n",
        "ax.yaxis.set_major_formatter(FuncFormatter('{0:.0%}'.format))#format y-axis to %\n",
        "\n",
        "plt.legend(loc='upper left')\n",
        "\n",
        "plt.axvline(x=schedule, color='g', linestyle='-')\n",
        "text(x=(parser.parse(schedule) + pd.Timedelta(days=.1)), y=0, s=\"Target Schedule \"+str(schedule))"
      ],
      "execution_count": 0,
      "outputs": []
    },
    {
      "cell_type": "markdown",
      "metadata": {
        "id": "ZiBEYISTvFcD",
        "colab_type": "text"
      },
      "source": [
        "\n",
        "\n",
        "In the above chart,  percentages were  calculated by using the formula-\n",
        "\n",
        "\n",
        "$Percent Placed = \\frac{parts Placed}{TotalComponentCount}$\n",
        "\n",
        " $Percent Connected = \\frac{Connected}{Connections}$\n",
        " \n",
        " \n",
        "\n",
        "\n"
      ]
    },
    {
      "cell_type": "markdown",
      "metadata": {
        "id": "TQSLfIb6ziEm",
        "colab_type": "text"
      },
      "source": [
        "# -6- Budget Calculations"
      ]
    },
    {
      "cell_type": "markdown",
      "metadata": {
        "id": "mmhTUjoSsYrM",
        "colab_type": "text"
      },
      "source": [
        "First, lets create another calculated field for  Running Total  of the regular hours as time goes on."
      ]
    },
    {
      "cell_type": "code",
      "metadata": {
        "id": "pKoP8kxZLDf4",
        "colab_type": "code",
        "cellView": "form",
        "colab": {}
      },
      "source": [
        "#@title Expenses over time\n",
        "df['regrunning'] = df['Reg_Hours'].cumsum()\n",
        "df['otrunning'] = df['OT_Hours'].cumsum()\n",
        "df['spend'] = df['regrunning']*regular_rate + df['otrunning']*overtime_rate\n",
        "budget_string = int2dollar(budget)\n",
        "spend_string = int2dollar(df.iloc[-1].spend)\n",
        "ax = df['spend'].plot()\n",
        "#add reference line showing budget target\n",
        "plt.axhline(y=budget, color='r', linestyle='-')\n",
        "text(x=df.index.min(), y=budget+budget/25, s=\"Target Budget: \"+ budget_string)\n",
        "\n",
        "#add reference line showing schedule target\n",
        "plt.axvline(x=schedule, color='g', linestyle='-')\n",
        "#text(x=(parser.parse(schedule) + pd.Timedelta(days=1)), y=budget*.1, s=\"Target Schedule \"+str(schedule))\n",
        "text(x=(parser.parse(schedule) + pd.Timedelta(days=.1)), y=0, s=\"Target Schedule \"+str(schedule))\n",
        "\n",
        "plt.title('Expenses to date for '+project_name+': '+spend_string);\n",
        "fmt = '${x:,.0f}'\n",
        "tick = mtick.StrMethodFormatter(fmt)\n",
        "ax.yaxis.set_major_formatter(tick) \n",
        "\n"
      ],
      "execution_count": 0,
      "outputs": []
    },
    {
      "cell_type": "code",
      "metadata": {
        "id": "Wsn84ADguyl4",
        "colab_type": "code",
        "cellView": "form",
        "colab": {}
      },
      "source": [
        "#@title Schedule Bullet Graph\n",
        "#A simple demonstration of date calculations.\n",
        "\n",
        "from datetime import date # Import\n",
        "\n",
        "start_date = date(2019,1,1)\n",
        "end_date = date.today()\n",
        "agreement_date = parser.parse(schedule) # schedule was set in the agreement form\n",
        "days_worked = df.index.max() - df.index.min() # subtract last record date from first\n",
        "days_worked.days\n",
        "days4job = agreement_date - df.index.min() # subtract the first recort date from agreement_date\n",
        "days4job.days\n",
        "data = [(project_name, days4job.days, days_worked.days)]\n",
        "limits = [0, days4job.days, days4job.days *2, days4job.days *3]\n",
        "labels = [\"OK\", \"Late\", \"Very Late\"]\n",
        "cats = [x[0] for x in data]\n",
        "\n",
        "#determine if we are late or still have days remaining\n",
        "if days4job.days > days_worked.days:\n",
        "  status = str(days4job.days - days_worked.days)+\" days remaining\"\n",
        "else:\n",
        "  status = str(days_worked.days - days4job.days)+\" days past due\"\n",
        "  \n",
        "# Calculate the percentage of schedule days used.             \n",
        "sch_pct = f'{days_worked.days/days4job.days*100:.2f}' +\"% \"  \n",
        "\n",
        "# Make the basic figure...\n",
        "p=figure(\n",
        "    title=sch_pct +\"Day \"+str(days_worked.days)+\" on a \"+str(days4job.days)+\" day project: \"+status, \n",
        "    plot_height=125, \n",
        "    plot_width=500, \n",
        "    y_range=cats,\n",
        "    toolbar_location=None,\n",
        ")\n",
        "p.x_range.range_padding = 0\n",
        "p.grid.grid_line_color = None\n",
        "p.xaxis[0].ticker.num_minor_ticks = 0\n",
        "\n",
        "for left, right, color in zip(limits[:-1], limits[1:], PuBu4[::-1]):\n",
        "    p.hbar(y=cats, left=left, right=right, height=0.8, color=color)\n",
        "    \n",
        "perf = [x[2] for x in data]\n",
        "p.hbar(y=cats, left=0, right=perf, height=0.3, color=\"gray\")\n",
        "\n",
        "comp = [x[1]for x in data]\n",
        "p.segment(x0=comp, y0=[(x, -0.5) for x in cats], x1=comp,\n",
        "          y1=[(x, 0.5) for x in cats], color=\"Firebrick\", line_width=2)\n",
        "\n",
        "for start, label in zip(limits[:-1], labels):\n",
        "    p.add_layout(Label(x=start, y=0, text=label, text_font_size=\"10pt\",\n",
        "                       text_color='black', y_offset=5, x_offset=15))\n",
        "    \n",
        "    \n",
        "p.add_layout(Label(x=start, y=0, text=label, text_font_size=\"10pt\",\n",
        "                       text_color='black', y_offset=5, x_offset=15)) \n",
        "\n",
        "citation = Label(x=days4job.days, y=50,  y_units='screen',\n",
        "                 text_font_size=\"8pt\", text= \"Target \"+schedule, render_mode='css', x_offset=5)\n",
        "\n",
        "p.add_layout(citation)\n",
        "\n",
        "output_notebook()\n",
        "show(p)"
      ],
      "execution_count": 0,
      "outputs": []
    },
    {
      "cell_type": "code",
      "metadata": {
        "id": "oO9R9ON2jixb",
        "colab_type": "code",
        "cellView": "form",
        "colab": {}
      },
      "source": [
        "#@title Expenses Bullet Graph\n",
        "\n",
        "spend2date = df.loc[df.index.max(),'spend']\n",
        "b_data = [(project_name, budget, spend2date)]\n",
        "b_limits = [0, budget, budget *2, budget *3]\n",
        "b_labels = [\"OK\", \"Over Budget\", \"Way Over Budget\"]\n",
        "b_cats = [x[0] for x in data]\n",
        "if budget > spend2date:\n",
        "  b_status = int2dollar(budget - spend2date)+\" budget remaining\"\n",
        "else:\n",
        "  b_status = int2dollar(spend2date - budget)+\" over target\"\n",
        "  \n",
        "              \n",
        "budget_pct = f'{spend2date/budget*100:.2f}' +\"% \"  \n",
        "\n",
        "bp=figure(\n",
        "    title=int2dollar(spend2date) +\" (\"+budget_pct+\") spent on a \"+int2dollar(budget)+\" budget target project: \"+b_status, \n",
        "    plot_height=125, \n",
        "    plot_width=700,  \n",
        "    y_range=b_cats,\n",
        "    toolbar_location=None,\n",
        ")\n",
        "bp.x_range.range_padding = 0\n",
        "bp.grid.grid_line_color = None\n",
        "bp.xaxis[0].ticker.num_minor_ticks = 0\n",
        "\n",
        "\n",
        "for left, right, color in zip(b_limits[:-1], b_limits[1:], PuBu4[::-1]):\n",
        "    bp.hbar(y=b_cats, left=left, right=right, height=0.8, color=color)\n",
        "    \n",
        "    \n",
        "b_perf = [x[2] for x in b_data]\n",
        "bp.hbar(y=b_cats, left=0, right=b_perf, height=0.3, color=\"gray\")\n",
        "\n",
        "b_comp = [x[1]for x in b_data]\n",
        "bp.segment(x0=b_comp, y0=[(x, -0.5) for x in b_cats], x1=b_comp,\n",
        "          y1=[(x, 0.5) for x in b_cats], color=\"Green\", line_width=2)\n",
        "\n",
        "for start, label in zip(b_limits[:-1], b_labels):\n",
        "    bp.add_layout(Label(x=start, y=0, text=label, text_font_size=\"10pt\",\n",
        "                       text_color='black', y_offset=5, x_offset=15))\n",
        "    \n",
        "    \n",
        "bp.add_layout(Label(x=start, y=0, text=label, text_font_size=\"10pt\",\n",
        "                       text_color='black', y_offset=5, x_offset=15)) \n",
        "    \n",
        "\n",
        "output_notebook()\n",
        "show(bp)\n"
      ],
      "execution_count": 0,
      "outputs": []
    },
    {
      "cell_type": "markdown",
      "metadata": {
        "id": "ddQS8sdJ5N2L",
        "colab_type": "text"
      },
      "source": [
        "# Analyzing Changes\n",
        "To create a change report .<br>\n",
        " <br>\n",
        "\n",
        "\n",
        "*    Look for changes in the number of connections.  \n",
        "*   Create a change pair. (The row that changed and the row prior) \n",
        "*   Analyze several aspects of the change pair\n",
        "*   Report \n",
        "\n",
        "\n"
      ]
    },
    {
      "cell_type": "code",
      "metadata": {
        "id": "R65QmyIyPctD",
        "colab_type": "code",
        "cellView": "form",
        "colab": {}
      },
      "source": [
        "#@title Change Report\n",
        "report = change_report(df, 'Connections')\n",
        "print(\"Count of changes : \", len(report))\n",
        "\n",
        "if report:\n",
        "  for chg_no, change in enumerate(report,1):\n",
        "    cdf = pd.DataFrame.from_records(change,  index=[0])\n",
        "    print(\"Stats on Change #\"+str(chg_no), project_name)\n",
        "    print(tabulate(cdf.T,  headers=\"keys\", tablefmt=\"fancy_grid\"))\n",
        "else:\n",
        "  print(\"No Changes\")\n"
      ],
      "execution_count": 0,
      "outputs": []
    },
    {
      "cell_type": "markdown",
      "metadata": {
        "id": "IS_gH979ZOT8",
        "colab_type": "text"
      },
      "source": [
        "![Thank yoy! ](https://i.imgur.com/yQILRPG.png)"
      ]
    }
  ]
}