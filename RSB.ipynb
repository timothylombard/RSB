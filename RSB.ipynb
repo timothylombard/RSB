{
  "nbformat": 4,
  "nbformat_minor": 0,
  "metadata": {
    "colab": {
      "name": "RSB.ipynb",
      "version": "0.3.2",
      "provenance": [],
      "collapsed_sections": [],
      "include_colab_link": true
    },
    "kernelspec": {
      "name": "python3",
      "display_name": "Python 3"
    }
  },
  "cells": [
    {
      "cell_type": "markdown",
      "metadata": {
        "id": "view-in-github",
        "colab_type": "text"
      },
      "source": [
        "<a href=\"https://colab.research.google.com/github/timothylombard/RSB/blob/master/RSB.ipynb\" target=\"_parent\"><img src=\"https://colab.research.google.com/assets/colab-badge.svg\" alt=\"Open In Colab\"/></a>"
      ]
    },
    {
      "cell_type": "markdown",
      "metadata": {
        "id": "jX4JSH0qu0Vy",
        "colab_type": "text"
      },
      "source": [
        "# **-1-**\n",
        "## **Analytic Approach to Project Management of PCB Designs**\n",
        "\n",
        "\n",
        "---\n",
        "\n"
      ]
    },
    {
      "cell_type": "markdown",
      "metadata": {
        "id": "PTIyhR0A-9ML",
        "colab_type": "text"
      },
      "source": [
        "\n",
        "The document you are reading is a Jupyter notebook, hosted in [Colaboratory.](https://colab.research.google.com/) It is not a static page, but an interactive environment that lets you write and execute code in [Python](https://www.python.org/).   Yes, this notebook runs real code! <br>  \n",
        "\n",
        "I assume no programming experience to use this notebook.  Python is meant to be easy to read and understand.  \n",
        "There will be some code cells that are straight forward and easy to understand.  Others are a bit nuanced and will take time and experience to fully understand. \n",
        "\n",
        "The graphs in this notebook can be changed by updating variables  in the agreement form. \n",
        "\n",
        " Use it, modify it, have fun!  Note: the [usual and customary restrictions apply.](https://github.com/timothylombard/RSB/blob/master/LICENSE) <br> \n",
        "##Note:\n",
        "If you are getting unexpected results try the following: <br>\n",
        "\n",
        "\n",
        "1.   Refresh notebook and re-run each cell in sequence.  \n",
        "2.   If the previous step doesn't work-  it could be because notebook has been altered from it's master source.      [Reload new copy to go back to starting point](https://colab.research.google.com/github/timothylombard/RSB/blob/master/RSB.ipynb). \n",
        "\n",
        "\n",
        "\n",
        "It is my intention that this notebook be curated by a cookbook of good ideas related to project management of data analysis recipes that can be applied to the practice of PCB development. \n"
      ]
    },
    {
      "cell_type": "markdown",
      "metadata": {
        "id": "ggbiCezdtHe6",
        "colab_type": "text"
      },
      "source": [
        "This is a Google Colab Notebook to explore a project for the Road Runner Service Bureau<br>\n",
        "![alt text](https://i.pinimg.com/564x/44/f9/b2/44f9b244eb21814faec6bef4c82c2023.jpg)\n"
      ]
    },
    {
      "cell_type": "markdown",
      "metadata": {
        "id": "WjcsQUkziaNt",
        "colab_type": "text"
      },
      "source": [
        "# **- 2 -**\n",
        "## **Enviroment setup to read and analyze data**\n",
        "\n",
        "Running the code cell after this will import the following python libraries that will be used.\n",
        "\n",
        "[*pandas*](http://pandas.pydata.org/) is a column-oriented data analysis API. It's a great tool for handling, cleaning, adding calculated fields and analyzing input data.   For a more complete reference, the [*pandas* docs site](http://pandas.pydata.org/pandas-docs/stable/index.html) contains extensive documentation and many tutorials.\n",
        "\n",
        "[Matplotlib](https://matplotlib.org/) is a Python 2D plotting library which produces publication quality figures in a variety of hardcopy formats and interactive environments across platforms. Matplotlib can be used in Python scripts, the Python and IPython shells, the Jupyter notebook, web application servers, and four graphical user interface toolkits.  It's easy to use with google colab!  \n",
        "\n",
        "[Seaborn:](https://seaborn.pydata.org/)  The seaborn package was developed based on the Matplotlib library. It is used to create more attractive and informative statistical graphics.\n",
        "\n",
        "\n",
        "\n",
        " [Parser](https://dateutil.readthedocs.io/en/stable/parser.html) from the dateutil library converts text like  1-Jan-2019 to a datetime object that enables dates to be easily analyzed. \n",
        "\n",
        "[Bokeh](https://bokeh.pydata.org/) is an interactive visualization library that targets modern web browsers for presentation. \n",
        "\n",
        "[Tabulate](https://pypi.org/project/tabulate/) Pretty-print tabular data in Python, a library and a command-line\n",
        "utility.\n",
        "\n",
        "\n"
      ]
    },
    {
      "cell_type": "code",
      "metadata": {
        "id": "FoIbhRu4HlO_",
        "colab_type": "code",
        "colab": {}
      },
      "source": [
        "import pandas as pd  #import the pandas module and shorten to pd\n",
        "\n",
        "%matplotlib inline\n",
        "import matplotlib.pyplot as plt\n",
        "from matplotlib.pyplot import text\n",
        "from matplotlib.ticker import FuncFormatter\n",
        "import matplotlib.ticker as mtick\n",
        "import seaborn; seaborn.set()\n",
        "\n",
        "\n",
        "from dateutil import parser\n",
        "\n",
        "from bokeh.io import show, output_notebook\n",
        "from bokeh.palettes import PuBu4\n",
        "from bokeh.plotting import figure\n",
        "from bokeh.models import Label\n",
        "\n",
        "\n",
        "from tabulate import tabulate\n",
        "\n"
      ],
      "execution_count": 0,
      "outputs": []
    },
    {
      "cell_type": "markdown",
      "metadata": {
        "id": "j95YXJcC_uM-",
        "colab_type": "text"
      },
      "source": [
        "## Setup functions to be used. \n",
        "\n",
        "Functions are code blocks that can be defined and reused.  It is customary in a python script to have functions defined just after the import statments. "
      ]
    },
    {
      "cell_type": "code",
      "metadata": {
        "id": "-FFhbUbjALiK",
        "colab_type": "code",
        "outputId": "92ed44be-1b96-4a49-b01b-c8e081eb1bda",
        "colab": {
          "base_uri": "https://localhost:8080/",
          "height": 34
        }
      },
      "source": [
        "def int2dollar(number):\n",
        "  ''' function that takes a number (float or integer) \n",
        "  and returns a currency string rounded up to the nearest dollar'''\n",
        "  \n",
        "  return f'${number:,.0f}'\n",
        "\n",
        "#let's test it\n",
        "int2dollar(12458329.59)"
      ],
      "execution_count": 39,
      "outputs": [
        {
          "output_type": "execute_result",
          "data": {
            "text/plain": [
              "'$12,458,330'"
            ]
          },
          "metadata": {
            "tags": []
          },
          "execution_count": 39
        }
      ]
    },
    {
      "cell_type": "markdown",
      "metadata": {
        "id": "eNJ46apVW1II",
        "colab_type": "text"
      },
      "source": [
        "#First Goal-  Let's make this placement and routing progress graph.<br>\n",
        "![place route progress over time](https://i.imgur.com/jsVcL2X.png)<br>\n"
      ]
    },
    {
      "cell_type": "markdown",
      "metadata": {
        "id": "3oSbIHnnual0",
        "colab_type": "text"
      },
      "source": [
        "# **- 3 -**\n",
        "## Basic terms of the agreement\n",
        "\n",
        "\n",
        "Let's set the budget and schedule parameters for this analysis.  These are variables that we can enter once and re-use. \n",
        "Use the form on the right of this cell to assign key terms of the agreement."
      ]
    },
    {
      "cell_type": "code",
      "metadata": {
        "id": "bKmbupibuoFS",
        "colab_type": "code",
        "colab": {}
      },
      "source": [
        "#@title Use this form to enter Key Agreement Details\n",
        "\n",
        "project_name = 'ABC_CPU_Motherboard' #@param {type:\"string\"}\n",
        "schedule = '2017-01-10' #@param {type:\"date\"}\n",
        "budget = 9000 #@param {type:\"number\"}\n",
        "regular_rate = 50.0 #@param {type:\"number\"}\n",
        "overtime_rate = 75.0 #@param {type:\"number\"}\n",
        "\n"
      ],
      "execution_count": 0,
      "outputs": []
    },
    {
      "cell_type": "markdown",
      "metadata": {
        "id": "4slo2_DYY3fY",
        "colab_type": "text"
      },
      "source": [
        "## To plot, we need data.\n",
        "For this exercise there is a csv file you can download from my git hub account.   We will create a variable and assign the path location of the csv file on github."
      ]
    },
    {
      "cell_type": "code",
      "metadata": {
        "id": "x0mr-QJiIcyW",
        "colab_type": "code",
        "colab": {}
      },
      "source": [
        "#assign variable link that points to copy of csv data\n",
        "link = 'https://raw.githubusercontent.com/timothylombard/RSB/master/RSBdata.csv' #variable link now points to copy of csv data"
      ],
      "execution_count": 0,
      "outputs": []
    },
    {
      "cell_type": "markdown",
      "metadata": {
        "id": "rselLLaHZGSu",
        "colab_type": "text"
      },
      "source": [
        "We can create a Pandas dataframe by reading in the link to the the CSV file.  "
      ]
    },
    {
      "cell_type": "code",
      "metadata": {
        "id": "toq4QhZRImJA",
        "colab_type": "code",
        "outputId": "b4959e4c-6230-4bfe-e2f0-92fe89b0f46d",
        "colab": {
          "base_uri": "https://localhost:8080/",
          "height": 404
        }
      },
      "source": [
        "df = pd.read_csv(link)   # Create a pandas dataframe from the data assigned to the link variable. \n",
        "df"
      ],
      "execution_count": 42,
      "outputs": [
        {
          "output_type": "execute_result",
          "data": {
            "text/html": [
              "<div>\n",
              "<style scoped>\n",
              "    .dataframe tbody tr th:only-of-type {\n",
              "        vertical-align: middle;\n",
              "    }\n",
              "\n",
              "    .dataframe tbody tr th {\n",
              "        vertical-align: top;\n",
              "    }\n",
              "\n",
              "    .dataframe thead th {\n",
              "        text-align: right;\n",
              "    }\n",
              "</style>\n",
              "<table border=\"1\" class=\"dataframe\">\n",
              "  <thead>\n",
              "    <tr style=\"text-align: right;\">\n",
              "      <th></th>\n",
              "      <th>Date</th>\n",
              "      <th>Placed</th>\n",
              "      <th>Total_Components</th>\n",
              "      <th>Connections</th>\n",
              "      <th>Connected</th>\n",
              "      <th>DRC_Errors</th>\n",
              "      <th>Reg_Hours</th>\n",
              "      <th>OT_Hours</th>\n",
              "    </tr>\n",
              "  </thead>\n",
              "  <tbody>\n",
              "    <tr>\n",
              "      <th>0</th>\n",
              "      <td>2017-01-01</td>\n",
              "      <td>0</td>\n",
              "      <td>2946</td>\n",
              "      <td>44190</td>\n",
              "      <td>0</td>\n",
              "      <td>0</td>\n",
              "      <td>12</td>\n",
              "      <td>0</td>\n",
              "    </tr>\n",
              "    <tr>\n",
              "      <th>1</th>\n",
              "      <td>2017-01-04</td>\n",
              "      <td>1432</td>\n",
              "      <td>2946</td>\n",
              "      <td>44190</td>\n",
              "      <td>948</td>\n",
              "      <td>4028</td>\n",
              "      <td>48</td>\n",
              "      <td>0</td>\n",
              "    </tr>\n",
              "    <tr>\n",
              "      <th>2</th>\n",
              "      <td>2017-01-07</td>\n",
              "      <td>2946</td>\n",
              "      <td>2946</td>\n",
              "      <td>44190</td>\n",
              "      <td>37922</td>\n",
              "      <td>266</td>\n",
              "      <td>48</td>\n",
              "      <td>18</td>\n",
              "    </tr>\n",
              "    <tr>\n",
              "      <th>3</th>\n",
              "      <td>2017-01-10</td>\n",
              "      <td>2946</td>\n",
              "      <td>2946</td>\n",
              "      <td>44190</td>\n",
              "      <td>44190</td>\n",
              "      <td>0</td>\n",
              "      <td>30</td>\n",
              "      <td>0</td>\n",
              "    </tr>\n",
              "    <tr>\n",
              "      <th>4</th>\n",
              "      <td>2017-01-13</td>\n",
              "      <td>2247</td>\n",
              "      <td>3588</td>\n",
              "      <td>65820</td>\n",
              "      <td>38489</td>\n",
              "      <td>9204</td>\n",
              "      <td>38</td>\n",
              "      <td>4</td>\n",
              "    </tr>\n",
              "    <tr>\n",
              "      <th>5</th>\n",
              "      <td>2017-01-16</td>\n",
              "      <td>3588</td>\n",
              "      <td>3588</td>\n",
              "      <td>65820</td>\n",
              "      <td>58612</td>\n",
              "      <td>4859</td>\n",
              "      <td>40</td>\n",
              "      <td>8</td>\n",
              "    </tr>\n",
              "    <tr>\n",
              "      <th>6</th>\n",
              "      <td>2017-01-18</td>\n",
              "      <td>3588</td>\n",
              "      <td>3588</td>\n",
              "      <td>65820</td>\n",
              "      <td>65820</td>\n",
              "      <td>0</td>\n",
              "      <td>16</td>\n",
              "      <td>4</td>\n",
              "    </tr>\n",
              "  </tbody>\n",
              "</table>\n",
              "</div>"
            ],
            "text/plain": [
              "         Date  Placed  Total_Components  ...  DRC_Errors  Reg_Hours  OT_Hours\n",
              "0  2017-01-01       0              2946  ...           0         12         0\n",
              "1  2017-01-04    1432              2946  ...        4028         48         0\n",
              "2  2017-01-07    2946              2946  ...         266         48        18\n",
              "3  2017-01-10    2946              2946  ...           0         30         0\n",
              "4  2017-01-13    2247              3588  ...        9204         38         4\n",
              "5  2017-01-16    3588              3588  ...        4859         40         8\n",
              "6  2017-01-18    3588              3588  ...           0         16         4\n",
              "\n",
              "[7 rows x 8 columns]"
            ]
          },
          "metadata": {
            "tags": []
          },
          "execution_count": 42
        }
      ]
    },
    {
      "cell_type": "code",
      "metadata": {
        "id": "R7AH-md2f8Zm",
        "colab_type": "code",
        "colab": {
          "base_uri": "https://localhost:8080/",
          "height": 154
        },
        "outputId": "92cd0015-968a-4212-bb05-a4b76c25e543"
      },
      "source": [
        "list(df)"
      ],
      "execution_count": 43,
      "outputs": [
        {
          "output_type": "execute_result",
          "data": {
            "text/plain": [
              "['Date',\n",
              " 'Placed',\n",
              " 'Total_Components',\n",
              " 'Connections',\n",
              " 'Connected',\n",
              " 'DRC_Errors',\n",
              " 'Reg_Hours',\n",
              " 'OT_Hours']"
            ]
          },
          "metadata": {
            "tags": []
          },
          "execution_count": 43
        }
      ]
    },
    {
      "cell_type": "markdown",
      "metadata": {
        "id": "ZiBEYISTvFcD",
        "colab_type": "text"
      },
      "source": [
        "# -4- Add another column of data based on a calculated field\n",
        "\n",
        "Percent placed can be calculated by using the formula-\n",
        "\n",
        "\n",
        "$Percent Placed = \\frac{parts Placed}{TotalComponentCount}$\n",
        "\n",
        "\n"
      ]
    },
    {
      "cell_type": "code",
      "metadata": {
        "id": "gPA0XtiOUIB-",
        "colab_type": "code",
        "outputId": "ba3d93c3-5252-484b-9007-4b69c4368a2b",
        "colab": {
          "base_uri": "https://localhost:8080/",
          "height": 404
        }
      },
      "source": [
        "# add a new calculated column for the percentage placed \n",
        "df['pctPlaced'] = df['Placed']/df['Total_Components']\n",
        "df\n"
      ],
      "execution_count": 44,
      "outputs": [
        {
          "output_type": "execute_result",
          "data": {
            "text/html": [
              "<div>\n",
              "<style scoped>\n",
              "    .dataframe tbody tr th:only-of-type {\n",
              "        vertical-align: middle;\n",
              "    }\n",
              "\n",
              "    .dataframe tbody tr th {\n",
              "        vertical-align: top;\n",
              "    }\n",
              "\n",
              "    .dataframe thead th {\n",
              "        text-align: right;\n",
              "    }\n",
              "</style>\n",
              "<table border=\"1\" class=\"dataframe\">\n",
              "  <thead>\n",
              "    <tr style=\"text-align: right;\">\n",
              "      <th></th>\n",
              "      <th>Date</th>\n",
              "      <th>Placed</th>\n",
              "      <th>Total_Components</th>\n",
              "      <th>Connections</th>\n",
              "      <th>Connected</th>\n",
              "      <th>DRC_Errors</th>\n",
              "      <th>Reg_Hours</th>\n",
              "      <th>OT_Hours</th>\n",
              "      <th>pctPlaced</th>\n",
              "    </tr>\n",
              "  </thead>\n",
              "  <tbody>\n",
              "    <tr>\n",
              "      <th>0</th>\n",
              "      <td>2017-01-01</td>\n",
              "      <td>0</td>\n",
              "      <td>2946</td>\n",
              "      <td>44190</td>\n",
              "      <td>0</td>\n",
              "      <td>0</td>\n",
              "      <td>12</td>\n",
              "      <td>0</td>\n",
              "      <td>0.000000</td>\n",
              "    </tr>\n",
              "    <tr>\n",
              "      <th>1</th>\n",
              "      <td>2017-01-04</td>\n",
              "      <td>1432</td>\n",
              "      <td>2946</td>\n",
              "      <td>44190</td>\n",
              "      <td>948</td>\n",
              "      <td>4028</td>\n",
              "      <td>48</td>\n",
              "      <td>0</td>\n",
              "      <td>0.486083</td>\n",
              "    </tr>\n",
              "    <tr>\n",
              "      <th>2</th>\n",
              "      <td>2017-01-07</td>\n",
              "      <td>2946</td>\n",
              "      <td>2946</td>\n",
              "      <td>44190</td>\n",
              "      <td>37922</td>\n",
              "      <td>266</td>\n",
              "      <td>48</td>\n",
              "      <td>18</td>\n",
              "      <td>1.000000</td>\n",
              "    </tr>\n",
              "    <tr>\n",
              "      <th>3</th>\n",
              "      <td>2017-01-10</td>\n",
              "      <td>2946</td>\n",
              "      <td>2946</td>\n",
              "      <td>44190</td>\n",
              "      <td>44190</td>\n",
              "      <td>0</td>\n",
              "      <td>30</td>\n",
              "      <td>0</td>\n",
              "      <td>1.000000</td>\n",
              "    </tr>\n",
              "    <tr>\n",
              "      <th>4</th>\n",
              "      <td>2017-01-13</td>\n",
              "      <td>2247</td>\n",
              "      <td>3588</td>\n",
              "      <td>65820</td>\n",
              "      <td>38489</td>\n",
              "      <td>9204</td>\n",
              "      <td>38</td>\n",
              "      <td>4</td>\n",
              "      <td>0.626254</td>\n",
              "    </tr>\n",
              "    <tr>\n",
              "      <th>5</th>\n",
              "      <td>2017-01-16</td>\n",
              "      <td>3588</td>\n",
              "      <td>3588</td>\n",
              "      <td>65820</td>\n",
              "      <td>58612</td>\n",
              "      <td>4859</td>\n",
              "      <td>40</td>\n",
              "      <td>8</td>\n",
              "      <td>1.000000</td>\n",
              "    </tr>\n",
              "    <tr>\n",
              "      <th>6</th>\n",
              "      <td>2017-01-18</td>\n",
              "      <td>3588</td>\n",
              "      <td>3588</td>\n",
              "      <td>65820</td>\n",
              "      <td>65820</td>\n",
              "      <td>0</td>\n",
              "      <td>16</td>\n",
              "      <td>4</td>\n",
              "      <td>1.000000</td>\n",
              "    </tr>\n",
              "  </tbody>\n",
              "</table>\n",
              "</div>"
            ],
            "text/plain": [
              "         Date  Placed  Total_Components  ...  Reg_Hours  OT_Hours  pctPlaced\n",
              "0  2017-01-01       0              2946  ...         12         0   0.000000\n",
              "1  2017-01-04    1432              2946  ...         48         0   0.486083\n",
              "2  2017-01-07    2946              2946  ...         48        18   1.000000\n",
              "3  2017-01-10    2946              2946  ...         30         0   1.000000\n",
              "4  2017-01-13    2247              3588  ...         38         4   0.626254\n",
              "5  2017-01-16    3588              3588  ...         40         8   1.000000\n",
              "6  2017-01-18    3588              3588  ...         16         4   1.000000\n",
              "\n",
              "[7 rows x 9 columns]"
            ]
          },
          "metadata": {
            "tags": []
          },
          "execution_count": 44
        }
      ]
    },
    {
      "cell_type": "markdown",
      "metadata": {
        "id": "Gmo0HB7y8lMV",
        "colab_type": "text"
      },
      "source": [
        " $Percent Connected = \\frac{Connected}{Connections}$"
      ]
    },
    {
      "cell_type": "code",
      "metadata": {
        "id": "nO7zPwWx9Ece",
        "colab_type": "code",
        "outputId": "55c2d93f-2dc2-4fe8-aced-a91b2c339609",
        "colab": {
          "base_uri": "https://localhost:8080/",
          "height": 404
        }
      },
      "source": [
        "# add a new calculated column for the percentage connected \n",
        "df['pctConn'] = df['Connected']/df['Connections']\n",
        "df"
      ],
      "execution_count": 45,
      "outputs": [
        {
          "output_type": "execute_result",
          "data": {
            "text/html": [
              "<div>\n",
              "<style scoped>\n",
              "    .dataframe tbody tr th:only-of-type {\n",
              "        vertical-align: middle;\n",
              "    }\n",
              "\n",
              "    .dataframe tbody tr th {\n",
              "        vertical-align: top;\n",
              "    }\n",
              "\n",
              "    .dataframe thead th {\n",
              "        text-align: right;\n",
              "    }\n",
              "</style>\n",
              "<table border=\"1\" class=\"dataframe\">\n",
              "  <thead>\n",
              "    <tr style=\"text-align: right;\">\n",
              "      <th></th>\n",
              "      <th>Date</th>\n",
              "      <th>Placed</th>\n",
              "      <th>Total_Components</th>\n",
              "      <th>Connections</th>\n",
              "      <th>Connected</th>\n",
              "      <th>DRC_Errors</th>\n",
              "      <th>Reg_Hours</th>\n",
              "      <th>OT_Hours</th>\n",
              "      <th>pctPlaced</th>\n",
              "      <th>pctConn</th>\n",
              "    </tr>\n",
              "  </thead>\n",
              "  <tbody>\n",
              "    <tr>\n",
              "      <th>0</th>\n",
              "      <td>2017-01-01</td>\n",
              "      <td>0</td>\n",
              "      <td>2946</td>\n",
              "      <td>44190</td>\n",
              "      <td>0</td>\n",
              "      <td>0</td>\n",
              "      <td>12</td>\n",
              "      <td>0</td>\n",
              "      <td>0.000000</td>\n",
              "      <td>0.000000</td>\n",
              "    </tr>\n",
              "    <tr>\n",
              "      <th>1</th>\n",
              "      <td>2017-01-04</td>\n",
              "      <td>1432</td>\n",
              "      <td>2946</td>\n",
              "      <td>44190</td>\n",
              "      <td>948</td>\n",
              "      <td>4028</td>\n",
              "      <td>48</td>\n",
              "      <td>0</td>\n",
              "      <td>0.486083</td>\n",
              "      <td>0.021453</td>\n",
              "    </tr>\n",
              "    <tr>\n",
              "      <th>2</th>\n",
              "      <td>2017-01-07</td>\n",
              "      <td>2946</td>\n",
              "      <td>2946</td>\n",
              "      <td>44190</td>\n",
              "      <td>37922</td>\n",
              "      <td>266</td>\n",
              "      <td>48</td>\n",
              "      <td>18</td>\n",
              "      <td>1.000000</td>\n",
              "      <td>0.858158</td>\n",
              "    </tr>\n",
              "    <tr>\n",
              "      <th>3</th>\n",
              "      <td>2017-01-10</td>\n",
              "      <td>2946</td>\n",
              "      <td>2946</td>\n",
              "      <td>44190</td>\n",
              "      <td>44190</td>\n",
              "      <td>0</td>\n",
              "      <td>30</td>\n",
              "      <td>0</td>\n",
              "      <td>1.000000</td>\n",
              "      <td>1.000000</td>\n",
              "    </tr>\n",
              "    <tr>\n",
              "      <th>4</th>\n",
              "      <td>2017-01-13</td>\n",
              "      <td>2247</td>\n",
              "      <td>3588</td>\n",
              "      <td>65820</td>\n",
              "      <td>38489</td>\n",
              "      <td>9204</td>\n",
              "      <td>38</td>\n",
              "      <td>4</td>\n",
              "      <td>0.626254</td>\n",
              "      <td>0.584761</td>\n",
              "    </tr>\n",
              "    <tr>\n",
              "      <th>5</th>\n",
              "      <td>2017-01-16</td>\n",
              "      <td>3588</td>\n",
              "      <td>3588</td>\n",
              "      <td>65820</td>\n",
              "      <td>58612</td>\n",
              "      <td>4859</td>\n",
              "      <td>40</td>\n",
              "      <td>8</td>\n",
              "      <td>1.000000</td>\n",
              "      <td>0.890489</td>\n",
              "    </tr>\n",
              "    <tr>\n",
              "      <th>6</th>\n",
              "      <td>2017-01-18</td>\n",
              "      <td>3588</td>\n",
              "      <td>3588</td>\n",
              "      <td>65820</td>\n",
              "      <td>65820</td>\n",
              "      <td>0</td>\n",
              "      <td>16</td>\n",
              "      <td>4</td>\n",
              "      <td>1.000000</td>\n",
              "      <td>1.000000</td>\n",
              "    </tr>\n",
              "  </tbody>\n",
              "</table>\n",
              "</div>"
            ],
            "text/plain": [
              "         Date  Placed  Total_Components  ...  OT_Hours  pctPlaced   pctConn\n",
              "0  2017-01-01       0              2946  ...         0   0.000000  0.000000\n",
              "1  2017-01-04    1432              2946  ...         0   0.486083  0.021453\n",
              "2  2017-01-07    2946              2946  ...        18   1.000000  0.858158\n",
              "3  2017-01-10    2946              2946  ...         0   1.000000  1.000000\n",
              "4  2017-01-13    2247              3588  ...         4   0.626254  0.584761\n",
              "5  2017-01-16    3588              3588  ...         8   1.000000  0.890489\n",
              "6  2017-01-18    3588              3588  ...         4   1.000000  1.000000\n",
              "\n",
              "[7 rows x 10 columns]"
            ]
          },
          "metadata": {
            "tags": []
          },
          "execution_count": 45
        }
      ]
    },
    {
      "cell_type": "markdown",
      "metadata": {
        "id": "bSB5xsLlgW3r",
        "colab_type": "text"
      },
      "source": [
        "Let's make our first plot.   "
      ]
    },
    {
      "cell_type": "code",
      "metadata": {
        "id": "0rChQtyXKwUr",
        "colab_type": "code",
        "outputId": "af251e5e-5550-4eb6-f893-68b487875d4a",
        "colab": {
          "base_uri": "https://localhost:8080/",
          "height": 274
        }
      },
      "source": [
        "df[['pctConn','pctPlaced']].plot();"
      ],
      "execution_count": 46,
      "outputs": [
        {
          "output_type": "display_data",
          "data": {
            "image/png": "[encoded data removed]",
            "text/plain": [
              "<Figure size 432x288 with 1 Axes>"
            ]
          },
          "metadata": {
            "tags": []
          }
        }
      ]
    },
    {
      "cell_type": "markdown",
      "metadata": {
        "id": "1-5VoQdUYNRA",
        "colab_type": "text"
      },
      "source": [
        "Notice the Y axis is a floating number between 0.0 and 1.0 and the X axis is an interger.   It would be more helpful if the X axis was a date rather than a sequence. \n",
        "To plot progess over time the data in the \"Date\" column needs to be converted into datetime format."
      ]
    },
    {
      "cell_type": "code",
      "metadata": {
        "id": "AG0s6NMFKHZZ",
        "colab_type": "code",
        "outputId": "a799bc82-2a2d-4fcd-93d3-7aa1d6ebc02d",
        "colab": {
          "base_uri": "https://localhost:8080/",
          "height": 404
        }
      },
      "source": [
        "#Convert the datatype of the Date column from a string to a datetime \n",
        "df['Date'] =  pd.to_datetime(df['Date'])\n",
        "df"
      ],
      "execution_count": 47,
      "outputs": [
        {
          "output_type": "execute_result",
          "data": {
            "text/html": [
              "<div>\n",
              "<style scoped>\n",
              "    .dataframe tbody tr th:only-of-type {\n",
              "        vertical-align: middle;\n",
              "    }\n",
              "\n",
              "    .dataframe tbody tr th {\n",
              "        vertical-align: top;\n",
              "    }\n",
              "\n",
              "    .dataframe thead th {\n",
              "        text-align: right;\n",
              "    }\n",
              "</style>\n",
              "<table border=\"1\" class=\"dataframe\">\n",
              "  <thead>\n",
              "    <tr style=\"text-align: right;\">\n",
              "      <th></th>\n",
              "      <th>Date</th>\n",
              "      <th>Placed</th>\n",
              "      <th>Total_Components</th>\n",
              "      <th>Connections</th>\n",
              "      <th>Connected</th>\n",
              "      <th>DRC_Errors</th>\n",
              "      <th>Reg_Hours</th>\n",
              "      <th>OT_Hours</th>\n",
              "      <th>pctPlaced</th>\n",
              "      <th>pctConn</th>\n",
              "    </tr>\n",
              "  </thead>\n",
              "  <tbody>\n",
              "    <tr>\n",
              "      <th>0</th>\n",
              "      <td>2017-01-01</td>\n",
              "      <td>0</td>\n",
              "      <td>2946</td>\n",
              "      <td>44190</td>\n",
              "      <td>0</td>\n",
              "      <td>0</td>\n",
              "      <td>12</td>\n",
              "      <td>0</td>\n",
              "      <td>0.000000</td>\n",
              "      <td>0.000000</td>\n",
              "    </tr>\n",
              "    <tr>\n",
              "      <th>1</th>\n",
              "      <td>2017-01-04</td>\n",
              "      <td>1432</td>\n",
              "      <td>2946</td>\n",
              "      <td>44190</td>\n",
              "      <td>948</td>\n",
              "      <td>4028</td>\n",
              "      <td>48</td>\n",
              "      <td>0</td>\n",
              "      <td>0.486083</td>\n",
              "      <td>0.021453</td>\n",
              "    </tr>\n",
              "    <tr>\n",
              "      <th>2</th>\n",
              "      <td>2017-01-07</td>\n",
              "      <td>2946</td>\n",
              "      <td>2946</td>\n",
              "      <td>44190</td>\n",
              "      <td>37922</td>\n",
              "      <td>266</td>\n",
              "      <td>48</td>\n",
              "      <td>18</td>\n",
              "      <td>1.000000</td>\n",
              "      <td>0.858158</td>\n",
              "    </tr>\n",
              "    <tr>\n",
              "      <th>3</th>\n",
              "      <td>2017-01-10</td>\n",
              "      <td>2946</td>\n",
              "      <td>2946</td>\n",
              "      <td>44190</td>\n",
              "      <td>44190</td>\n",
              "      <td>0</td>\n",
              "      <td>30</td>\n",
              "      <td>0</td>\n",
              "      <td>1.000000</td>\n",
              "      <td>1.000000</td>\n",
              "    </tr>\n",
              "    <tr>\n",
              "      <th>4</th>\n",
              "      <td>2017-01-13</td>\n",
              "      <td>2247</td>\n",
              "      <td>3588</td>\n",
              "      <td>65820</td>\n",
              "      <td>38489</td>\n",
              "      <td>9204</td>\n",
              "      <td>38</td>\n",
              "      <td>4</td>\n",
              "      <td>0.626254</td>\n",
              "      <td>0.584761</td>\n",
              "    </tr>\n",
              "    <tr>\n",
              "      <th>5</th>\n",
              "      <td>2017-01-16</td>\n",
              "      <td>3588</td>\n",
              "      <td>3588</td>\n",
              "      <td>65820</td>\n",
              "      <td>58612</td>\n",
              "      <td>4859</td>\n",
              "      <td>40</td>\n",
              "      <td>8</td>\n",
              "      <td>1.000000</td>\n",
              "      <td>0.890489</td>\n",
              "    </tr>\n",
              "    <tr>\n",
              "      <th>6</th>\n",
              "      <td>2017-01-18</td>\n",
              "      <td>3588</td>\n",
              "      <td>3588</td>\n",
              "      <td>65820</td>\n",
              "      <td>65820</td>\n",
              "      <td>0</td>\n",
              "      <td>16</td>\n",
              "      <td>4</td>\n",
              "      <td>1.000000</td>\n",
              "      <td>1.000000</td>\n",
              "    </tr>\n",
              "  </tbody>\n",
              "</table>\n",
              "</div>"
            ],
            "text/plain": [
              "        Date  Placed  Total_Components  ...  OT_Hours  pctPlaced   pctConn\n",
              "0 2017-01-01       0              2946  ...         0   0.000000  0.000000\n",
              "1 2017-01-04    1432              2946  ...         0   0.486083  0.021453\n",
              "2 2017-01-07    2946              2946  ...        18   1.000000  0.858158\n",
              "3 2017-01-10    2946              2946  ...         0   1.000000  1.000000\n",
              "4 2017-01-13    2247              3588  ...         4   0.626254  0.584761\n",
              "5 2017-01-16    3588              3588  ...         8   1.000000  0.890489\n",
              "6 2017-01-18    3588              3588  ...         4   1.000000  1.000000\n",
              "\n",
              "[7 rows x 10 columns]"
            ]
          },
          "metadata": {
            "tags": []
          },
          "execution_count": 47
        }
      ]
    },
    {
      "cell_type": "markdown",
      "metadata": {
        "id": "NzLZuwr1YrKy",
        "colab_type": "text"
      },
      "source": [
        "This data frame has an index just to the left of the Date column [0-6],   Lets use the Date column as the index with the command below."
      ]
    },
    {
      "cell_type": "code",
      "metadata": {
        "id": "1j40FHYONYIW",
        "colab_type": "code",
        "outputId": "cd13f0a9-1658-407e-99f4-8c1f0619f587",
        "colab": {
          "base_uri": "https://localhost:8080/",
          "height": 435
        }
      },
      "source": [
        "df.set_index('Date', inplace=True) #update the index to use the  the Date column to be index\n",
        "df"
      ],
      "execution_count": 48,
      "outputs": [
        {
          "output_type": "execute_result",
          "data": {
            "text/html": [
              "<div>\n",
              "<style scoped>\n",
              "    .dataframe tbody tr th:only-of-type {\n",
              "        vertical-align: middle;\n",
              "    }\n",
              "\n",
              "    .dataframe tbody tr th {\n",
              "        vertical-align: top;\n",
              "    }\n",
              "\n",
              "    .dataframe thead th {\n",
              "        text-align: right;\n",
              "    }\n",
              "</style>\n",
              "<table border=\"1\" class=\"dataframe\">\n",
              "  <thead>\n",
              "    <tr style=\"text-align: right;\">\n",
              "      <th></th>\n",
              "      <th>Placed</th>\n",
              "      <th>Total_Components</th>\n",
              "      <th>Connections</th>\n",
              "      <th>Connected</th>\n",
              "      <th>DRC_Errors</th>\n",
              "      <th>Reg_Hours</th>\n",
              "      <th>OT_Hours</th>\n",
              "      <th>pctPlaced</th>\n",
              "      <th>pctConn</th>\n",
              "    </tr>\n",
              "    <tr>\n",
              "      <th>Date</th>\n",
              "      <th></th>\n",
              "      <th></th>\n",
              "      <th></th>\n",
              "      <th></th>\n",
              "      <th></th>\n",
              "      <th></th>\n",
              "      <th></th>\n",
              "      <th></th>\n",
              "      <th></th>\n",
              "    </tr>\n",
              "  </thead>\n",
              "  <tbody>\n",
              "    <tr>\n",
              "      <th>2017-01-01</th>\n",
              "      <td>0</td>\n",
              "      <td>2946</td>\n",
              "      <td>44190</td>\n",
              "      <td>0</td>\n",
              "      <td>0</td>\n",
              "      <td>12</td>\n",
              "      <td>0</td>\n",
              "      <td>0.000000</td>\n",
              "      <td>0.000000</td>\n",
              "    </tr>\n",
              "    <tr>\n",
              "      <th>2017-01-04</th>\n",
              "      <td>1432</td>\n",
              "      <td>2946</td>\n",
              "      <td>44190</td>\n",
              "      <td>948</td>\n",
              "      <td>4028</td>\n",
              "      <td>48</td>\n",
              "      <td>0</td>\n",
              "      <td>0.486083</td>\n",
              "      <td>0.021453</td>\n",
              "    </tr>\n",
              "    <tr>\n",
              "      <th>2017-01-07</th>\n",
              "      <td>2946</td>\n",
              "      <td>2946</td>\n",
              "      <td>44190</td>\n",
              "      <td>37922</td>\n",
              "      <td>266</td>\n",
              "      <td>48</td>\n",
              "      <td>18</td>\n",
              "      <td>1.000000</td>\n",
              "      <td>0.858158</td>\n",
              "    </tr>\n",
              "    <tr>\n",
              "      <th>2017-01-10</th>\n",
              "      <td>2946</td>\n",
              "      <td>2946</td>\n",
              "      <td>44190</td>\n",
              "      <td>44190</td>\n",
              "      <td>0</td>\n",
              "      <td>30</td>\n",
              "      <td>0</td>\n",
              "      <td>1.000000</td>\n",
              "      <td>1.000000</td>\n",
              "    </tr>\n",
              "    <tr>\n",
              "      <th>2017-01-13</th>\n",
              "      <td>2247</td>\n",
              "      <td>3588</td>\n",
              "      <td>65820</td>\n",
              "      <td>38489</td>\n",
              "      <td>9204</td>\n",
              "      <td>38</td>\n",
              "      <td>4</td>\n",
              "      <td>0.626254</td>\n",
              "      <td>0.584761</td>\n",
              "    </tr>\n",
              "    <tr>\n",
              "      <th>2017-01-16</th>\n",
              "      <td>3588</td>\n",
              "      <td>3588</td>\n",
              "      <td>65820</td>\n",
              "      <td>58612</td>\n",
              "      <td>4859</td>\n",
              "      <td>40</td>\n",
              "      <td>8</td>\n",
              "      <td>1.000000</td>\n",
              "      <td>0.890489</td>\n",
              "    </tr>\n",
              "    <tr>\n",
              "      <th>2017-01-18</th>\n",
              "      <td>3588</td>\n",
              "      <td>3588</td>\n",
              "      <td>65820</td>\n",
              "      <td>65820</td>\n",
              "      <td>0</td>\n",
              "      <td>16</td>\n",
              "      <td>4</td>\n",
              "      <td>1.000000</td>\n",
              "      <td>1.000000</td>\n",
              "    </tr>\n",
              "  </tbody>\n",
              "</table>\n",
              "</div>"
            ],
            "text/plain": [
              "            Placed  Total_Components  ...  pctPlaced   pctConn\n",
              "Date                                  ...                     \n",
              "2017-01-01       0              2946  ...   0.000000  0.000000\n",
              "2017-01-04    1432              2946  ...   0.486083  0.021453\n",
              "2017-01-07    2946              2946  ...   1.000000  0.858158\n",
              "2017-01-10    2946              2946  ...   1.000000  1.000000\n",
              "2017-01-13    2247              3588  ...   0.626254  0.584761\n",
              "2017-01-16    3588              3588  ...   1.000000  0.890489\n",
              "2017-01-18    3588              3588  ...   1.000000  1.000000\n",
              "\n",
              "[7 rows x 9 columns]"
            ]
          },
          "metadata": {
            "tags": []
          },
          "execution_count": 48
        }
      ]
    },
    {
      "cell_type": "markdown",
      "metadata": {
        "id": "-aFeUDDoeJcy",
        "colab_type": "text"
      },
      "source": [
        "We can also adjust the Y-axis to be a percentage"
      ]
    },
    {
      "cell_type": "code",
      "metadata": {
        "id": "dvecPAKGwvP0",
        "colab_type": "code",
        "outputId": "92e47f17-362a-4255-dfe4-a0ca6e9cfdb9",
        "colab": {
          "base_uri": "https://localhost:8080/",
          "height": 310
        }
      },
      "source": [
        "ax = df[['pctConn','pctPlaced']].plot(title='Placement Routing Progress for '+project_name)\n",
        "ax.yaxis.set_major_formatter(FuncFormatter('{0:.0%}'.format))#format y-axis to %\n",
        "\n"
      ],
      "execution_count": 49,
      "outputs": [
        {
          "output_type": "display_data",
          "data": {
            "image/png": "[encoded data removed]",
            "text/plain": [
              "<Figure size 432x288 with 1 Axes>"
            ]
          },
          "metadata": {
            "tags": []
          }
        }
      ]
    },
    {
      "cell_type": "markdown",
      "metadata": {
        "id": "TQSLfIb6ziEm",
        "colab_type": "text"
      },
      "source": [
        "# -6- Budget Calculations"
      ]
    },
    {
      "cell_type": "markdown",
      "metadata": {
        "id": "mmhTUjoSsYrM",
        "colab_type": "text"
      },
      "source": [
        "First, lets create another calculated field for  Running Total  of the regular hours as time goes on."
      ]
    },
    {
      "cell_type": "code",
      "metadata": {
        "id": "pKoP8kxZLDf4",
        "colab_type": "code",
        "outputId": "66277650-2b2d-4837-cc53-fe951d821b5c",
        "colab": {
          "base_uri": "https://localhost:8080/",
          "height": 435
        }
      },
      "source": [
        "df['regrunning'] = df['Reg_Hours'].cumsum()\n",
        "df\n"
      ],
      "execution_count": 50,
      "outputs": [
        {
          "output_type": "execute_result",
          "data": {
            "text/html": [
              "<div>\n",
              "<style scoped>\n",
              "    .dataframe tbody tr th:only-of-type {\n",
              "        vertical-align: middle;\n",
              "    }\n",
              "\n",
              "    .dataframe tbody tr th {\n",
              "        vertical-align: top;\n",
              "    }\n",
              "\n",
              "    .dataframe thead th {\n",
              "        text-align: right;\n",
              "    }\n",
              "</style>\n",
              "<table border=\"1\" class=\"dataframe\">\n",
              "  <thead>\n",
              "    <tr style=\"text-align: right;\">\n",
              "      <th></th>\n",
              "      <th>Placed</th>\n",
              "      <th>Total_Components</th>\n",
              "      <th>Connections</th>\n",
              "      <th>Connected</th>\n",
              "      <th>DRC_Errors</th>\n",
              "      <th>Reg_Hours</th>\n",
              "      <th>OT_Hours</th>\n",
              "      <th>pctPlaced</th>\n",
              "      <th>pctConn</th>\n",
              "      <th>regrunning</th>\n",
              "    </tr>\n",
              "    <tr>\n",
              "      <th>Date</th>\n",
              "      <th></th>\n",
              "      <th></th>\n",
              "      <th></th>\n",
              "      <th></th>\n",
              "      <th></th>\n",
              "      <th></th>\n",
              "      <th></th>\n",
              "      <th></th>\n",
              "      <th></th>\n",
              "      <th></th>\n",
              "    </tr>\n",
              "  </thead>\n",
              "  <tbody>\n",
              "    <tr>\n",
              "      <th>2017-01-01</th>\n",
              "      <td>0</td>\n",
              "      <td>2946</td>\n",
              "      <td>44190</td>\n",
              "      <td>0</td>\n",
              "      <td>0</td>\n",
              "      <td>12</td>\n",
              "      <td>0</td>\n",
              "      <td>0.000000</td>\n",
              "      <td>0.000000</td>\n",
              "      <td>12</td>\n",
              "    </tr>\n",
              "    <tr>\n",
              "      <th>2017-01-04</th>\n",
              "      <td>1432</td>\n",
              "      <td>2946</td>\n",
              "      <td>44190</td>\n",
              "      <td>948</td>\n",
              "      <td>4028</td>\n",
              "      <td>48</td>\n",
              "      <td>0</td>\n",
              "      <td>0.486083</td>\n",
              "      <td>0.021453</td>\n",
              "      <td>60</td>\n",
              "    </tr>\n",
              "    <tr>\n",
              "      <th>2017-01-07</th>\n",
              "      <td>2946</td>\n",
              "      <td>2946</td>\n",
              "      <td>44190</td>\n",
              "      <td>37922</td>\n",
              "      <td>266</td>\n",
              "      <td>48</td>\n",
              "      <td>18</td>\n",
              "      <td>1.000000</td>\n",
              "      <td>0.858158</td>\n",
              "      <td>108</td>\n",
              "    </tr>\n",
              "    <tr>\n",
              "      <th>2017-01-10</th>\n",
              "      <td>2946</td>\n",
              "      <td>2946</td>\n",
              "      <td>44190</td>\n",
              "      <td>44190</td>\n",
              "      <td>0</td>\n",
              "      <td>30</td>\n",
              "      <td>0</td>\n",
              "      <td>1.000000</td>\n",
              "      <td>1.000000</td>\n",
              "      <td>138</td>\n",
              "    </tr>\n",
              "    <tr>\n",
              "      <th>2017-01-13</th>\n",
              "      <td>2247</td>\n",
              "      <td>3588</td>\n",
              "      <td>65820</td>\n",
              "      <td>38489</td>\n",
              "      <td>9204</td>\n",
              "      <td>38</td>\n",
              "      <td>4</td>\n",
              "      <td>0.626254</td>\n",
              "      <td>0.584761</td>\n",
              "      <td>176</td>\n",
              "    </tr>\n",
              "    <tr>\n",
              "      <th>2017-01-16</th>\n",
              "      <td>3588</td>\n",
              "      <td>3588</td>\n",
              "      <td>65820</td>\n",
              "      <td>58612</td>\n",
              "      <td>4859</td>\n",
              "      <td>40</td>\n",
              "      <td>8</td>\n",
              "      <td>1.000000</td>\n",
              "      <td>0.890489</td>\n",
              "      <td>216</td>\n",
              "    </tr>\n",
              "    <tr>\n",
              "      <th>2017-01-18</th>\n",
              "      <td>3588</td>\n",
              "      <td>3588</td>\n",
              "      <td>65820</td>\n",
              "      <td>65820</td>\n",
              "      <td>0</td>\n",
              "      <td>16</td>\n",
              "      <td>4</td>\n",
              "      <td>1.000000</td>\n",
              "      <td>1.000000</td>\n",
              "      <td>232</td>\n",
              "    </tr>\n",
              "  </tbody>\n",
              "</table>\n",
              "</div>"
            ],
            "text/plain": [
              "            Placed  Total_Components  ...   pctConn  regrunning\n",
              "Date                                  ...                      \n",
              "2017-01-01       0              2946  ...  0.000000          12\n",
              "2017-01-04    1432              2946  ...  0.021453          60\n",
              "2017-01-07    2946              2946  ...  0.858158         108\n",
              "2017-01-10    2946              2946  ...  1.000000         138\n",
              "2017-01-13    2247              3588  ...  0.584761         176\n",
              "2017-01-16    3588              3588  ...  0.890489         216\n",
              "2017-01-18    3588              3588  ...  1.000000         232\n",
              "\n",
              "[7 rows x 10 columns]"
            ]
          },
          "metadata": {
            "tags": []
          },
          "execution_count": 50
        }
      ]
    },
    {
      "cell_type": "markdown",
      "metadata": {
        "id": "D2xZOUwQsnFs",
        "colab_type": "text"
      },
      "source": [
        "Now let's create another calculated field for the running total  this time for overtime hours "
      ]
    },
    {
      "cell_type": "code",
      "metadata": {
        "id": "saW1xIz2sucX",
        "colab_type": "code",
        "outputId": "f7344f0a-9312-472d-9e6c-281d191ffd65",
        "colab": {
          "base_uri": "https://localhost:8080/",
          "height": 435
        }
      },
      "source": [
        "df['otrunning'] = df['OT_Hours'].cumsum()\n",
        "df"
      ],
      "execution_count": 51,
      "outputs": [
        {
          "output_type": "execute_result",
          "data": {
            "text/html": [
              "<div>\n",
              "<style scoped>\n",
              "    .dataframe tbody tr th:only-of-type {\n",
              "        vertical-align: middle;\n",
              "    }\n",
              "\n",
              "    .dataframe tbody tr th {\n",
              "        vertical-align: top;\n",
              "    }\n",
              "\n",
              "    .dataframe thead th {\n",
              "        text-align: right;\n",
              "    }\n",
              "</style>\n",
              "<table border=\"1\" class=\"dataframe\">\n",
              "  <thead>\n",
              "    <tr style=\"text-align: right;\">\n",
              "      <th></th>\n",
              "      <th>Placed</th>\n",
              "      <th>Total_Components</th>\n",
              "      <th>Connections</th>\n",
              "      <th>Connected</th>\n",
              "      <th>DRC_Errors</th>\n",
              "      <th>Reg_Hours</th>\n",
              "      <th>OT_Hours</th>\n",
              "      <th>pctPlaced</th>\n",
              "      <th>pctConn</th>\n",
              "      <th>regrunning</th>\n",
              "      <th>otrunning</th>\n",
              "    </tr>\n",
              "    <tr>\n",
              "      <th>Date</th>\n",
              "      <th></th>\n",
              "      <th></th>\n",
              "      <th></th>\n",
              "      <th></th>\n",
              "      <th></th>\n",
              "      <th></th>\n",
              "      <th></th>\n",
              "      <th></th>\n",
              "      <th></th>\n",
              "      <th></th>\n",
              "      <th></th>\n",
              "    </tr>\n",
              "  </thead>\n",
              "  <tbody>\n",
              "    <tr>\n",
              "      <th>2017-01-01</th>\n",
              "      <td>0</td>\n",
              "      <td>2946</td>\n",
              "      <td>44190</td>\n",
              "      <td>0</td>\n",
              "      <td>0</td>\n",
              "      <td>12</td>\n",
              "      <td>0</td>\n",
              "      <td>0.000000</td>\n",
              "      <td>0.000000</td>\n",
              "      <td>12</td>\n",
              "      <td>0</td>\n",
              "    </tr>\n",
              "    <tr>\n",
              "      <th>2017-01-04</th>\n",
              "      <td>1432</td>\n",
              "      <td>2946</td>\n",
              "      <td>44190</td>\n",
              "      <td>948</td>\n",
              "      <td>4028</td>\n",
              "      <td>48</td>\n",
              "      <td>0</td>\n",
              "      <td>0.486083</td>\n",
              "      <td>0.021453</td>\n",
              "      <td>60</td>\n",
              "      <td>0</td>\n",
              "    </tr>\n",
              "    <tr>\n",
              "      <th>2017-01-07</th>\n",
              "      <td>2946</td>\n",
              "      <td>2946</td>\n",
              "      <td>44190</td>\n",
              "      <td>37922</td>\n",
              "      <td>266</td>\n",
              "      <td>48</td>\n",
              "      <td>18</td>\n",
              "      <td>1.000000</td>\n",
              "      <td>0.858158</td>\n",
              "      <td>108</td>\n",
              "      <td>18</td>\n",
              "    </tr>\n",
              "    <tr>\n",
              "      <th>2017-01-10</th>\n",
              "      <td>2946</td>\n",
              "      <td>2946</td>\n",
              "      <td>44190</td>\n",
              "      <td>44190</td>\n",
              "      <td>0</td>\n",
              "      <td>30</td>\n",
              "      <td>0</td>\n",
              "      <td>1.000000</td>\n",
              "      <td>1.000000</td>\n",
              "      <td>138</td>\n",
              "      <td>18</td>\n",
              "    </tr>\n",
              "    <tr>\n",
              "      <th>2017-01-13</th>\n",
              "      <td>2247</td>\n",
              "      <td>3588</td>\n",
              "      <td>65820</td>\n",
              "      <td>38489</td>\n",
              "      <td>9204</td>\n",
              "      <td>38</td>\n",
              "      <td>4</td>\n",
              "      <td>0.626254</td>\n",
              "      <td>0.584761</td>\n",
              "      <td>176</td>\n",
              "      <td>22</td>\n",
              "    </tr>\n",
              "    <tr>\n",
              "      <th>2017-01-16</th>\n",
              "      <td>3588</td>\n",
              "      <td>3588</td>\n",
              "      <td>65820</td>\n",
              "      <td>58612</td>\n",
              "      <td>4859</td>\n",
              "      <td>40</td>\n",
              "      <td>8</td>\n",
              "      <td>1.000000</td>\n",
              "      <td>0.890489</td>\n",
              "      <td>216</td>\n",
              "      <td>30</td>\n",
              "    </tr>\n",
              "    <tr>\n",
              "      <th>2017-01-18</th>\n",
              "      <td>3588</td>\n",
              "      <td>3588</td>\n",
              "      <td>65820</td>\n",
              "      <td>65820</td>\n",
              "      <td>0</td>\n",
              "      <td>16</td>\n",
              "      <td>4</td>\n",
              "      <td>1.000000</td>\n",
              "      <td>1.000000</td>\n",
              "      <td>232</td>\n",
              "      <td>34</td>\n",
              "    </tr>\n",
              "  </tbody>\n",
              "</table>\n",
              "</div>"
            ],
            "text/plain": [
              "            Placed  Total_Components  ...  regrunning  otrunning\n",
              "Date                                  ...                       \n",
              "2017-01-01       0              2946  ...          12          0\n",
              "2017-01-04    1432              2946  ...          60          0\n",
              "2017-01-07    2946              2946  ...         108         18\n",
              "2017-01-10    2946              2946  ...         138         18\n",
              "2017-01-13    2247              3588  ...         176         22\n",
              "2017-01-16    3588              3588  ...         216         30\n",
              "2017-01-18    3588              3588  ...         232         34\n",
              "\n",
              "[7 rows x 11 columns]"
            ]
          },
          "metadata": {
            "tags": []
          },
          "execution_count": 51
        }
      ]
    },
    {
      "cell_type": "markdown",
      "metadata": {
        "id": "cXNIVvny1rlV",
        "colab_type": "text"
      },
      "source": [
        "**Remember the Agreement parameters?   Let's use some of those to determine how much of the budget we are spending**\n",
        "\n",
        "Let's create another column named \"spend\"  "
      ]
    },
    {
      "cell_type": "code",
      "metadata": {
        "id": "Lkep5cMN1qwc",
        "colab_type": "code",
        "colab": {
          "base_uri": "https://localhost:8080/",
          "height": 435
        },
        "outputId": "18857b63-896d-47ad-f168-614cb178f9ad"
      },
      "source": [
        "df['spend'] = df['regrunning']*regular_rate + df['otrunning']*overtime_rate\n",
        "df\n"
      ],
      "execution_count": 52,
      "outputs": [
        {
          "output_type": "execute_result",
          "data": {
            "text/html": [
              "<div>\n",
              "<style scoped>\n",
              "    .dataframe tbody tr th:only-of-type {\n",
              "        vertical-align: middle;\n",
              "    }\n",
              "\n",
              "    .dataframe tbody tr th {\n",
              "        vertical-align: top;\n",
              "    }\n",
              "\n",
              "    .dataframe thead th {\n",
              "        text-align: right;\n",
              "    }\n",
              "</style>\n",
              "<table border=\"1\" class=\"dataframe\">\n",
              "  <thead>\n",
              "    <tr style=\"text-align: right;\">\n",
              "      <th></th>\n",
              "      <th>Placed</th>\n",
              "      <th>Total_Components</th>\n",
              "      <th>Connections</th>\n",
              "      <th>Connected</th>\n",
              "      <th>DRC_Errors</th>\n",
              "      <th>Reg_Hours</th>\n",
              "      <th>OT_Hours</th>\n",
              "      <th>pctPlaced</th>\n",
              "      <th>pctConn</th>\n",
              "      <th>regrunning</th>\n",
              "      <th>otrunning</th>\n",
              "      <th>spend</th>\n",
              "    </tr>\n",
              "    <tr>\n",
              "      <th>Date</th>\n",
              "      <th></th>\n",
              "      <th></th>\n",
              "      <th></th>\n",
              "      <th></th>\n",
              "      <th></th>\n",
              "      <th></th>\n",
              "      <th></th>\n",
              "      <th></th>\n",
              "      <th></th>\n",
              "      <th></th>\n",
              "      <th></th>\n",
              "      <th></th>\n",
              "    </tr>\n",
              "  </thead>\n",
              "  <tbody>\n",
              "    <tr>\n",
              "      <th>2017-01-01</th>\n",
              "      <td>0</td>\n",
              "      <td>2946</td>\n",
              "      <td>44190</td>\n",
              "      <td>0</td>\n",
              "      <td>0</td>\n",
              "      <td>12</td>\n",
              "      <td>0</td>\n",
              "      <td>0.000000</td>\n",
              "      <td>0.000000</td>\n",
              "      <td>12</td>\n",
              "      <td>0</td>\n",
              "      <td>600.0</td>\n",
              "    </tr>\n",
              "    <tr>\n",
              "      <th>2017-01-04</th>\n",
              "      <td>1432</td>\n",
              "      <td>2946</td>\n",
              "      <td>44190</td>\n",
              "      <td>948</td>\n",
              "      <td>4028</td>\n",
              "      <td>48</td>\n",
              "      <td>0</td>\n",
              "      <td>0.486083</td>\n",
              "      <td>0.021453</td>\n",
              "      <td>60</td>\n",
              "      <td>0</td>\n",
              "      <td>3000.0</td>\n",
              "    </tr>\n",
              "    <tr>\n",
              "      <th>2017-01-07</th>\n",
              "      <td>2946</td>\n",
              "      <td>2946</td>\n",
              "      <td>44190</td>\n",
              "      <td>37922</td>\n",
              "      <td>266</td>\n",
              "      <td>48</td>\n",
              "      <td>18</td>\n",
              "      <td>1.000000</td>\n",
              "      <td>0.858158</td>\n",
              "      <td>108</td>\n",
              "      <td>18</td>\n",
              "      <td>6750.0</td>\n",
              "    </tr>\n",
              "    <tr>\n",
              "      <th>2017-01-10</th>\n",
              "      <td>2946</td>\n",
              "      <td>2946</td>\n",
              "      <td>44190</td>\n",
              "      <td>44190</td>\n",
              "      <td>0</td>\n",
              "      <td>30</td>\n",
              "      <td>0</td>\n",
              "      <td>1.000000</td>\n",
              "      <td>1.000000</td>\n",
              "      <td>138</td>\n",
              "      <td>18</td>\n",
              "      <td>8250.0</td>\n",
              "    </tr>\n",
              "    <tr>\n",
              "      <th>2017-01-13</th>\n",
              "      <td>2247</td>\n",
              "      <td>3588</td>\n",
              "      <td>65820</td>\n",
              "      <td>38489</td>\n",
              "      <td>9204</td>\n",
              "      <td>38</td>\n",
              "      <td>4</td>\n",
              "      <td>0.626254</td>\n",
              "      <td>0.584761</td>\n",
              "      <td>176</td>\n",
              "      <td>22</td>\n",
              "      <td>10450.0</td>\n",
              "    </tr>\n",
              "    <tr>\n",
              "      <th>2017-01-16</th>\n",
              "      <td>3588</td>\n",
              "      <td>3588</td>\n",
              "      <td>65820</td>\n",
              "      <td>58612</td>\n",
              "      <td>4859</td>\n",
              "      <td>40</td>\n",
              "      <td>8</td>\n",
              "      <td>1.000000</td>\n",
              "      <td>0.890489</td>\n",
              "      <td>216</td>\n",
              "      <td>30</td>\n",
              "      <td>13050.0</td>\n",
              "    </tr>\n",
              "    <tr>\n",
              "      <th>2017-01-18</th>\n",
              "      <td>3588</td>\n",
              "      <td>3588</td>\n",
              "      <td>65820</td>\n",
              "      <td>65820</td>\n",
              "      <td>0</td>\n",
              "      <td>16</td>\n",
              "      <td>4</td>\n",
              "      <td>1.000000</td>\n",
              "      <td>1.000000</td>\n",
              "      <td>232</td>\n",
              "      <td>34</td>\n",
              "      <td>14150.0</td>\n",
              "    </tr>\n",
              "  </tbody>\n",
              "</table>\n",
              "</div>"
            ],
            "text/plain": [
              "            Placed  Total_Components  ...  otrunning    spend\n",
              "Date                                  ...                    \n",
              "2017-01-01       0              2946  ...          0    600.0\n",
              "2017-01-04    1432              2946  ...          0   3000.0\n",
              "2017-01-07    2946              2946  ...         18   6750.0\n",
              "2017-01-10    2946              2946  ...         18   8250.0\n",
              "2017-01-13    2247              3588  ...         22  10450.0\n",
              "2017-01-16    3588              3588  ...         30  13050.0\n",
              "2017-01-18    3588              3588  ...         34  14150.0\n",
              "\n",
              "[7 rows x 12 columns]"
            ]
          },
          "metadata": {
            "tags": []
          },
          "execution_count": 52
        }
      ]
    },
    {
      "cell_type": "code",
      "metadata": {
        "id": "zKchk4eYKIv1",
        "colab_type": "code",
        "colab": {
          "base_uri": "https://localhost:8080/",
          "height": 34
        },
        "outputId": "d6a8c5bf-da1f-4f68-caf1-bf6f71a1f08f"
      },
      "source": [
        "print(parser.parse(schedule) + pd.Timedelta(days=1))\n"
      ],
      "execution_count": 62,
      "outputs": [
        {
          "output_type": "stream",
          "text": [
            "2017-01-11 00:00:00\n"
          ],
          "name": "stdout"
        }
      ]
    },
    {
      "cell_type": "markdown",
      "metadata": {
        "id": "DvYi49Nsyuw6",
        "colab_type": "text"
      },
      "source": [
        "Now let's make a \"Spend over time plot\""
      ]
    },
    {
      "cell_type": "code",
      "metadata": {
        "id": "S_f92_Rs6AIp",
        "colab_type": "code",
        "outputId": "2eb0c645-6970-48af-cb83-d5ac65a624b8",
        "colab": {
          "base_uri": "https://localhost:8080/",
          "height": 310
        }
      },
      "source": [
        "budget_string = int2dollar(budget)\n",
        "ax = df['spend'].plot()\n",
        "#add reference line showing budget target\n",
        "plt.axhline(y=budget, color='r', linestyle='-')\n",
        "text(x=df.index.min(), y=budget+budget/25, s=\"Target Budget: \"+ budget_string)\n",
        "\n",
        "#add reference line showing schedule target\n",
        "plt.axvline(x=schedule, color='g', linestyle='-')\n",
        "text(x=(parser.parse(schedule) + pd.Timedelta(days=1)), y=budget*.9, s=\"Target Schedule \"+str(schedule))\n",
        "\n",
        "plt.title('Expenses to date for '+project_name);\n",
        "fmt = '${x:,.0f}'\n",
        "tick = mtick.StrMethodFormatter(fmt)\n",
        "ax.yaxis.set_major_formatter(tick) \n"
      ],
      "execution_count": 64,
      "outputs": [
        {
          "output_type": "display_data",
          "data": {
            "image/png": "[encoded data removed]",
            "text/plain": [
              "<Figure size 432x288 with 1 Axes>"
            ]
          },
          "metadata": {
            "tags": []
          }
        }
      ]
    },
    {
      "cell_type": "code",
      "metadata": {
        "id": "Wsn84ADguyl4",
        "colab_type": "code",
        "colab": {}
      },
      "source": [
        "#A simple demonstration of date calculations.\n",
        "\n",
        "from datetime import date # Import\n",
        "\n",
        "start_date = date(2019,1,1)\n",
        "end_date = date.today()\n",
        "\n",
        "print(end_date - start_date)"
      ],
      "execution_count": 0,
      "outputs": []
    },
    {
      "cell_type": "markdown",
      "metadata": {
        "id": "UgMy73pvth6R",
        "colab_type": "text"
      },
      "source": [
        "Let's use time calulactions to set some variables about our project.\n",
        "\n",
        "Create a days_worked variable"
      ]
    },
    {
      "cell_type": "code",
      "metadata": {
        "id": "dj2pF4BGmMi8",
        "colab_type": "code",
        "colab": {}
      },
      "source": [
        "\n",
        "agreement_date = parser.parse(schedule) # schedule was set in the agreement form\n",
        "days_worked = df.index.max() - df.index.min() # subtract last record date from first\n",
        "days_worked.days"
      ],
      "execution_count": 0,
      "outputs": []
    },
    {
      "cell_type": "markdown",
      "metadata": {
        "id": "jIZs4Z0-uxQ0",
        "colab_type": "text"
      },
      "source": [
        "Create a days4job variable"
      ]
    },
    {
      "cell_type": "code",
      "metadata": {
        "id": "XNvy0Kgppl4E",
        "colab_type": "code",
        "colab": {}
      },
      "source": [
        "days4job = agreement_date - df.index.min() # subtract the first recort date from agreement_date\n",
        "days4job.days\n"
      ],
      "execution_count": 0,
      "outputs": []
    },
    {
      "cell_type": "markdown",
      "metadata": {
        "id": "ibhvBDvHq_UQ",
        "colab_type": "text"
      },
      "source": [
        "# - 8 -  Recipe: High infomation bullet graph for Schedule\n",
        "\n",
        "Note:  A Bullet Graph visualizes a performance metric compared to a target. \n",
        "We are going to  use some of the time variables we just created make a graph like this...<br>\n",
        "![Schedule bullet graph](https://i.imgur.com/whub7dv.png)\n",
        "\n",
        "First let's do a little setup.  "
      ]
    },
    {
      "cell_type": "code",
      "metadata": {
        "id": "07rTWONcYtXy",
        "colab_type": "code",
        "colab": {}
      },
      "source": [
        "\n",
        "data = [(project_name, days4job.days, days_worked.days)]\n",
        "limits = [0, days4job.days, days4job.days *2, days4job.days *3]\n",
        "labels = [\"OK\", \"Late\", \"Very Late\"]\n",
        "cats = [x[0] for x in data]\n"
      ],
      "execution_count": 0,
      "outputs": []
    },
    {
      "cell_type": "markdown",
      "metadata": {
        "id": "5kpm9jul1MFE",
        "colab_type": "text"
      },
      "source": [
        "Create the basic graph with an informative title"
      ]
    },
    {
      "cell_type": "code",
      "metadata": {
        "id": "KEy3RlI_a0KU",
        "colab_type": "code",
        "colab": {}
      },
      "source": [
        "#determine if we are late or still have days remaining\n",
        "if days4job.days > days_worked.days:\n",
        "  status = str(days4job.days - days_worked.days)+\" days remaining\"\n",
        "else:\n",
        "  status = str(days_worked.days - days4job.days)+\" days past due\"\n",
        "  \n",
        "# Calculate the percentage of schedule days used.             \n",
        "sch_pct = f'{days_worked.days/days4job.days*100:.2f}' +\"% \"  \n",
        "\n",
        "# Make the basic figure...\n",
        "p=figure(\n",
        "    title=sch_pct +\"Day \"+str(days_worked.days)+\" on a \"+str(days4job.days)+\" day project: \"+status, \n",
        "    plot_height=125, \n",
        "    plot_width=500, \n",
        "    y_range=cats,\n",
        "    toolbar_location=None,\n",
        ")\n",
        "p.x_range.range_padding = 0\n",
        "p.grid.grid_line_color = None\n",
        "p.xaxis[0].ticker.num_minor_ticks = 0\n",
        "\n",
        "for left, right, color in zip(limits[:-1], limits[1:], PuBu4[::-1]):\n",
        "    p.hbar(y=cats, left=left, right=right, height=0.8, color=color)\n",
        "    \n",
        "output_notebook()\n",
        "show(p)"
      ],
      "execution_count": 0,
      "outputs": []
    },
    {
      "cell_type": "markdown",
      "metadata": {
        "id": "sasFdUu31ZWA",
        "colab_type": "text"
      },
      "source": [
        "Draw a horizontal bar showing the days that have been worked."
      ]
    },
    {
      "cell_type": "code",
      "metadata": {
        "id": "lY8QJgUTi9fy",
        "colab_type": "code",
        "colab": {}
      },
      "source": [
        "perf = [x[2] for x in data]\n",
        "p.hbar(y=cats, left=0, right=perf, height=0.3, color=\"gray\")\n",
        "\n",
        "output_notebook()\n",
        "show(p)"
      ],
      "execution_count": 0,
      "outputs": []
    },
    {
      "cell_type": "markdown",
      "metadata": {
        "id": "QXhV1UKB1mu6",
        "colab_type": "text"
      },
      "source": [
        "Draw an red (Firebrick) line that indicates the schedule goal"
      ]
    },
    {
      "cell_type": "code",
      "metadata": {
        "id": "KLljgpXGjO0z",
        "colab_type": "code",
        "colab": {}
      },
      "source": [
        "comp = [x[1]for x in data]\n",
        "p.segment(x0=comp, y0=[(x, -0.5) for x in cats], x1=comp,\n",
        "          y1=[(x, 0.5) for x in cats], color=\"Firebrick\", line_width=2)\n",
        "\n",
        "output_notebook()\n",
        "show(p)"
      ],
      "execution_count": 0,
      "outputs": []
    },
    {
      "cell_type": "markdown",
      "metadata": {
        "id": "ezwyNCMf2NZI",
        "colab_type": "text"
      },
      "source": [
        "Add the lables (OK, Late, Very Late) we assigned earlier"
      ]
    },
    {
      "cell_type": "code",
      "metadata": {
        "id": "6Obac2APvVKu",
        "colab_type": "code",
        "colab": {}
      },
      "source": [
        "for start, label in zip(limits[:-1], labels):\n",
        "    p.add_layout(Label(x=start, y=0, text=label, text_font_size=\"10pt\",\n",
        "                       text_color='black', y_offset=5, x_offset=15))\n",
        "    \n",
        "    \n",
        "p.add_layout(Label(x=start, y=0, text=label, text_font_size=\"10pt\",\n",
        "                       text_color='black', y_offset=5, x_offset=15))    \n",
        "output_notebook()\n",
        "show(p)\n"
      ],
      "execution_count": 0,
      "outputs": []
    },
    {
      "cell_type": "markdown",
      "metadata": {
        "id": "dv1UW7_f2rdn",
        "colab_type": "text"
      },
      "source": [
        "Add text near the red line that details the target date"
      ]
    },
    {
      "cell_type": "code",
      "metadata": {
        "id": "ftSS8OPk2t8C",
        "colab_type": "code",
        "colab": {}
      },
      "source": [
        "citation = Label(x=days4job.days, y=50,  y_units='screen',\n",
        "                 text_font_size=\"8pt\", text= \"Target \"+schedule, render_mode='css', x_offset=5)\n",
        "\n",
        "p.add_layout(citation)\n",
        "\n",
        "output_notebook()\n",
        "show(p)"
      ],
      "execution_count": 0,
      "outputs": []
    },
    {
      "cell_type": "markdown",
      "metadata": {
        "id": "UTvk3mXAcV3y",
        "colab_type": "text"
      },
      "source": [
        "# - 9 -  Recipe: High infomation bullet graph for Budget"
      ]
    },
    {
      "cell_type": "markdown",
      "metadata": {
        "id": "LhS7-E-KksT-",
        "colab_type": "text"
      },
      "source": [
        "### Get the latest stats\n",
        "###To get the latest statistic from our dataframe we can use the index.max() function"
      ]
    },
    {
      "cell_type": "code",
      "metadata": {
        "id": "oX5FNVDuSiBb",
        "colab_type": "code",
        "colab": {}
      },
      "source": [
        "# This shows the max value of our dataframe index\n",
        "df.index.max()"
      ],
      "execution_count": 0,
      "outputs": []
    },
    {
      "cell_type": "code",
      "metadata": {
        "id": "oO9R9ON2jixb",
        "colab_type": "code",
        "colab": {}
      },
      "source": [
        "#spend2date can be determined by the value of spend in the last row of the dataframe\n",
        "spend2date = df.loc[df.index.max(),'spend']\n",
        "print(spend2date)"
      ],
      "execution_count": 0,
      "outputs": []
    },
    {
      "cell_type": "markdown",
      "metadata": {
        "id": "X2ttHwM_rav2",
        "colab_type": "text"
      },
      "source": [
        "Earlier we created a function- int2dollar    This function takes a number as input and returns a currency string. \n",
        "Let's test it out on the spend2dat variable we just created. Let's try it on the spend2date variable"
      ]
    },
    {
      "cell_type": "code",
      "metadata": {
        "id": "SbkxsmUFsB36",
        "colab_type": "code",
        "colab": {}
      },
      "source": [
        "int2dollar(spend2date)"
      ],
      "execution_count": 0,
      "outputs": []
    },
    {
      "cell_type": "markdown",
      "metadata": {
        "id": "klKIlRWafNUE",
        "colab_type": "text"
      },
      "source": [
        "## Setup base graphic  for spend bullet graph"
      ]
    },
    {
      "cell_type": "code",
      "metadata": {
        "id": "rG3OlbGTfbL0",
        "colab_type": "code",
        "colab": {}
      },
      "source": [
        "b_data = [(project_name, budget, spend2date)]\n",
        "b_limits = [0, budget, budget *2, budget *3]\n",
        "b_labels = [\"OK\", \"Over Budget\", \"Way Over Budget\"]\n",
        "b_cats = [x[0] for x in data]\n",
        "print(b_data, b_limits, b_labels, b_cats)"
      ],
      "execution_count": 0,
      "outputs": []
    },
    {
      "cell_type": "code",
      "metadata": {
        "id": "4wjwmCxMgzl3",
        "colab_type": "code",
        "colab": {}
      },
      "source": [
        "if budget > spend2date:\n",
        "  b_status = int2dollar(budget - spend2date)+\" budget remaining\"\n",
        "else:\n",
        "  b_status = int2dollar(spend2date - budget)+\" over target\"\n",
        "  \n",
        "              \n",
        "budget_pct = f'{spend2date/budget*100:.2f}' +\"% \"  \n",
        "\n",
        "bp=figure(\n",
        "    title=int2dollar(spend2date) +\" (\"+budget_pct+\") spent on a \"+int2dollar(budget)+\" budget target project: \"+b_status, \n",
        "    plot_height=125, \n",
        "    plot_width=700,  \n",
        "    y_range=b_cats,\n",
        "    toolbar_location=None,\n",
        ")\n",
        "bp.x_range.range_padding = 0\n",
        "bp.grid.grid_line_color = None\n",
        "bp.xaxis[0].ticker.num_minor_ticks = 0\n",
        "\n",
        "\n",
        "for left, right, color in zip(b_limits[:-1], b_limits[1:], PuBu4[::-1]):\n",
        "    bp.hbar(y=b_cats, left=left, right=right, height=0.8, color=color)\n",
        "    \n",
        "    \n",
        "b_perf = [x[2] for x in b_data]\n",
        "bp.hbar(y=b_cats, left=0, right=b_perf, height=0.3, color=\"gray\")\n",
        "\n",
        "b_comp = [x[1]for x in b_data]\n",
        "bp.segment(x0=b_comp, y0=[(x, -0.5) for x in b_cats], x1=b_comp,\n",
        "          y1=[(x, 0.5) for x in b_cats], color=\"Green\", line_width=2)\n",
        "\n",
        "for start, label in zip(b_limits[:-1], b_labels):\n",
        "    bp.add_layout(Label(x=start, y=0, text=label, text_font_size=\"10pt\",\n",
        "                       text_color='black', y_offset=5, x_offset=15))\n",
        "    \n",
        "    \n",
        "bp.add_layout(Label(x=start, y=0, text=label, text_font_size=\"10pt\",\n",
        "                       text_color='black', y_offset=5, x_offset=15)) \n",
        "    \n",
        "\n",
        "output_notebook()\n",
        "show(bp)"
      ],
      "execution_count": 0,
      "outputs": []
    },
    {
      "cell_type": "markdown",
      "metadata": {
        "id": "ddQS8sdJ5N2L",
        "colab_type": "text"
      },
      "source": [
        "# Analyzing Changes\n",
        "Let's now make a change report that shows when things changed and the impact of this change.<br>\n",
        " <br>\n",
        "\n",
        "\n",
        "*   First we define a new function that looks for changes in the number of connections.  \n",
        "*   Then we create a change pair-  the row that changed and the row prior \n",
        "*   Then by comparing data in the two change pair rows we can make some interesting analysis. \n",
        "*   Store  and return our findings in a [python dictionary for reporting](https://www.w3schools.com/python/python_dictionaries.asp)\n",
        "\n",
        "Just a reminder of our dataframe.\n",
        "\n",
        "From looking at the connections column we can see that a changed happend on January 13. To determine the impact of this change, we can compare that row with the row prior (before the change)\n"
      ]
    },
    {
      "cell_type": "code",
      "metadata": {
        "id": "lrCtVzoQ-g87",
        "colab_type": "code",
        "colab": {}
      },
      "source": [
        "df"
      ],
      "execution_count": 0,
      "outputs": []
    },
    {
      "cell_type": "code",
      "metadata": {
        "id": "Qgl9WakCHOAC",
        "colab_type": "code",
        "colab": {}
      },
      "source": [
        "def change_report(dataframe, column2check):\n",
        "  ''' function that takes a dataframe and a columnname and returns diff report '''\n",
        "  changes = [] #This is an empty list to store our change data\n",
        "  series_to_check = dataframe[column2check] \n",
        "  change_pairs = [(i, i-1) for i in range(1,len(series_to_check)-1) \n",
        "                  if series_to_check[i]!=series_to_check[i-1] ]\n",
        "  \n",
        "  for x in change_pairs:\n",
        "    \n",
        "    change = list(df.iloc[[x[0]]].itertuples())\n",
        "    prior = list(df.iloc[[x[1]]].itertuples())\n",
        "    conn_diff = change[0].Connections - prior[0].Connections\n",
        "    pct_conn_diff = conn_diff /  prior[0].Connections\n",
        "    comp_diff = change[0].Total_Components - prior[0].Total_Components\n",
        "    pct_comp_diff = comp_diff / prior[0].Total_Components\n",
        "    \n",
        "    changes.append({\"-0- Change Date\":change[0].Index.date(),\n",
        "        \"-1.0- Connections\":change[0].Connections,\n",
        "        \"-1.1- Previous Connections\":prior[0].Connections,\n",
        "        \"-1.2- Diff in Conns\": conn_diff,\n",
        "        \"-1.3- Pct Change Conns\": f'{pct_conn_diff :.2%}',\n",
        "        \"-2.0- Component Count\": change[0].Total_Components,\n",
        "        \"-2.1- Previous Comp Count\":prior[0].Total_Components,\n",
        "        \"-2.2- Diff in Comp Count\":comp_diff,                    \n",
        "        \"-2.3- Pct Change in Comp Count\": f'{pct_comp_diff :.2%}',\n",
        "        \"-3.0- Routed Connections\":change[0].Connected,\n",
        "        \"-3.1- Previous Routed Connections\" :prior[0].Connected,\n",
        "        \"-3.2- Impact to Connected Progress\" : prior[0].Connected - change[0].Connected,\n",
        "        \"-4.0- Parts Placed\" : change[0].Placed,\n",
        "        \"-4.1- Previous Parts Placed\": prior[0].Placed,\n",
        "        \"-4.2- Impact to Placement\" : prior[0].Placed - change[0].Placed,\n",
        "           \n",
        "\n",
        "    })\n",
        "    \n",
        "    \n",
        "    return changes"
      ],
      "execution_count": 0,
      "outputs": []
    },
    {
      "cell_type": "code",
      "metadata": {
        "id": "LNob6QiALoA2",
        "colab_type": "code",
        "colab": {}
      },
      "source": [
        "report = change_report(df, 'Connections')"
      ],
      "execution_count": 0,
      "outputs": []
    },
    {
      "cell_type": "code",
      "metadata": {
        "id": "R65QmyIyPctD",
        "colab_type": "code",
        "colab": {}
      },
      "source": [
        "if report:\n",
        "  for change in report:\n",
        "    cdf = pd.DataFrame.from_records(change,  index=[0])\n",
        "    print(\"Stats on Changes to \", project_name)\n",
        "    print(tabulate(cdf.T,  headers=\"keys\", tablefmt=\"fancy_grid\"))\n",
        "else:\n",
        "  print(\"No Changes\")\n"
      ],
      "execution_count": 0,
      "outputs": []
    }
  ]
}