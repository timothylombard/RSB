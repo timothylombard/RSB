{
  "nbformat": 4,
  "nbformat_minor": 0,
  "metadata": {
    "colab": {
      "name": "RSB.ipynb",
      "version": "0.3.2",
      "provenance": [],
      "include_colab_link": true
    },
    "kernelspec": {
      "name": "python3",
      "display_name": "Python 3"
    }
  },
  "cells": [
    {
      "cell_type": "markdown",
      "metadata": {
        "id": "view-in-github",
        "colab_type": "text"
      },
      "source": [
        "<a href=\"https://colab.research.google.com/github/timothylombard/RSB/blob/master/RSB.ipynb\" target=\"_parent\"><img src=\"https://colab.research.google.com/assets/colab-badge.svg\" alt=\"Open In Colab\"/></a>"
      ]
    },
    {
      "cell_type": "code",
      "metadata": {
        "id": "FoIbhRu4HlO_",
        "colab_type": "code",
        "colab": {}
      },
      "source": [
        "import pandas as pd"
      ],
      "execution_count": 0,
      "outputs": []
    },
    {
      "cell_type": "code",
      "metadata": {
        "id": "x0mr-QJiIcyW",
        "colab_type": "code",
        "colab": {}
      },
      "source": [
        "link = 'https://raw.githubusercontent.com/timothylombard/RSB/master/RSBdata.csv'"
      ],
      "execution_count": 0,
      "outputs": []
    },
    {
      "cell_type": "code",
      "metadata": {
        "id": "toq4QhZRImJA",
        "colab_type": "code",
        "colab": {}
      },
      "source": [
        "df = pd.read_csv(link)"
      ],
      "execution_count": 0,
      "outputs": []
    },
    {
      "cell_type": "code",
      "metadata": {
        "id": "YmZrDHDyItPx",
        "colab_type": "code",
        "colab": {
          "base_uri": "https://localhost:8080/",
          "height": 185
        },
        "outputId": "5ae9e6f1-d8bc-4bce-9bd2-41012d1f2002"
      },
      "source": [
        "print(df)"
      ],
      "execution_count": 72,
      "outputs": [
        {
          "output_type": "stream",
          "text": [
            "         Date  Placed  Total Components  ...  Target_Ship  Target_Cost    DesignName\n",
            "0  2017-01-01       0              2946  ...      11/1/17         9000  Abc_CPU_Main\n",
            "1  2017-01-04    1432              2946  ...      11/1/17         9000  Abc_CPU_Main\n",
            "2  2017-01-07    2946              2946  ...      11/1/17         9000  Abc_CPU_Main\n",
            "3  2017-01-10    2946              2946  ...      11/1/17         9000  Abc_CPU_Main\n",
            "4  2017-01-13    2247              3588  ...      18/1/17        12500  Abc_CPU_Main\n",
            "5  2017-01-16    3588              3588  ...      18/1/17        12500  Abc_CPU_Main\n",
            "6  2017-01-18    3588              3588  ...      18/1/17        12500  Abc_CPU_Main\n",
            "\n",
            "[7 rows x 12 columns]\n"
          ],
          "name": "stdout"
        }
      ]
    },
    {
      "cell_type": "code",
      "metadata": {
        "id": "AG0s6NMFKHZZ",
        "colab_type": "code",
        "colab": {
          "base_uri": "https://localhost:8080/",
          "height": 185
        },
        "outputId": "128c2e4d-edaf-4eec-9ae5-2062f4055dee"
      },
      "source": [
        "df['Date'] =  pd.to_datetime(df['Date'])\n",
        "print(df)"
      ],
      "execution_count": 73,
      "outputs": [
        {
          "output_type": "stream",
          "text": [
            "        Date  Placed  Total Components  ...  Target_Ship  Target_Cost    DesignName\n",
            "0 2017-01-01       0              2946  ...      11/1/17         9000  Abc_CPU_Main\n",
            "1 2017-01-04    1432              2946  ...      11/1/17         9000  Abc_CPU_Main\n",
            "2 2017-01-07    2946              2946  ...      11/1/17         9000  Abc_CPU_Main\n",
            "3 2017-01-10    2946              2946  ...      11/1/17         9000  Abc_CPU_Main\n",
            "4 2017-01-13    2247              3588  ...      18/1/17        12500  Abc_CPU_Main\n",
            "5 2017-01-16    3588              3588  ...      18/1/17        12500  Abc_CPU_Main\n",
            "6 2017-01-18    3588              3588  ...      18/1/17        12500  Abc_CPU_Main\n",
            "\n",
            "[7 rows x 12 columns]\n"
          ],
          "name": "stdout"
        }
      ]
    },
    {
      "cell_type": "code",
      "metadata": {
        "id": "1j40FHYONYIW",
        "colab_type": "code",
        "colab": {}
      },
      "source": [
        "df.set_index('Date', inplace=True)"
      ],
      "execution_count": 0,
      "outputs": []
    },
    {
      "cell_type": "code",
      "metadata": {
        "id": "y7yCiQcqKjG5",
        "colab_type": "code",
        "colab": {}
      },
      "source": [
        "%matplotlib inline\n",
        "import matplotlib.pyplot as plt\n",
        "import seaborn; seaborn.set()\n"
      ],
      "execution_count": 0,
      "outputs": []
    },
    {
      "cell_type": "code",
      "metadata": {
        "id": "gPA0XtiOUIB-",
        "colab_type": "code",
        "colab": {}
      },
      "source": [
        "df['pctConn'] = df['Connected']/df['Connections']\n",
        "df['pctPlaced'] = df['Placed']/df['Total Components']\n"
      ],
      "execution_count": 0,
      "outputs": []
    },
    {
      "cell_type": "code",
      "metadata": {
        "id": "0rChQtyXKwUr",
        "colab_type": "code",
        "colab": {
          "base_uri": "https://localhost:8080/",
          "height": 300
        },
        "outputId": "82c6c013-2258-4fbf-c111-1e176138708e"
      },
      "source": [
        "df[['pctConn','pctPlaced']].plot();"
      ],
      "execution_count": 94,
      "outputs": [
        {
          "output_type": "display_data",
          "data": {
            "image/png": "[encoded data removed]",
            "text/plain": [
              "<Figure size 432x288 with 1 Axes>"
            ]
          },
          "metadata": {
            "tags": []
          }
        }
      ]
    },
    {
      "cell_type": "code",
      "metadata": {
        "id": "pKoP8kxZLDf4",
        "colab_type": "code",
        "colab": {
          "base_uri": "https://localhost:8080/",
          "height": 274
        },
        "outputId": "2aa8a17e-30d1-43d1-ee83-44d713d43192"
      },
      "source": [
        ""
      ],
      "execution_count": 67,
      "outputs": [
        {
          "output_type": "display_data",
          "data": {
            "image/png": "[encoded data removed]",
            "text/plain": [
              "<Figure size 432x288 with 1 Axes>"
            ]
          },
          "metadata": {
            "tags": []
          }
        }
      ]
    },
    {
      "cell_type": "code",
      "metadata": {
        "id": "oX5FNVDuSiBb",
        "colab_type": "code",
        "colab": {
          "base_uri": "https://localhost:8080/",
          "height": 34
        },
        "outputId": "70368faf-bfb5-4cda-a891-d0c53331b486"
      },
      "source": [
        "df.index.max()"
      ],
      "execution_count": 65,
      "outputs": [
        {
          "output_type": "execute_result",
          "data": {
            "text/plain": [
              "Timestamp('2017-01-18 00:00:00')"
            ]
          },
          "metadata": {
            "tags": []
          },
          "execution_count": 65
        }
      ]
    }
  ]
}