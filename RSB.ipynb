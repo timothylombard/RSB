{
  "nbformat": 4,
  "nbformat_minor": 0,
  "metadata": {
    "colab": {
      "name": "RSB.ipynb",
      "version": "0.3.2",
      "provenance": [],
      "collapsed_sections": [],
      "include_colab_link": true
    },
    "kernelspec": {
      "name": "python3",
      "display_name": "Python 3"
    }
  },
  "cells": [
    {
      "cell_type": "markdown",
      "metadata": {
        "id": "view-in-github",
        "colab_type": "text"
      },
      "source": [
        "<a href=\"https://colab.research.google.com/github/timothylombard/RSB/blob/master/RSB.ipynb\" target=\"_parent\"><img src=\"https://colab.research.google.com/assets/colab-badge.svg\" alt=\"Open In Colab\"/></a>"
      ]
    },
    {
      "cell_type": "markdown",
      "metadata": {
        "id": "jX4JSH0qu0Vy",
        "colab_type": "text"
      },
      "source": [
        "# **-1-**\n",
        "## **Analytic Approach to Project Management of PCB Designs**\n",
        "\n",
        "\n",
        "---\n",
        "\n"
      ]
    },
    {
      "cell_type": "markdown",
      "metadata": {
        "id": "PTIyhR0A-9ML",
        "colab_type": "text"
      },
      "source": [
        "This is a [google colabatory notebook](https://colab.research.google.com/notebooks/welcome.ipynb#).   A colab notebook has cells that run snippets of code using the Python programming language. \n",
        "\n",
        "--- This notebook runs real code!   plug in your own variabes and let it work for you.  Use it, modify it,  note: the usual and customary restrictions apply. \n",
        "\n",
        "It is my intention that this notebook be curated by a cookbook of good ideas related to project management of data analysis recipes that can be applied to the practice of PCB development. \n",
        "\n",
        "![alt text](data:image/png;base64,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)\n",
        "\n",
        "![alt text](http://bigdataexaminer.com/wp-content/uploads/2018/01/Python-Pandas-Features-Tutorial-Data-Mining-e1427131108858-750x375.jpg)"
      ]
    },
    {
      "cell_type": "markdown",
      "metadata": {
        "id": "ggbiCezdtHe6",
        "colab_type": "text"
      },
      "source": [
        "This is a Google Colab Notebook to explore a project for the Road Runner Service Bureau<br>\n",
        "![alt text](https://i.pinimg.com/564x/44/f9/b2/44f9b244eb21814faec6bef4c82c2023.jpg)\n"
      ]
    },
    {
      "cell_type": "markdown",
      "metadata": {
        "id": "3oSbIHnnual0",
        "colab_type": "text"
      },
      "source": [
        "# **-2-**\n",
        "## **The agreement**\n",
        "![alt text](https://keep.google.com/u/0/media/v2/1YQATJtiGz-MC_yfPT-8ZbXI9K04upahT7gtmHfgQEOWiODOMnTgQvxXyaBR4DqY/16RwRKT6PTOz7yt-6OoAva2LkWe_jEAqrcVpp5gDMJ3CiMsD1CVggFH3nh8KJeA?accept=image/gif,image/jpeg,image/jpg,image/png,image/webp,audio/aac&sz=634)\n",
        "\n",
        "Let's set the budget and schedule parameters for this analysis.  These are variables that we can enter once and re-use. "
      ]
    },
    {
      "cell_type": "code",
      "metadata": {
        "id": "bKmbupibuoFS",
        "colab_type": "code",
        "colab": {}
      },
      "source": [
        "#@title Use this form to enter Key Agreement Details\n",
        "\n",
        "project_name = 'ABC_CPU' #@param {type:\"string\"}\n",
        "schedule = '2017-01-10' #@param {type:\"date\"}\n",
        "budget = 8500 #@param {type:\"number\"}\n",
        "regular_rate = 50.0 #@param {type:\"number\"}\n",
        "overtime_rate = 75.0 #@param {type:\"number\"}\n",
        "\n"
      ],
      "execution_count": 0,
      "outputs": []
    },
    {
      "cell_type": "code",
      "metadata": {
        "id": "WXCYj26lehli",
        "colab_type": "code",
        "outputId": "13ec7e7d-8b91-4e90-cfee-c6f012de1b03",
        "colab": {
          "base_uri": "https://localhost:8080/",
          "height": 34
        }
      },
      "source": [
        "#any of the key agreement variables can be printed to check\n",
        "print(project_name, schedule, budget)"
      ],
      "execution_count": 16,
      "outputs": [
        {
          "output_type": "stream",
          "text": [
            "ABC_CPU 2017-01-10 8500\n"
          ],
          "name": "stdout"
        }
      ]
    },
    {
      "cell_type": "markdown",
      "metadata": {
        "id": "WjcsQUkziaNt",
        "colab_type": "text"
      },
      "source": [
        "# **-3-**\n",
        "## **Enviroment setup to read and analyse data**\n",
        "\n",
        "[*pandas*](http://pandas.pydata.org/) is a column-oriented data analysis API. It's a great tool for handling and analyzing input data.   For a more complete reference, the [*pandas* docs site](http://pandas.pydata.org/pandas-docs/stable/index.html) contains extensive documentation and many tutorials."
      ]
    },
    {
      "cell_type": "code",
      "metadata": {
        "id": "FoIbhRu4HlO_",
        "colab_type": "code",
        "colab": {}
      },
      "source": [
        "import pandas as pd  #import the pandas module and shorten to pd"
      ],
      "execution_count": 0,
      "outputs": []
    },
    {
      "cell_type": "markdown",
      "metadata": {
        "id": "eNJ46apVW1II",
        "colab_type": "text"
      },
      "source": [
        "For this exercise there is a csv file you can download from my git hub account.   We will create a variable and assign the path location of the csv file on github."
      ]
    },
    {
      "cell_type": "code",
      "metadata": {
        "id": "x0mr-QJiIcyW",
        "colab_type": "code",
        "colab": {}
      },
      "source": [
        "#assign variable link that points to copy of csv data\n",
        "link = 'https://raw.githubusercontent.com/timothylombard/RSB/master/RSBdata.csv' #variable link now points to copy of csv data"
      ],
      "execution_count": 0,
      "outputs": []
    },
    {
      "cell_type": "code",
      "metadata": {
        "id": "toq4QhZRImJA",
        "colab_type": "code",
        "colab": {}
      },
      "source": [
        "df = pd.read_csv(link)   # Create a pandas dataframe from the data assigned to the link variable. "
      ],
      "execution_count": 0,
      "outputs": []
    },
    {
      "cell_type": "code",
      "metadata": {
        "id": "YmZrDHDyItPx",
        "colab_type": "code",
        "outputId": "ff86495c-ab7c-4360-c6af-e1f15d779e48",
        "colab": {
          "base_uri": "https://localhost:8080/",
          "height": 185
        }
      },
      "source": [
        "print(df)# Print out the contents of the dataframe "
      ],
      "execution_count": 20,
      "outputs": [
        {
          "output_type": "stream",
          "text": [
            "         Date  Placed  Total Components  ...  DRC Errors  Reg Hours  OT Hours\n",
            "0  2017-01-01       0              2946  ...           0         12         0\n",
            "1  2017-01-04    1432              2946  ...        4028         48         0\n",
            "2  2017-01-07    2946              2946  ...         266         48        18\n",
            "3  2017-01-10    2946              2946  ...           0         30         0\n",
            "4  2017-01-13    2247              3588  ...        9204         38         4\n",
            "5  2017-01-16    3588              3588  ...        4859         40         8\n",
            "6  2017-01-18    3588              3588  ...           0         16         4\n",
            "\n",
            "[7 rows x 8 columns]\n"
          ],
          "name": "stdout"
        }
      ]
    },
    {
      "cell_type": "code",
      "metadata": {
        "id": "xHLsgs0xXtbR",
        "colab_type": "code",
        "outputId": "e6f9dd53-dcfb-4c10-ce28-752aebcbd590",
        "colab": {
          "base_uri": "https://localhost:8080/",
          "height": 151
        }
      },
      "source": [
        "list(df) #list the column names"
      ],
      "execution_count": 21,
      "outputs": [
        {
          "output_type": "execute_result",
          "data": {
            "text/plain": [
              "['Date',\n",
              " 'Placed',\n",
              " 'Total Components',\n",
              " 'Connections',\n",
              " 'Connected',\n",
              " 'DRC Errors',\n",
              " 'Reg Hours',\n",
              " 'OT Hours']"
            ]
          },
          "metadata": {
            "tags": []
          },
          "execution_count": 21
        }
      ]
    },
    {
      "cell_type": "markdown",
      "metadata": {
        "id": "ZiBEYISTvFcD",
        "colab_type": "text"
      },
      "source": [
        "# -4- Calculated Columns \n",
        "\n",
        "\n",
        "\n",
        "\n",
        "\n"
      ]
    },
    {
      "cell_type": "markdown",
      "metadata": {
        "id": "o9vlQj2erID1",
        "colab_type": "text"
      },
      "source": [
        "### 4.1 $Percent Placed = \\frac{parts Placed}{TotalComponentCount}$"
      ]
    },
    {
      "cell_type": "code",
      "metadata": {
        "id": "gPA0XtiOUIB-",
        "colab_type": "code",
        "outputId": "78a5b8a2-c61b-49aa-9bce-4cc5c49965ce",
        "colab": {
          "base_uri": "https://localhost:8080/",
          "height": 168
        }
      },
      "source": [
        "# add a new calculated column for the percentage placed \n",
        "df['pctPlaced'] = df['Placed']/df['Total Components']\n",
        "list(df) #list the column names\n"
      ],
      "execution_count": 22,
      "outputs": [
        {
          "output_type": "execute_result",
          "data": {
            "text/plain": [
              "['Date',\n",
              " 'Placed',\n",
              " 'Total Components',\n",
              " 'Connections',\n",
              " 'Connected',\n",
              " 'DRC Errors',\n",
              " 'Reg Hours',\n",
              " 'OT Hours',\n",
              " 'pctPlaced']"
            ]
          },
          "metadata": {
            "tags": []
          },
          "execution_count": 22
        }
      ]
    },
    {
      "cell_type": "markdown",
      "metadata": {
        "id": "Gmo0HB7y8lMV",
        "colab_type": "text"
      },
      "source": [
        "### 4.2 $Percent Connected = \\frac{Connected}{Connections}$"
      ]
    },
    {
      "cell_type": "code",
      "metadata": {
        "id": "nO7zPwWx9Ece",
        "colab_type": "code",
        "outputId": "d7a0b4ff-a011-4885-bae5-3b106e9724a7",
        "colab": {
          "base_uri": "https://localhost:8080/",
          "height": 185
        }
      },
      "source": [
        "# add a new calculated column for the percentage connected \n",
        "df['pctConn'] = df['Connected']/df['Connections']\n",
        "list(df) #list the column names"
      ],
      "execution_count": 23,
      "outputs": [
        {
          "output_type": "execute_result",
          "data": {
            "text/plain": [
              "['Date',\n",
              " 'Placed',\n",
              " 'Total Components',\n",
              " 'Connections',\n",
              " 'Connected',\n",
              " 'DRC Errors',\n",
              " 'Reg Hours',\n",
              " 'OT Hours',\n",
              " 'pctPlaced',\n",
              " 'pctConn']"
            ]
          },
          "metadata": {
            "tags": []
          },
          "execution_count": 23
        }
      ]
    },
    {
      "cell_type": "code",
      "metadata": {
        "id": "Itpo0B8ot7wM",
        "colab_type": "code",
        "outputId": "d69eea7e-f1e7-4910-da16-9a1f470525c9",
        "colab": {
          "base_uri": "https://localhost:8080/",
          "height": 151
        }
      },
      "source": [
        "#Print out the new columns \n",
        "print(df[['pctPlaced','pctConn']])"
      ],
      "execution_count": 24,
      "outputs": [
        {
          "output_type": "stream",
          "text": [
            "   pctPlaced   pctConn\n",
            "0   0.000000  0.000000\n",
            "1   0.486083  0.021453\n",
            "2   1.000000  0.858158\n",
            "3   1.000000  1.000000\n",
            "4   0.626254  0.584761\n",
            "5   1.000000  0.890489\n",
            "6   1.000000  1.000000\n"
          ],
          "name": "stdout"
        }
      ]
    },
    {
      "cell_type": "markdown",
      "metadata": {
        "id": "PWcIsyyksU2P",
        "colab_type": "text"
      },
      "source": [
        "# -5- Setup for Plotting\n",
        "\n",
        "[Matplotlib](https://matplotlib.org/) is a Python 2D plotting library which produces publication quality figures in a variety of hardcopy formats and interactive environments across platforms. Matplotlib can be used in Python scripts, the Python and IPython shells, the Jupyter notebook, web application servers, and four graphical user interface toolkits.  It's easy to use with google colab! \n",
        "\n",
        "[Seaborn:](https://seaborn.pydata.org/)  The seaborn package was developed based on the Matplotlib library. It is used to create more attractive and informative statistical graphics."
      ]
    },
    {
      "cell_type": "code",
      "metadata": {
        "id": "y7yCiQcqKjG5",
        "colab_type": "code",
        "colab": {}
      },
      "source": [
        "%matplotlib inline\n",
        "import matplotlib.pyplot as plt\n",
        "import seaborn; seaborn.set()\n",
        "from matplotlib.pyplot import text\n"
      ],
      "execution_count": 0,
      "outputs": []
    },
    {
      "cell_type": "markdown",
      "metadata": {
        "id": "bSB5xsLlgW3r",
        "colab_type": "text"
      },
      "source": [
        "Let's make our first plot! "
      ]
    },
    {
      "cell_type": "code",
      "metadata": {
        "id": "0rChQtyXKwUr",
        "colab_type": "code",
        "outputId": "81cedada-1dac-47c4-f44a-d3b93b472be6",
        "colab": {
          "base_uri": "https://localhost:8080/",
          "height": 274
        }
      },
      "source": [
        "df[['pctConn','pctPlaced']].plot();"
      ],
      "execution_count": 26,
      "outputs": [
        {
          "output_type": "display_data",
          "data": {
            "image/png": "[encoded data removed]",
            "text/plain": [
              "<Figure size 432x288 with 1 Axes>"
            ]
          },
          "metadata": {
            "tags": []
          }
        }
      ]
    },
    {
      "cell_type": "markdown",
      "metadata": {
        "id": "1-5VoQdUYNRA",
        "colab_type": "text"
      },
      "source": [
        "Notice the Y axis is in percentage complete but the X axis is an interger.   It would be more helpful if the X axis was a date rather than a sequence. \n",
        "To plot progess over time the data in the \"Date\" column needs to be converted into datetime format."
      ]
    },
    {
      "cell_type": "code",
      "metadata": {
        "id": "AG0s6NMFKHZZ",
        "colab_type": "code",
        "outputId": "d80d83c3-7f63-411c-e71b-9ebcf91b8f02",
        "colab": {
          "base_uri": "https://localhost:8080/",
          "height": 185
        }
      },
      "source": [
        "df['Date'] =  pd.to_datetime(df['Date'])\n",
        "print(df)"
      ],
      "execution_count": 27,
      "outputs": [
        {
          "output_type": "stream",
          "text": [
            "        Date  Placed  Total Components  ...  OT Hours  pctPlaced   pctConn\n",
            "0 2017-01-01       0              2946  ...         0   0.000000  0.000000\n",
            "1 2017-01-04    1432              2946  ...         0   0.486083  0.021453\n",
            "2 2017-01-07    2946              2946  ...        18   1.000000  0.858158\n",
            "3 2017-01-10    2946              2946  ...         0   1.000000  1.000000\n",
            "4 2017-01-13    2247              3588  ...         4   0.626254  0.584761\n",
            "5 2017-01-16    3588              3588  ...         8   1.000000  0.890489\n",
            "6 2017-01-18    3588              3588  ...         4   1.000000  1.000000\n",
            "\n",
            "[7 rows x 10 columns]\n"
          ],
          "name": "stdout"
        }
      ]
    },
    {
      "cell_type": "markdown",
      "metadata": {
        "id": "NzLZuwr1YrKy",
        "colab_type": "text"
      },
      "source": [
        "This data frame has an index just to the left of the Date column,   Lets use the Date column as the index with the command below."
      ]
    },
    {
      "cell_type": "code",
      "metadata": {
        "id": "1j40FHYONYIW",
        "colab_type": "code",
        "colab": {}
      },
      "source": [
        "df.set_index('Date', inplace=True) #update the index to use the  the Date column to be index"
      ],
      "execution_count": 0,
      "outputs": []
    },
    {
      "cell_type": "code",
      "metadata": {
        "id": "dvecPAKGwvP0",
        "colab_type": "code",
        "outputId": "0fc12ecd-69f0-47dd-ef2a-af98883825b1",
        "colab": {
          "base_uri": "https://localhost:8080/",
          "height": 300
        }
      },
      "source": [
        "df[['pctConn','pctPlaced']].plot();"
      ],
      "execution_count": 29,
      "outputs": [
        {
          "output_type": "display_data",
          "data": {
            "image/png": "[encoded data removed]",
            "text/plain": [
              "<Figure size 432x288 with 1 Axes>"
            ]
          },
          "metadata": {
            "tags": []
          }
        }
      ]
    },
    {
      "cell_type": "markdown",
      "metadata": {
        "id": "TQSLfIb6ziEm",
        "colab_type": "text"
      },
      "source": [
        "# -6- Budget Calculations"
      ]
    },
    {
      "cell_type": "markdown",
      "metadata": {
        "id": "mmhTUjoSsYrM",
        "colab_type": "text"
      },
      "source": [
        "First, lets create another calculated field for  Running Total  of the regular hours as time goes on."
      ]
    },
    {
      "cell_type": "code",
      "metadata": {
        "id": "pKoP8kxZLDf4",
        "colab_type": "code",
        "colab": {}
      },
      "source": [
        "df['regrunning'] = df['Reg Hours'].cumsum()\n"
      ],
      "execution_count": 0,
      "outputs": []
    },
    {
      "cell_type": "code",
      "metadata": {
        "id": "FJjs3ubWroZi",
        "colab_type": "code",
        "outputId": "8e664ac8-6879-47db-ab94-d042ec66f159",
        "colab": {
          "base_uri": "https://localhost:8080/",
          "height": 168
        }
      },
      "source": [
        "print(df['regrunning'])"
      ],
      "execution_count": 31,
      "outputs": [
        {
          "output_type": "stream",
          "text": [
            "Date\n",
            "2017-01-01     12\n",
            "2017-01-04     60\n",
            "2017-01-07    108\n",
            "2017-01-10    138\n",
            "2017-01-13    176\n",
            "2017-01-16    216\n",
            "2017-01-18    232\n",
            "Name: regrunning, dtype: int64\n"
          ],
          "name": "stdout"
        }
      ]
    },
    {
      "cell_type": "markdown",
      "metadata": {
        "id": "D2xZOUwQsnFs",
        "colab_type": "text"
      },
      "source": [
        "No create another calculated field for the running total of overtime hours "
      ]
    },
    {
      "cell_type": "code",
      "metadata": {
        "id": "saW1xIz2sucX",
        "colab_type": "code",
        "colab": {}
      },
      "source": [
        "df['otrunning'] = df['OT Hours'].cumsum()"
      ],
      "execution_count": 0,
      "outputs": []
    },
    {
      "cell_type": "code",
      "metadata": {
        "id": "v31TNTNO015T",
        "colab_type": "code",
        "outputId": "c8b0aa1c-eff3-40fb-9f3e-d7c7cd22d9c4",
        "colab": {
          "base_uri": "https://localhost:8080/",
          "height": 284
        }
      },
      "source": [
        "df[['OT Hours', 'otrunning']]"
      ],
      "execution_count": 33,
      "outputs": [
        {
          "output_type": "execute_result",
          "data": {
            "text/html": [
              "<div>\n",
              "<style scoped>\n",
              "    .dataframe tbody tr th:only-of-type {\n",
              "        vertical-align: middle;\n",
              "    }\n",
              "\n",
              "    .dataframe tbody tr th {\n",
              "        vertical-align: top;\n",
              "    }\n",
              "\n",
              "    .dataframe thead th {\n",
              "        text-align: right;\n",
              "    }\n",
              "</style>\n",
              "<table border=\"1\" class=\"dataframe\">\n",
              "  <thead>\n",
              "    <tr style=\"text-align: right;\">\n",
              "      <th></th>\n",
              "      <th>OT Hours</th>\n",
              "      <th>otrunning</th>\n",
              "    </tr>\n",
              "    <tr>\n",
              "      <th>Date</th>\n",
              "      <th></th>\n",
              "      <th></th>\n",
              "    </tr>\n",
              "  </thead>\n",
              "  <tbody>\n",
              "    <tr>\n",
              "      <th>2017-01-01</th>\n",
              "      <td>0</td>\n",
              "      <td>0</td>\n",
              "    </tr>\n",
              "    <tr>\n",
              "      <th>2017-01-04</th>\n",
              "      <td>0</td>\n",
              "      <td>0</td>\n",
              "    </tr>\n",
              "    <tr>\n",
              "      <th>2017-01-07</th>\n",
              "      <td>18</td>\n",
              "      <td>18</td>\n",
              "    </tr>\n",
              "    <tr>\n",
              "      <th>2017-01-10</th>\n",
              "      <td>0</td>\n",
              "      <td>18</td>\n",
              "    </tr>\n",
              "    <tr>\n",
              "      <th>2017-01-13</th>\n",
              "      <td>4</td>\n",
              "      <td>22</td>\n",
              "    </tr>\n",
              "    <tr>\n",
              "      <th>2017-01-16</th>\n",
              "      <td>8</td>\n",
              "      <td>30</td>\n",
              "    </tr>\n",
              "    <tr>\n",
              "      <th>2017-01-18</th>\n",
              "      <td>4</td>\n",
              "      <td>34</td>\n",
              "    </tr>\n",
              "  </tbody>\n",
              "</table>\n",
              "</div>"
            ],
            "text/plain": [
              "            OT Hours  otrunning\n",
              "Date                           \n",
              "2017-01-01         0          0\n",
              "2017-01-04         0          0\n",
              "2017-01-07        18         18\n",
              "2017-01-10         0         18\n",
              "2017-01-13         4         22\n",
              "2017-01-16         8         30\n",
              "2017-01-18         4         34"
            ]
          },
          "metadata": {
            "tags": []
          },
          "execution_count": 33
        }
      ]
    },
    {
      "cell_type": "markdown",
      "metadata": {
        "id": "cXNIVvny1rlV",
        "colab_type": "text"
      },
      "source": [
        "**Rember the Agreement parameters?   Let's use some of those to determine how much of the budget we are spending**"
      ]
    },
    {
      "cell_type": "code",
      "metadata": {
        "id": "Lkep5cMN1qwc",
        "colab_type": "code",
        "colab": {}
      },
      "source": [
        "df['spend'] = df['regrunning']*regular_rate + df['otrunning']*overtime_rate\n"
      ],
      "execution_count": 0,
      "outputs": []
    },
    {
      "cell_type": "code",
      "metadata": {
        "id": "S_f92_Rs6AIp",
        "colab_type": "code",
        "outputId": "3294d784-c769-4516-904d-a4a33cea0d3f",
        "colab": {
          "base_uri": "https://localhost:8080/",
          "height": 310
        }
      },
      "source": [
        "\n",
        "df['spend'].plot()\n",
        "#add reference line showing budget target\n",
        "plt.axhline(y=budget, color='r', linestyle='-')\n",
        "text(x=df.index.min(), y=budget+budget/25, s=\"Target Budget: $\"+str(budget))\n",
        "\n",
        "#add reference line showing schedule target\n",
        "plt.axvline(x=schedule, color='g', linestyle='-')\n",
        "text(x=schedule, y=budget*.1, s=\"Target Schedule \"+str(schedule))\n",
        "\n",
        "plt.title('Expenses to date for '+project_name);\n"
      ],
      "execution_count": 35,
      "outputs": [
        {
          "output_type": "display_data",
          "data": {
            "image/png": "[encoded data removed]",
            "text/plain": [
              "<Figure size 432x288 with 1 Axes>"
            ]
          },
          "metadata": {
            "tags": []
          }
        }
      ]
    },
    {
      "cell_type": "markdown",
      "metadata": {
        "id": "LhS7-E-KksT-",
        "colab_type": "text"
      },
      "source": [
        "# -7- Get the latest stats\n",
        "###To get the latest statistic from our dataframe we can use the index.max() function"
      ]
    },
    {
      "cell_type": "code",
      "metadata": {
        "id": "oX5FNVDuSiBb",
        "colab_type": "code",
        "outputId": "ff37c4eb-3b1e-4f62-f408-10a8cd63d9fa",
        "colab": {
          "base_uri": "https://localhost:8080/",
          "height": 34
        }
      },
      "source": [
        "df.index.max()"
      ],
      "execution_count": 36,
      "outputs": [
        {
          "output_type": "execute_result",
          "data": {
            "text/plain": [
              "Timestamp('2017-01-18 00:00:00')"
            ]
          },
          "metadata": {
            "tags": []
          },
          "execution_count": 36
        }
      ]
    },
    {
      "cell_type": "code",
      "metadata": {
        "id": "oO9R9ON2jixb",
        "colab_type": "code",
        "colab": {
          "base_uri": "https://localhost:8080/",
          "height": 34
        },
        "outputId": "7ba88467-db38-440e-f41e-3f631d1b1452"
      },
      "source": [
        "spend2date = df.loc[df.index.max(),'spend']\n",
        "print(spend2date)"
      ],
      "execution_count": 40,
      "outputs": [
        {
          "output_type": "stream",
          "text": [
            "14150.0\n"
          ],
          "name": "stdout"
        }
      ]
    },
    {
      "cell_type": "markdown",
      "metadata": {
        "id": "2HwO4a9dl_RE",
        "colab_type": "text"
      },
      "source": [
        "# -8- Time Calculations\n",
        " ##Count the number of days "
      ]
    },
    {
      "cell_type": "code",
      "metadata": {
        "id": "dj2pF4BGmMi8",
        "colab_type": "code",
        "colab": {
          "base_uri": "https://localhost:8080/",
          "height": 34
        },
        "outputId": "114d5d39-6311-4fdb-c449-1c4c01544776"
      },
      "source": [
        "delta = df.index.max() - df.index.min()\n",
        "print(delta.days)"
      ],
      "execution_count": 48,
      "outputs": [
        {
          "output_type": "stream",
          "text": [
            "17\n"
          ],
          "name": "stdout"
        }
      ]
    },
    {
      "cell_type": "code",
      "metadata": {
        "id": "vOTRN7-woubC",
        "colab_type": "code",
        "colab": {}
      },
      "source": [
        "from dateutil import parser\n",
        "agreement_date = parser.parse(schedule)"
      ],
      "execution_count": 0,
      "outputs": []
    },
    {
      "cell_type": "code",
      "metadata": {
        "id": "XNvy0Kgppl4E",
        "colab_type": "code",
        "colab": {}
      },
      "source": [
        "delta_A = agreement_date - df.index.min()"
      ],
      "execution_count": 0,
      "outputs": []
    },
    {
      "cell_type": "code",
      "metadata": {
        "id": "A45gBTIhp0bN",
        "colab_type": "code",
        "colab": {
          "base_uri": "https://localhost:8080/",
          "height": 34
        },
        "outputId": "2a2b8c78-ca76-4deb-c1c4-affc68bb667e"
      },
      "source": [
        "delta_A.days"
      ],
      "execution_count": 54,
      "outputs": [
        {
          "output_type": "execute_result",
          "data": {
            "text/plain": [
              "9"
            ]
          },
          "metadata": {
            "tags": []
          },
          "execution_count": 54
        }
      ]
    }
  ]
}