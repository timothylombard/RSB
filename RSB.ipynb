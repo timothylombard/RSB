{
  "nbformat": 4,
  "nbformat_minor": 0,
  "metadata": {
    "colab": {
      "name": "RSB.ipynb",
      "version": "0.3.2",
      "provenance": [],
      "collapsed_sections": [],
      "include_colab_link": true
    },
    "kernelspec": {
      "name": "python3",
      "display_name": "Python 3"
    }
  },
  "cells": [
    {
      "cell_type": "markdown",
      "metadata": {
        "id": "view-in-github",
        "colab_type": "text"
      },
      "source": [
        "<a href=\"https://colab.research.google.com/github/timothylombard/RSB/blob/master/RSB.ipynb\" target=\"_parent\"><img src=\"https://colab.research.google.com/assets/colab-badge.svg\" alt=\"Open In Colab\"/></a>"
      ]
    },
    {
      "cell_type": "markdown",
      "metadata": {
        "id": "jX4JSH0qu0Vy",
        "colab_type": "text"
      },
      "source": [
        "# **-1-**\n",
        "## **Analytic Approach to Project Management of PCB Designs**\n",
        "\n",
        "\n",
        "---\n",
        "\n"
      ]
    },
    {
      "cell_type": "markdown",
      "metadata": {
        "id": "PTIyhR0A-9ML",
        "colab_type": "text"
      },
      "source": [
        "This is a [Python programming language](https://www.python.org/) set of executable code cells on [google colabatory notebook](https://colab.research.google.com/).  \n",
        "A colab notebook has cells that run snippets of code. \n",
        "\n",
        "Yes, this notebook runs real code! <br>  Plug in your own variables and see how it works for your situation.<br>  Use it, modify it,  note: the usual and customary restrictions apply. <br> \n",
        "If you are getting unexpected results try the following: <br>\n",
        "\n",
        "\n",
        "1.   Refresh notebook and re-run each cell in sequence.  \"\" This is a script\"\n",
        "2.   If the previous step doesn't work-  it could be because notebook has been altered from origional.     [Reload new copy to go back to starting point](https://colab.research.google.com/github/timothylombard/RSB/blob/master/RSB.ipynb). \n",
        "\n",
        "\n",
        "\n",
        "It is my intention that this notebook be curated by a cookbook of good ideas related to project management of data analysis recipes that can be applied to the practice of PCB development. \n"
      ]
    },
    {
      "cell_type": "markdown",
      "metadata": {
        "id": "ggbiCezdtHe6",
        "colab_type": "text"
      },
      "source": [
        "This is a Google Colab Notebook to explore a project for the Road Runner Service Bureau<br>\n",
        "![alt text](https://i.pinimg.com/564x/44/f9/b2/44f9b244eb21814faec6bef4c82c2023.jpg)\n"
      ]
    },
    {
      "cell_type": "markdown",
      "metadata": {
        "id": "WjcsQUkziaNt",
        "colab_type": "text"
      },
      "source": [
        "# **- 2 -**\n",
        "## **Enviroment setup to read and analyze data**\n",
        "\n",
        "Running the code cell after this will import the following libraries that will be used.\n",
        "\n",
        "[*pandas*](http://pandas.pydata.org/) is a column-oriented data analysis API. It's a great tool for handling and analyzing input data.   For a more complete reference, the [*pandas* docs site](http://pandas.pydata.org/pandas-docs/stable/index.html) contains extensive documentation and many tutorials.\n",
        "\n",
        "[Matplotlib](https://matplotlib.org/) is a Python 2D plotting library which produces publication quality figures in a variety of hardcopy formats and interactive environments across platforms. Matplotlib can be used in Python scripts, the Python and IPython shells, the Jupyter notebook, web application servers, and four graphical user interface toolkits.  It's easy to use with google colab! \n",
        "\n",
        "[Seaborn:](https://seaborn.pydata.org/)  The seaborn package was developed based on the Matplotlib library. It is used to create more attractive and informative statistical graphics.\n",
        "\n",
        " [Parser](https://dateutil.readthedocs.io/en/stable/parser.html) from the dateutil library converts text like  1-Jan-2019 to a datetime object that enables dates to be analyzed. \n",
        "\n",
        "[Bokeh](https://bokeh.pydata.org/) is an interactive visualization library that targets modern web browsers for presentation. "
      ]
    },
    {
      "cell_type": "code",
      "metadata": {
        "id": "FoIbhRu4HlO_",
        "colab_type": "code",
        "colab": {}
      },
      "source": [
        "import pandas as pd  #import the pandas module and shorten to pd\n",
        "\n",
        "%matplotlib inline\n",
        "import matplotlib.pyplot as plt\n",
        "from matplotlib.pyplot import text\n",
        "import seaborn; seaborn.set()\n",
        "\n",
        "\n",
        "from dateutil import parser\n",
        "\n",
        "from bokeh.io import show, output_notebook\n",
        "from bokeh.palettes import PuBu4\n",
        "from bokeh.plotting import figure\n",
        "from bokeh.models import Label\n",
        "\n"
      ],
      "execution_count": 0,
      "outputs": []
    },
    {
      "cell_type": "markdown",
      "metadata": {
        "id": "j95YXJcC_uM-",
        "colab_type": "text"
      },
      "source": [
        "# Setup functions to be used. \n",
        "\n",
        "Functions are code blocks that can be defined and reused"
      ]
    },
    {
      "cell_type": "code",
      "metadata": {
        "id": "-FFhbUbjALiK",
        "colab_type": "code",
        "colab": {}
      },
      "source": [
        "def int2dollar(number):\n",
        "  ''' function that takes a number (float or integer) \n",
        "  and returns a currency string rounded up to the nearest dollar'''\n",
        "  \n",
        "  return f'${number:,.0f}'"
      ],
      "execution_count": 0,
      "outputs": []
    },
    {
      "cell_type": "code",
      "metadata": {
        "id": "c0gkPn7bAev8",
        "colab_type": "code",
        "outputId": "4dd62039-cf99-4ce0-b25c-3d05045989e8",
        "colab": {
          "base_uri": "https://localhost:8080/",
          "height": 34
        }
      },
      "source": [
        "int2dollar(12458329.59)"
      ],
      "execution_count": 88,
      "outputs": [
        {
          "output_type": "execute_result",
          "data": {
            "text/plain": [
              "'$12,458,330'"
            ]
          },
          "metadata": {
            "tags": []
          },
          "execution_count": 88
        }
      ]
    },
    {
      "cell_type": "markdown",
      "metadata": {
        "id": "3oSbIHnnual0",
        "colab_type": "text"
      },
      "source": [
        "# **- 3 -**\n",
        "## **The agreement**\n",
        "\n",
        "\n",
        "Let's set the budget and schedule parameters for this analysis.  These are variables that we can enter once and re-use. "
      ]
    },
    {
      "cell_type": "code",
      "metadata": {
        "id": "bKmbupibuoFS",
        "colab_type": "code",
        "colab": {}
      },
      "source": [
        "#@title Use this form to enter Key Agreement Details\n",
        "\n",
        "project_name = 'ABC_CPU_Motherboard' #@param {type:\"string\"}\n",
        "schedule = '2017-01-10' #@param {type:\"date\"}\n",
        "budget = 9000 #@param {type:\"number\"}\n",
        "regular_rate = 50.0 #@param {type:\"number\"}\n",
        "overtime_rate = 75.0 #@param {type:\"number\"}\n",
        "\n"
      ],
      "execution_count": 0,
      "outputs": []
    },
    {
      "cell_type": "code",
      "metadata": {
        "id": "WXCYj26lehli",
        "colab_type": "code",
        "outputId": "9c8dedf5-9b02-436b-b78f-c05228a8cc79",
        "colab": {
          "base_uri": "https://localhost:8080/",
          "height": 34
        }
      },
      "source": [
        "#any of the key agreement variables can be printed to check\n",
        "print(project_name, schedule, budget)"
      ],
      "execution_count": 90,
      "outputs": [
        {
          "output_type": "stream",
          "text": [
            "ABC_CPU_Motherboard 2017-01-10 9000\n"
          ],
          "name": "stdout"
        }
      ]
    },
    {
      "cell_type": "markdown",
      "metadata": {
        "id": "eNJ46apVW1II",
        "colab_type": "text"
      },
      "source": [
        "For this exercise there is a csv file you can download from my git hub account.   We will create a variable and assign the path location of the csv file on github."
      ]
    },
    {
      "cell_type": "code",
      "metadata": {
        "id": "x0mr-QJiIcyW",
        "colab_type": "code",
        "colab": {}
      },
      "source": [
        "#assign variable link that points to copy of csv data\n",
        "link = 'https://raw.githubusercontent.com/timothylombard/RSB/master/RSBdata.csv' #variable link now points to copy of csv data"
      ],
      "execution_count": 0,
      "outputs": []
    },
    {
      "cell_type": "code",
      "metadata": {
        "id": "toq4QhZRImJA",
        "colab_type": "code",
        "colab": {}
      },
      "source": [
        "df = pd.read_csv(link)   # Create a pandas dataframe from the data assigned to the link variable. "
      ],
      "execution_count": 0,
      "outputs": []
    },
    {
      "cell_type": "code",
      "metadata": {
        "id": "YmZrDHDyItPx",
        "colab_type": "code",
        "outputId": "42e02ecf-adcf-4f5d-c36f-5db1ec002bbe",
        "colab": {
          "base_uri": "https://localhost:8080/",
          "height": 151
        }
      },
      "source": [
        "print(df[['Date', 'Placed', 'Total Components']])# Print out the contents of the dataframe "
      ],
      "execution_count": 93,
      "outputs": [
        {
          "output_type": "stream",
          "text": [
            "         Date  Placed  Total Components\n",
            "0  2017-01-01       0              2946\n",
            "1  2017-01-04    1432              2946\n",
            "2  2017-01-07    2946              2946\n",
            "3  2017-01-10    2946              2946\n",
            "4  2017-01-13    2247              3588\n",
            "5  2017-01-16    3588              3588\n",
            "6  2017-01-18    3588              3588\n"
          ],
          "name": "stdout"
        }
      ]
    },
    {
      "cell_type": "code",
      "metadata": {
        "id": "xHLsgs0xXtbR",
        "colab_type": "code",
        "outputId": "549cd2e9-f299-4315-ea6f-1260c729e188",
        "colab": {
          "base_uri": "https://localhost:8080/",
          "height": 151
        }
      },
      "source": [
        "list(df) #list the column names"
      ],
      "execution_count": 94,
      "outputs": [
        {
          "output_type": "execute_result",
          "data": {
            "text/plain": [
              "['Date',\n",
              " 'Placed',\n",
              " 'Total Components',\n",
              " 'Connections',\n",
              " 'Connected',\n",
              " 'DRC Errors',\n",
              " 'Reg Hours',\n",
              " 'OT Hours']"
            ]
          },
          "metadata": {
            "tags": []
          },
          "execution_count": 94
        }
      ]
    },
    {
      "cell_type": "markdown",
      "metadata": {
        "id": "ZiBEYISTvFcD",
        "colab_type": "text"
      },
      "source": [
        "# -4- Calculated Columns \n",
        "\n",
        "\n",
        "\n",
        "\n",
        "\n"
      ]
    },
    {
      "cell_type": "markdown",
      "metadata": {
        "id": "o9vlQj2erID1",
        "colab_type": "text"
      },
      "source": [
        "### 4.1 $Percent Placed = \\frac{parts Placed}{TotalComponentCount}$"
      ]
    },
    {
      "cell_type": "code",
      "metadata": {
        "id": "gPA0XtiOUIB-",
        "colab_type": "code",
        "outputId": "ad52b08b-8c5d-456a-d4cd-a2ec098d6a3e",
        "colab": {
          "base_uri": "https://localhost:8080/",
          "height": 168
        }
      },
      "source": [
        "# add a new calculated column for the percentage placed \n",
        "df['pctPlaced'] = df['Placed']/df['Total Components']\n",
        "list(df) #list the column names\n"
      ],
      "execution_count": 95,
      "outputs": [
        {
          "output_type": "execute_result",
          "data": {
            "text/plain": [
              "['Date',\n",
              " 'Placed',\n",
              " 'Total Components',\n",
              " 'Connections',\n",
              " 'Connected',\n",
              " 'DRC Errors',\n",
              " 'Reg Hours',\n",
              " 'OT Hours',\n",
              " 'pctPlaced']"
            ]
          },
          "metadata": {
            "tags": []
          },
          "execution_count": 95
        }
      ]
    },
    {
      "cell_type": "markdown",
      "metadata": {
        "id": "Gmo0HB7y8lMV",
        "colab_type": "text"
      },
      "source": [
        "### 4.2 $Percent Connected = \\frac{Connected}{Connections}$"
      ]
    },
    {
      "cell_type": "code",
      "metadata": {
        "id": "nO7zPwWx9Ece",
        "colab_type": "code",
        "outputId": "d56b67de-32a9-468d-9f3d-d19bbb6c017c",
        "colab": {
          "base_uri": "https://localhost:8080/",
          "height": 185
        }
      },
      "source": [
        "# add a new calculated column for the percentage connected \n",
        "df['pctConn'] = df['Connected']/df['Connections']\n",
        "list(df) #list the column names"
      ],
      "execution_count": 96,
      "outputs": [
        {
          "output_type": "execute_result",
          "data": {
            "text/plain": [
              "['Date',\n",
              " 'Placed',\n",
              " 'Total Components',\n",
              " 'Connections',\n",
              " 'Connected',\n",
              " 'DRC Errors',\n",
              " 'Reg Hours',\n",
              " 'OT Hours',\n",
              " 'pctPlaced',\n",
              " 'pctConn']"
            ]
          },
          "metadata": {
            "tags": []
          },
          "execution_count": 96
        }
      ]
    },
    {
      "cell_type": "code",
      "metadata": {
        "id": "Itpo0B8ot7wM",
        "colab_type": "code",
        "outputId": "0e5841a7-cedd-4c18-a825-b02dfe2ba588",
        "colab": {
          "base_uri": "https://localhost:8080/",
          "height": 151
        }
      },
      "source": [
        "#Print out the new columns \n",
        "print(df[['pctPlaced','pctConn']])"
      ],
      "execution_count": 97,
      "outputs": [
        {
          "output_type": "stream",
          "text": [
            "   pctPlaced   pctConn\n",
            "0   0.000000  0.000000\n",
            "1   0.486083  0.021453\n",
            "2   1.000000  0.858158\n",
            "3   1.000000  1.000000\n",
            "4   0.626254  0.584761\n",
            "5   1.000000  0.890489\n",
            "6   1.000000  1.000000\n"
          ],
          "name": "stdout"
        }
      ]
    },
    {
      "cell_type": "markdown",
      "metadata": {
        "id": "bSB5xsLlgW3r",
        "colab_type": "text"
      },
      "source": [
        "Let's make our first plot! "
      ]
    },
    {
      "cell_type": "code",
      "metadata": {
        "id": "0rChQtyXKwUr",
        "colab_type": "code",
        "outputId": "d318b034-633d-49a1-9326-dc583290a9d5",
        "colab": {
          "base_uri": "https://localhost:8080/",
          "height": 274
        }
      },
      "source": [
        "df[['pctConn','pctPlaced']].plot();"
      ],
      "execution_count": 98,
      "outputs": [
        {
          "output_type": "display_data",
          "data": {
            "image/png": "[encoded data removed]",
            "text/plain": [
              "<Figure size 432x288 with 1 Axes>"
            ]
          },
          "metadata": {
            "tags": []
          }
        }
      ]
    },
    {
      "cell_type": "markdown",
      "metadata": {
        "id": "1-5VoQdUYNRA",
        "colab_type": "text"
      },
      "source": [
        "Notice the Y axis is in percentage complete but the X axis is an interger.   It would be more helpful if the X axis was a date rather than a sequence. \n",
        "To plot progess over time the data in the \"Date\" column needs to be converted into datetime format."
      ]
    },
    {
      "cell_type": "code",
      "metadata": {
        "id": "AG0s6NMFKHZZ",
        "colab_type": "code",
        "outputId": "bb7640da-fd33-42ea-ee89-734474aea531",
        "colab": {
          "base_uri": "https://localhost:8080/",
          "height": 185
        }
      },
      "source": [
        "#Convert the datatype of the Date column from a string to a datetime \n",
        "df['Date'] =  pd.to_datetime(df['Date'])\n",
        "print(df)"
      ],
      "execution_count": 99,
      "outputs": [
        {
          "output_type": "stream",
          "text": [
            "        Date  Placed  Total Components  ...  OT Hours  pctPlaced   pctConn\n",
            "0 2017-01-01       0              2946  ...         0   0.000000  0.000000\n",
            "1 2017-01-04    1432              2946  ...         0   0.486083  0.021453\n",
            "2 2017-01-07    2946              2946  ...        18   1.000000  0.858158\n",
            "3 2017-01-10    2946              2946  ...         0   1.000000  1.000000\n",
            "4 2017-01-13    2247              3588  ...         4   0.626254  0.584761\n",
            "5 2017-01-16    3588              3588  ...         8   1.000000  0.890489\n",
            "6 2017-01-18    3588              3588  ...         4   1.000000  1.000000\n",
            "\n",
            "[7 rows x 10 columns]\n"
          ],
          "name": "stdout"
        }
      ]
    },
    {
      "cell_type": "markdown",
      "metadata": {
        "id": "NzLZuwr1YrKy",
        "colab_type": "text"
      },
      "source": [
        "This data frame has an index just to the left of the Date column [0-6],   Lets use the Date column as the index with the command below."
      ]
    },
    {
      "cell_type": "code",
      "metadata": {
        "id": "1j40FHYONYIW",
        "colab_type": "code",
        "colab": {}
      },
      "source": [
        "df.set_index('Date', inplace=True) #update the index to use the  the Date column to be index"
      ],
      "execution_count": 0,
      "outputs": []
    },
    {
      "cell_type": "code",
      "metadata": {
        "id": "dvecPAKGwvP0",
        "colab_type": "code",
        "outputId": "09d4d670-79e6-4300-84d1-c96bae5b8d4d",
        "colab": {
          "base_uri": "https://localhost:8080/",
          "height": 300
        }
      },
      "source": [
        "df[['pctConn','pctPlaced']].plot();"
      ],
      "execution_count": 101,
      "outputs": [
        {
          "output_type": "display_data",
          "data": {
            "image/png": "[encoded data removed]",
            "text/plain": [
              "<Figure size 432x288 with 1 Axes>"
            ]
          },
          "metadata": {
            "tags": []
          }
        }
      ]
    },
    {
      "cell_type": "markdown",
      "metadata": {
        "id": "TQSLfIb6ziEm",
        "colab_type": "text"
      },
      "source": [
        "# -6- Budget Calculations"
      ]
    },
    {
      "cell_type": "markdown",
      "metadata": {
        "id": "mmhTUjoSsYrM",
        "colab_type": "text"
      },
      "source": [
        "First, lets create another calculated field for  Running Total  of the regular hours as time goes on."
      ]
    },
    {
      "cell_type": "code",
      "metadata": {
        "id": "pKoP8kxZLDf4",
        "colab_type": "code",
        "colab": {}
      },
      "source": [
        "df['regrunning'] = df['Reg Hours'].cumsum()\n"
      ],
      "execution_count": 0,
      "outputs": []
    },
    {
      "cell_type": "code",
      "metadata": {
        "id": "FJjs3ubWroZi",
        "colab_type": "code",
        "outputId": "212c1418-ca32-4481-baaa-c0dd1c317101",
        "colab": {
          "base_uri": "https://localhost:8080/",
          "height": 168
        }
      },
      "source": [
        "print(df['regrunning'])"
      ],
      "execution_count": 103,
      "outputs": [
        {
          "output_type": "stream",
          "text": [
            "Date\n",
            "2017-01-01     12\n",
            "2017-01-04     60\n",
            "2017-01-07    108\n",
            "2017-01-10    138\n",
            "2017-01-13    176\n",
            "2017-01-16    216\n",
            "2017-01-18    232\n",
            "Name: regrunning, dtype: int64\n"
          ],
          "name": "stdout"
        }
      ]
    },
    {
      "cell_type": "markdown",
      "metadata": {
        "id": "D2xZOUwQsnFs",
        "colab_type": "text"
      },
      "source": [
        "Now let's create another calculated field for the running total  this time for overtime hours "
      ]
    },
    {
      "cell_type": "code",
      "metadata": {
        "id": "saW1xIz2sucX",
        "colab_type": "code",
        "colab": {}
      },
      "source": [
        "df['otrunning'] = df['OT Hours'].cumsum()"
      ],
      "execution_count": 0,
      "outputs": []
    },
    {
      "cell_type": "code",
      "metadata": {
        "id": "v31TNTNO015T",
        "colab_type": "code",
        "outputId": "acf00746-42f0-4b72-80fe-6b3fcd673e71",
        "colab": {
          "base_uri": "https://localhost:8080/",
          "height": 284
        }
      },
      "source": [
        "df[['OT Hours', 'otrunning']] #print the OT Hours and otrunning columns"
      ],
      "execution_count": 105,
      "outputs": [
        {
          "output_type": "execute_result",
          "data": {
            "text/html": [
              "<div>\n",
              "<style scoped>\n",
              "    .dataframe tbody tr th:only-of-type {\n",
              "        vertical-align: middle;\n",
              "    }\n",
              "\n",
              "    .dataframe tbody tr th {\n",
              "        vertical-align: top;\n",
              "    }\n",
              "\n",
              "    .dataframe thead th {\n",
              "        text-align: right;\n",
              "    }\n",
              "</style>\n",
              "<table border=\"1\" class=\"dataframe\">\n",
              "  <thead>\n",
              "    <tr style=\"text-align: right;\">\n",
              "      <th></th>\n",
              "      <th>OT Hours</th>\n",
              "      <th>otrunning</th>\n",
              "    </tr>\n",
              "    <tr>\n",
              "      <th>Date</th>\n",
              "      <th></th>\n",
              "      <th></th>\n",
              "    </tr>\n",
              "  </thead>\n",
              "  <tbody>\n",
              "    <tr>\n",
              "      <th>2017-01-01</th>\n",
              "      <td>0</td>\n",
              "      <td>0</td>\n",
              "    </tr>\n",
              "    <tr>\n",
              "      <th>2017-01-04</th>\n",
              "      <td>0</td>\n",
              "      <td>0</td>\n",
              "    </tr>\n",
              "    <tr>\n",
              "      <th>2017-01-07</th>\n",
              "      <td>18</td>\n",
              "      <td>18</td>\n",
              "    </tr>\n",
              "    <tr>\n",
              "      <th>2017-01-10</th>\n",
              "      <td>0</td>\n",
              "      <td>18</td>\n",
              "    </tr>\n",
              "    <tr>\n",
              "      <th>2017-01-13</th>\n",
              "      <td>4</td>\n",
              "      <td>22</td>\n",
              "    </tr>\n",
              "    <tr>\n",
              "      <th>2017-01-16</th>\n",
              "      <td>8</td>\n",
              "      <td>30</td>\n",
              "    </tr>\n",
              "    <tr>\n",
              "      <th>2017-01-18</th>\n",
              "      <td>4</td>\n",
              "      <td>34</td>\n",
              "    </tr>\n",
              "  </tbody>\n",
              "</table>\n",
              "</div>"
            ],
            "text/plain": [
              "            OT Hours  otrunning\n",
              "Date                           \n",
              "2017-01-01         0          0\n",
              "2017-01-04         0          0\n",
              "2017-01-07        18         18\n",
              "2017-01-10         0         18\n",
              "2017-01-13         4         22\n",
              "2017-01-16         8         30\n",
              "2017-01-18         4         34"
            ]
          },
          "metadata": {
            "tags": []
          },
          "execution_count": 105
        }
      ]
    },
    {
      "cell_type": "markdown",
      "metadata": {
        "id": "cXNIVvny1rlV",
        "colab_type": "text"
      },
      "source": [
        "**Remember the Agreement parameters?   Let's use some of those to determine how much of the budget we are spending**\n",
        "\n",
        "Let's create another column named \"spend\"  "
      ]
    },
    {
      "cell_type": "code",
      "metadata": {
        "id": "Lkep5cMN1qwc",
        "colab_type": "code",
        "colab": {}
      },
      "source": [
        "df['spend'] = df['regrunning']*regular_rate + df['otrunning']*overtime_rate\n"
      ],
      "execution_count": 0,
      "outputs": []
    },
    {
      "cell_type": "code",
      "metadata": {
        "id": "S_f92_Rs6AIp",
        "colab_type": "code",
        "outputId": "6dc3fea0-e36a-42cf-dfe9-77971a3e294e",
        "colab": {
          "base_uri": "https://localhost:8080/",
          "height": 310
        }
      },
      "source": [
        "\n",
        "df['spend'].plot()\n",
        "#add reference line showing budget target\n",
        "plt.axhline(y=budget, color='r', linestyle='-')\n",
        "text(x=df.index.min(), y=budget+budget/25, s=\"Target Budget: $\"+str(budget))\n",
        "\n",
        "#add reference line showing schedule target\n",
        "plt.axvline(x=schedule, color='g', linestyle='-')\n",
        "text(x=schedule, y=budget*.1, s=\"Target Schedule \"+str(schedule))\n",
        "\n",
        "plt.title('Expenses to date for '+project_name);\n"
      ],
      "execution_count": 107,
      "outputs": [
        {
          "output_type": "display_data",
          "data": {
            "image/png": "[encoded data removed]",
            "text/plain": [
              "<Figure size 432x288 with 1 Axes>"
            ]
          },
          "metadata": {
            "tags": []
          }
        }
      ]
    },
    {
      "cell_type": "markdown",
      "metadata": {
        "id": "2HwO4a9dl_RE",
        "colab_type": "text"
      },
      "source": [
        "# -7- Time Calculations\n",
        " ##Count the number of days "
      ]
    },
    {
      "cell_type": "code",
      "metadata": {
        "id": "Wsn84ADguyl4",
        "colab_type": "code",
        "outputId": "a900d0db-f104-4dab-ad93-2037f1698b5d",
        "colab": {
          "base_uri": "https://localhost:8080/",
          "height": 34
        }
      },
      "source": [
        "from datetime import date\n",
        "\n",
        "s_date = date(2019,1,1)\n",
        "e_date = date.today()\n",
        "\n",
        "print(e_date - s_date)"
      ],
      "execution_count": 108,
      "outputs": [
        {
          "output_type": "stream",
          "text": [
            "216 days, 0:00:00\n"
          ],
          "name": "stdout"
        }
      ]
    },
    {
      "cell_type": "code",
      "metadata": {
        "id": "dj2pF4BGmMi8",
        "colab_type": "code",
        "outputId": "f36f5245-5311-45fc-92b9-892d2a746b10",
        "colab": {
          "base_uri": "https://localhost:8080/",
          "height": 34
        }
      },
      "source": [
        "\n",
        "agreement_date = parser.parse(schedule)\n",
        "days_worked = df.index.max() - df.index.min()\n",
        "print(days_worked.days)"
      ],
      "execution_count": 109,
      "outputs": [
        {
          "output_type": "stream",
          "text": [
            "17\n"
          ],
          "name": "stdout"
        }
      ]
    },
    {
      "cell_type": "code",
      "metadata": {
        "id": "XNvy0Kgppl4E",
        "colab_type": "code",
        "colab": {}
      },
      "source": [
        "days4job = agreement_date - df.index.min()\n"
      ],
      "execution_count": 0,
      "outputs": []
    },
    {
      "cell_type": "code",
      "metadata": {
        "id": "A45gBTIhp0bN",
        "colab_type": "code",
        "outputId": "825d9d24-3059-4484-8eba-988a404d211c",
        "colab": {
          "base_uri": "https://localhost:8080/",
          "height": 34
        }
      },
      "source": [
        "days4job.days"
      ],
      "execution_count": 111,
      "outputs": [
        {
          "output_type": "execute_result",
          "data": {
            "text/plain": [
              "9"
            ]
          },
          "metadata": {
            "tags": []
          },
          "execution_count": 111
        }
      ]
    },
    {
      "cell_type": "markdown",
      "metadata": {
        "id": "ibhvBDvHq_UQ",
        "colab_type": "text"
      },
      "source": [
        "# - 8 -  Recipe: High infomation bullet graph for Schedule\n",
        "\n",
        "Note:  A Bullet Graph visualizes a performance metric compared to a target"
      ]
    },
    {
      "cell_type": "code",
      "metadata": {
        "id": "rCnRbYaYprq1",
        "colab_type": "code",
        "colab": {}
      },
      "source": [
        "from bokeh.io import show, output_notebook\n",
        "from bokeh.palettes import PuBu4\n",
        "from bokeh.plotting import figure\n",
        "from bokeh.models import Label\n"
      ],
      "execution_count": 0,
      "outputs": []
    },
    {
      "cell_type": "code",
      "metadata": {
        "id": "07rTWONcYtXy",
        "colab_type": "code",
        "outputId": "8f3b6fb2-61d2-4097-a0e7-b7cff1ca9016",
        "colab": {
          "base_uri": "https://localhost:8080/",
          "height": 34
        }
      },
      "source": [
        "\n",
        "data = [(project_name, days4job.days, days_worked.days)]\n",
        "limits = [0, days4job.days, days4job.days *2, days4job.days *3]\n",
        "labels = [\"OK\", \"Late\", \"Very Late\"]\n",
        "cats = [x[0] for x in data]\n",
        "print(data, limits, labels, cats)"
      ],
      "execution_count": 113,
      "outputs": [
        {
          "output_type": "stream",
          "text": [
            "[('ABC_CPU_Motherboard', 9, 17)] [0, 9, 18, 27] ['OK', 'Late', 'Very Late'] ['ABC_CPU_Motherboard']\n"
          ],
          "name": "stdout"
        }
      ]
    },
    {
      "cell_type": "code",
      "metadata": {
        "id": "KEy3RlI_a0KU",
        "colab_type": "code",
        "colab": {}
      },
      "source": [
        "if days4job.days > days_worked.days:\n",
        "  status = str(days4job.days - days_worked.days)+\" days remaining\"\n",
        "else:\n",
        "  status = str(days_worked.days - days4job.days)+\" days past due\"\n",
        "  \n",
        "              \n",
        "sch_pct = f'{days_worked.days/days4job.days*100:.2f}' +\"% \"  \n",
        "\n",
        "p=figure(\n",
        "    title=sch_pct +\"Day \"+str(days_worked.days)+\" on a \"+str(days4job.days)+\" day project: \"+status, \n",
        "    plot_height=125, \n",
        "    plot_width=700, \n",
        "    y_range=cats,\n",
        "    toolbar_location=None,\n",
        ")\n",
        "p.x_range.range_padding = 0\n",
        "p.grid.grid_line_color = None\n",
        "p.xaxis[0].ticker.num_minor_ticks = 0\n"
      ],
      "execution_count": 0,
      "outputs": []
    },
    {
      "cell_type": "code",
      "metadata": {
        "id": "eAXh3kOXiajb",
        "colab_type": "code",
        "outputId": "6f4a4639-5ecd-4ad6-e916-0f315dbcfd2f",
        "colab": {
          "base_uri": "https://localhost:8080/",
          "height": 172
        }
      },
      "source": [
        "for left, right, color in zip(limits[:-1], limits[1:], PuBu4[::-1]):\n",
        "    p.hbar(y=cats, left=left, right=right, height=0.8, color=color)\n",
        "    \n",
        "output_notebook()\n",
        "show(p)"
      ],
      "execution_count": 115,
      "outputs": [
        {
          "output_type": "display_data",
          "data": {
            "text/html": [
              "\n",
              "    <div class=\"bk-root\">\n",
              "        <a href=\"https://bokeh.pydata.org\" target=\"_blank\" class=\"bk-logo bk-logo-small bk-logo-notebook\"></a>\n",
              "        <span id=\"3356\">Loading BokehJS ...</span>\n",
              "    </div>"
            ]
          },
          "metadata": {
            "tags": []
          }
        },
        {
          "output_type": "display_data",
          "data": {
            "application/javascript": [
              "\n",
              "(function(root) {\n",
              "  function now() {\n",
              "    return new Date();\n",
              "  }\n",
              "\n",
              "  var force = true;\n",
              "\n",
              "  if (typeof (root._bokeh_onload_callbacks) === \"undefined\" || force === true) {\n",
              "    root._bokeh_onload_callbacks = [];\n",
              "    root._bokeh_is_loading = undefined;\n",
              "  }\n",
              "\n",
              "  var JS_MIME_TYPE = 'application/javascript';\n",
              "  var HTML_MIME_TYPE = 'text/html';\n",
              "  var EXEC_MIME_TYPE = 'application/vnd.bokehjs_exec.v0+json';\n",
              "  var CLASS_NAME = 'output_bokeh rendered_html';\n",
              "\n",
              "  /**\n",
              "   * Render data to the DOM node\n",
              "   */\n",
              "  function render(props, node) {\n",
              "    var script = document.createElement(\"script\");\n",
              "    node.appendChild(script);\n",
              "  }\n",
              "\n",
              "  /**\n",
              "   * Handle when an output is cleared or removed\n",
              "   */\n",
              "  function handleClearOutput(event, handle) {\n",
              "    var cell = handle.cell;\n",
              "\n",
              "    var id = cell.output_area._bokeh_element_id;\n",
              "    var server_id = cell.output_area._bokeh_server_id;\n",
              "    // Clean up Bokeh references\n",
              "    if (id != null && id in Bokeh.index) {\n",
              "      Bokeh.index[id].model.document.clear();\n",
              "      delete Bokeh.index[id];\n",
              "    }\n",
              "\n",
              "    if (server_id !== undefined) {\n",
              "      // Clean up Bokeh references\n",
              "      var cmd = \"from bokeh.io.state import curstate; print(curstate().uuid_to_server['\" + server_id + \"'].get_sessions()[0].document.roots[0]._id)\";\n",
              "      cell.notebook.kernel.execute(cmd, {\n",
              "        iopub: {\n",
              "          output: function(msg) {\n",
              "            var id = msg.content.text.trim();\n",
              "            if (id in Bokeh.index) {\n",
              "              Bokeh.index[id].model.document.clear();\n",
              "              delete Bokeh.index[id];\n",
              "            }\n",
              "          }\n",
              "        }\n",
              "      });\n",
              "      // Destroy server and session\n",
              "      var cmd = \"import bokeh.io.notebook as ion; ion.destroy_server('\" + server_id + \"')\";\n",
              "      cell.notebook.kernel.execute(cmd);\n",
              "    }\n",
              "  }\n",
              "\n",
              "  /**\n",
              "   * Handle when a new output is added\n",
              "   */\n",
              "  function handleAddOutput(event, handle) {\n",
              "    var output_area = handle.output_area;\n",
              "    var output = handle.output;\n",
              "\n",
              "    // limit handleAddOutput to display_data with EXEC_MIME_TYPE content only\n",
              "    if ((output.output_type != \"display_data\") || (!output.data.hasOwnProperty(EXEC_MIME_TYPE))) {\n",
              "      return\n",
              "    }\n",
              "\n",
              "    var toinsert = output_area.element.find(\".\" + CLASS_NAME.split(' ')[0]);\n",
              "\n",
              "    if (output.metadata[EXEC_MIME_TYPE][\"id\"] !== undefined) {\n",
              "      toinsert[toinsert.length - 1].firstChild.textContent = output.data[JS_MIME_TYPE];\n",
              "      // store reference to embed id on output_area\n",
              "      output_area._bokeh_element_id = output.metadata[EXEC_MIME_TYPE][\"id\"];\n",
              "    }\n",
              "    if (output.metadata[EXEC_MIME_TYPE][\"server_id\"] !== undefined) {\n",
              "      var bk_div = document.createElement(\"div\");\n",
              "      bk_div.innerHTML = output.data[HTML_MIME_TYPE];\n",
              "      var script_attrs = bk_div.children[0].attributes;\n",
              "      for (var i = 0; i < script_attrs.length; i++) {\n",
              "        toinsert[toinsert.length - 1].firstChild.setAttribute(script_attrs[i].name, script_attrs[i].value);\n",
              "      }\n",
              "      // store reference to server id on output_area\n",
              "      output_area._bokeh_server_id = output.metadata[EXEC_MIME_TYPE][\"server_id\"];\n",
              "    }\n",
              "  }\n",
              "\n",
              "  function register_renderer(events, OutputArea) {\n",
              "\n",
              "    function append_mime(data, metadata, element) {\n",
              "      // create a DOM node to render to\n",
              "      var toinsert = this.create_output_subarea(\n",
              "        metadata,\n",
              "        CLASS_NAME,\n",
              "        EXEC_MIME_TYPE\n",
              "      );\n",
              "      this.keyboard_manager.register_events(toinsert);\n",
              "      // Render to node\n",
              "      var props = {data: data, metadata: metadata[EXEC_MIME_TYPE]};\n",
              "      render(props, toinsert[toinsert.length - 1]);\n",
              "      element.append(toinsert);\n",
              "      return toinsert\n",
              "    }\n",
              "\n",
              "    /* Handle when an output is cleared or removed */\n",
              "    events.on('clear_output.CodeCell', handleClearOutput);\n",
              "    events.on('delete.Cell', handleClearOutput);\n",
              "\n",
              "    /* Handle when a new output is added */\n",
              "    events.on('output_added.OutputArea', handleAddOutput);\n",
              "\n",
              "    /**\n",
              "     * Register the mime type and append_mime function with output_area\n",
              "     */\n",
              "    OutputArea.prototype.register_mime_type(EXEC_MIME_TYPE, append_mime, {\n",
              "      /* Is output safe? */\n",
              "      safe: true,\n",
              "      /* Index of renderer in `output_area.display_order` */\n",
              "      index: 0\n",
              "    });\n",
              "  }\n",
              "\n",
              "  // register the mime type if in Jupyter Notebook environment and previously unregistered\n",
              "  if (root.Jupyter !== undefined) {\n",
              "    var events = require('base/js/events');\n",
              "    var OutputArea = require('notebook/js/outputarea').OutputArea;\n",
              "\n",
              "    if (OutputArea.prototype.mime_types().indexOf(EXEC_MIME_TYPE) == -1) {\n",
              "      register_renderer(events, OutputArea);\n",
              "    }\n",
              "  }\n",
              "\n",
              "  \n",
              "  if (typeof (root._bokeh_timeout) === \"undefined\" || force === true) {\n",
              "    root._bokeh_timeout = Date.now() + 5000;\n",
              "    root._bokeh_failed_load = false;\n",
              "  }\n",
              "\n",
              "  var NB_LOAD_WARNING = {'data': {'text/html':\n",
              "     \"<div style='background-color: #fdd'>\\n\"+\n",
              "     \"<p>\\n\"+\n",
              "     \"BokehJS does not appear to have successfully loaded. If loading BokehJS from CDN, this \\n\"+\n",
              "     \"may be due to a slow or bad network connection. Possible fixes:\\n\"+\n",
              "     \"</p>\\n\"+\n",
              "     \"<ul>\\n\"+\n",
              "     \"<li>re-rerun `output_notebook()` to attempt to load from CDN again, or</li>\\n\"+\n",
              "     \"<li>use INLINE resources instead, as so:</li>\\n\"+\n",
              "     \"</ul>\\n\"+\n",
              "     \"<code>\\n\"+\n",
              "     \"from bokeh.resources import INLINE\\n\"+\n",
              "     \"output_notebook(resources=INLINE)\\n\"+\n",
              "     \"</code>\\n\"+\n",
              "     \"</div>\"}};\n",
              "\n",
              "  function display_loaded() {\n",
              "    var el = document.getElementById(\"3356\");\n",
              "    if (el != null) {\n",
              "      el.textContent = \"BokehJS is loading...\";\n",
              "    }\n",
              "    if (root.Bokeh !== undefined) {\n",
              "      if (el != null) {\n",
              "        el.textContent = \"BokehJS \" + root.Bokeh.version + \" successfully loaded.\";\n",
              "      }\n",
              "    } else if (Date.now() < root._bokeh_timeout) {\n",
              "      setTimeout(display_loaded, 100)\n",
              "    }\n",
              "  }\n",
              "\n",
              "\n",
              "  function run_callbacks() {\n",
              "    try {\n",
              "      root._bokeh_onload_callbacks.forEach(function(callback) { callback() });\n",
              "    }\n",
              "    finally {\n",
              "      delete root._bokeh_onload_callbacks\n",
              "    }\n",
              "    console.info(\"Bokeh: all callbacks have finished\");\n",
              "  }\n",
              "\n",
              "  function load_libs(js_urls, callback) {\n",
              "    root._bokeh_onload_callbacks.push(callback);\n",
              "    if (root._bokeh_is_loading > 0) {\n",
              "      console.log(\"Bokeh: BokehJS is being loaded, scheduling callback at\", now());\n",
              "      return null;\n",
              "    }\n",
              "    if (js_urls == null || js_urls.length === 0) {\n",
              "      run_callbacks();\n",
              "      return null;\n",
              "    }\n",
              "    console.log(\"Bokeh: BokehJS not loaded, scheduling load and callback at\", now());\n",
              "    root._bokeh_is_loading = js_urls.length;\n",
              "    for (var i = 0; i < js_urls.length; i++) {\n",
              "      var url = js_urls[i];\n",
              "      var s = document.createElement('script');\n",
              "      s.src = url;\n",
              "      s.async = false;\n",
              "      s.onreadystatechange = s.onload = function() {\n",
              "        root._bokeh_is_loading--;\n",
              "        if (root._bokeh_is_loading === 0) {\n",
              "          console.log(\"Bokeh: all BokehJS libraries loaded\");\n",
              "          run_callbacks()\n",
              "        }\n",
              "      };\n",
              "      s.onerror = function() {\n",
              "        console.warn(\"failed to load library \" + url);\n",
              "      };\n",
              "      console.log(\"Bokeh: injecting script tag for BokehJS library: \", url);\n",
              "      document.getElementsByTagName(\"head\")[0].appendChild(s);\n",
              "    }\n",
              "  };var element = document.getElementById(\"3356\");\n",
              "  if (element == null) {\n",
              "    console.log(\"Bokeh: ERROR: autoload.js configured with elementid '3356' but no matching script tag was found. \")\n",
              "    return false;\n",
              "  }\n",
              "\n",
              "  var js_urls = [\"https://cdn.pydata.org/bokeh/release/bokeh-1.0.4.min.js\", \"https://cdn.pydata.org/bokeh/release/bokeh-widgets-1.0.4.min.js\", \"https://cdn.pydata.org/bokeh/release/bokeh-tables-1.0.4.min.js\", \"https://cdn.pydata.org/bokeh/release/bokeh-gl-1.0.4.min.js\"];\n",
              "\n",
              "  var inline_js = [\n",
              "    function(Bokeh) {\n",
              "      Bokeh.set_log_level(\"info\");\n",
              "    },\n",
              "    \n",
              "    function(Bokeh) {\n",
              "      \n",
              "    },\n",
              "    function(Bokeh) {\n",
              "      console.log(\"Bokeh: injecting CSS: https://cdn.pydata.org/bokeh/release/bokeh-1.0.4.min.css\");\n",
              "      Bokeh.embed.inject_css(\"https://cdn.pydata.org/bokeh/release/bokeh-1.0.4.min.css\");\n",
              "      console.log(\"Bokeh: injecting CSS: https://cdn.pydata.org/bokeh/release/bokeh-widgets-1.0.4.min.css\");\n",
              "      Bokeh.embed.inject_css(\"https://cdn.pydata.org/bokeh/release/bokeh-widgets-1.0.4.min.css\");\n",
              "      console.log(\"Bokeh: injecting CSS: https://cdn.pydata.org/bokeh/release/bokeh-tables-1.0.4.min.css\");\n",
              "      Bokeh.embed.inject_css(\"https://cdn.pydata.org/bokeh/release/bokeh-tables-1.0.4.min.css\");\n",
              "    }\n",
              "  ];\n",
              "\n",
              "  function run_inline_js() {\n",
              "    \n",
              "    if ((root.Bokeh !== undefined) || (force === true)) {\n",
              "      for (var i = 0; i < inline_js.length; i++) {\n",
              "        inline_js[i].call(root, root.Bokeh);\n",
              "      }if (force === true) {\n",
              "        display_loaded();\n",
              "      }} else if (Date.now() < root._bokeh_timeout) {\n",
              "      setTimeout(run_inline_js, 100);\n",
              "    } else if (!root._bokeh_failed_load) {\n",
              "      console.log(\"Bokeh: BokehJS failed to load within specified timeout.\");\n",
              "      root._bokeh_failed_load = true;\n",
              "    } else if (force !== true) {\n",
              "      var cell = $(document.getElementById(\"3356\")).parents('.cell').data().cell;\n",
              "      cell.output_area.append_execute_result(NB_LOAD_WARNING)\n",
              "    }\n",
              "\n",
              "  }\n",
              "\n",
              "  if (root._bokeh_is_loading === 0) {\n",
              "    console.log(\"Bokeh: BokehJS loaded, going straight to plotting\");\n",
              "    run_inline_js();\n",
              "  } else {\n",
              "    load_libs(js_urls, function() {\n",
              "      console.log(\"Bokeh: BokehJS plotting callback run at\", now());\n",
              "      run_inline_js();\n",
              "    });\n",
              "  }\n",
              "}(window));"
            ],
            "application/vnd.bokehjs_load.v0+json": "\n(function(root) {\n  function now() {\n    return new Date();\n  }\n\n  var force = true;\n\n  if (typeof (root._bokeh_onload_callbacks) === \"undefined\" || force === true) {\n    root._bokeh_onload_callbacks = [];\n    root._bokeh_is_loading = undefined;\n  }\n\n  \n\n  \n  if (typeof (root._bokeh_timeout) === \"undefined\" || force === true) {\n    root._bokeh_timeout = Date.now() + 5000;\n    root._bokeh_failed_load = false;\n  }\n\n  var NB_LOAD_WARNING = {'data': {'text/html':\n     \"<div style='background-color: #fdd'>\\n\"+\n     \"<p>\\n\"+\n     \"BokehJS does not appear to have successfully loaded. If loading BokehJS from CDN, this \\n\"+\n     \"may be due to a slow or bad network connection. Possible fixes:\\n\"+\n     \"</p>\\n\"+\n     \"<ul>\\n\"+\n     \"<li>re-rerun `output_notebook()` to attempt to load from CDN again, or</li>\\n\"+\n     \"<li>use INLINE resources instead, as so:</li>\\n\"+\n     \"</ul>\\n\"+\n     \"<code>\\n\"+\n     \"from bokeh.resources import INLINE\\n\"+\n     \"output_notebook(resources=INLINE)\\n\"+\n     \"</code>\\n\"+\n     \"</div>\"}};\n\n  function display_loaded() {\n    var el = document.getElementById(\"3356\");\n    if (el != null) {\n      el.textContent = \"BokehJS is loading...\";\n    }\n    if (root.Bokeh !== undefined) {\n      if (el != null) {\n        el.textContent = \"BokehJS \" + root.Bokeh.version + \" successfully loaded.\";\n      }\n    } else if (Date.now() < root._bokeh_timeout) {\n      setTimeout(display_loaded, 100)\n    }\n  }\n\n\n  function run_callbacks() {\n    try {\n      root._bokeh_onload_callbacks.forEach(function(callback) { callback() });\n    }\n    finally {\n      delete root._bokeh_onload_callbacks\n    }\n    console.info(\"Bokeh: all callbacks have finished\");\n  }\n\n  function load_libs(js_urls, callback) {\n    root._bokeh_onload_callbacks.push(callback);\n    if (root._bokeh_is_loading > 0) {\n      console.log(\"Bokeh: BokehJS is being loaded, scheduling callback at\", now());\n      return null;\n    }\n    if (js_urls == null || js_urls.length === 0) {\n      run_callbacks();\n      return null;\n    }\n    console.log(\"Bokeh: BokehJS not loaded, scheduling load and callback at\", now());\n    root._bokeh_is_loading = js_urls.length;\n    for (var i = 0; i < js_urls.length; i++) {\n      var url = js_urls[i];\n      var s = document.createElement('script');\n      s.src = url;\n      s.async = false;\n      s.onreadystatechange = s.onload = function() {\n        root._bokeh_is_loading--;\n        if (root._bokeh_is_loading === 0) {\n          console.log(\"Bokeh: all BokehJS libraries loaded\");\n          run_callbacks()\n        }\n      };\n      s.onerror = function() {\n        console.warn(\"failed to load library \" + url);\n      };\n      console.log(\"Bokeh: injecting script tag for BokehJS library: \", url);\n      document.getElementsByTagName(\"head\")[0].appendChild(s);\n    }\n  };var element = document.getElementById(\"3356\");\n  if (element == null) {\n    console.log(\"Bokeh: ERROR: autoload.js configured with elementid '3356' but no matching script tag was found. \")\n    return false;\n  }\n\n  var js_urls = [\"https://cdn.pydata.org/bokeh/release/bokeh-1.0.4.min.js\", \"https://cdn.pydata.org/bokeh/release/bokeh-widgets-1.0.4.min.js\", \"https://cdn.pydata.org/bokeh/release/bokeh-tables-1.0.4.min.js\", \"https://cdn.pydata.org/bokeh/release/bokeh-gl-1.0.4.min.js\"];\n\n  var inline_js = [\n    function(Bokeh) {\n      Bokeh.set_log_level(\"info\");\n    },\n    \n    function(Bokeh) {\n      \n    },\n    function(Bokeh) {\n      console.log(\"Bokeh: injecting CSS: https://cdn.pydata.org/bokeh/release/bokeh-1.0.4.min.css\");\n      Bokeh.embed.inject_css(\"https://cdn.pydata.org/bokeh/release/bokeh-1.0.4.min.css\");\n      console.log(\"Bokeh: injecting CSS: https://cdn.pydata.org/bokeh/release/bokeh-widgets-1.0.4.min.css\");\n      Bokeh.embed.inject_css(\"https://cdn.pydata.org/bokeh/release/bokeh-widgets-1.0.4.min.css\");\n      console.log(\"Bokeh: injecting CSS: https://cdn.pydata.org/bokeh/release/bokeh-tables-1.0.4.min.css\");\n      Bokeh.embed.inject_css(\"https://cdn.pydata.org/bokeh/release/bokeh-tables-1.0.4.min.css\");\n    }\n  ];\n\n  function run_inline_js() {\n    \n    if ((root.Bokeh !== undefined) || (force === true)) {\n      for (var i = 0; i < inline_js.length; i++) {\n        inline_js[i].call(root, root.Bokeh);\n      }if (force === true) {\n        display_loaded();\n      }} else if (Date.now() < root._bokeh_timeout) {\n      setTimeout(run_inline_js, 100);\n    } else if (!root._bokeh_failed_load) {\n      console.log(\"Bokeh: BokehJS failed to load within specified timeout.\");\n      root._bokeh_failed_load = true;\n    } else if (force !== true) {\n      var cell = $(document.getElementById(\"3356\")).parents('.cell').data().cell;\n      cell.output_area.append_execute_result(NB_LOAD_WARNING)\n    }\n\n  }\n\n  if (root._bokeh_is_loading === 0) {\n    console.log(\"Bokeh: BokehJS loaded, going straight to plotting\");\n    run_inline_js();\n  } else {\n    load_libs(js_urls, function() {\n      console.log(\"Bokeh: BokehJS plotting callback run at\", now());\n      run_inline_js();\n    });\n  }\n}(window));"
          },
          "metadata": {
            "tags": []
          }
        },
        {
          "output_type": "display_data",
          "data": {
            "text/html": [
              "\n",
              "\n",
              "\n",
              "\n",
              "\n",
              "\n",
              "  <div class=\"bk-root\" id=\"2c156fb5-5ad5-4525-bf5f-0f9b69941bb7\" data-root-id=\"3306\"></div>\n"
            ]
          },
          "metadata": {
            "tags": []
          }
        },
        {
          "output_type": "display_data",
          "data": {
            "application/javascript": [
              "(function(root) {\n",
              "  function embed_document(root) {\n",
              "    \n",
              "  var docs_json = {\"4bed33b4-dcf7-4503-9738-0e63502a375f\":{\"roots\":{\"references\":[{\"attributes\":{\"below\":[{\"id\":\"3316\",\"type\":\"LinearAxis\"}],\"left\":[{\"id\":\"3321\",\"type\":\"CategoricalAxis\"}],\"plot_height\":125,\"plot_width\":700,\"renderers\":[{\"id\":\"3316\",\"type\":\"LinearAxis\"},{\"id\":\"3320\",\"type\":\"Grid\"},{\"id\":\"3321\",\"type\":\"CategoricalAxis\"},{\"id\":\"3324\",\"type\":\"Grid\"},{\"id\":\"3333\",\"type\":\"BoxAnnotation\"},{\"id\":\"3344\",\"type\":\"GlyphRenderer\"},{\"id\":\"3349\",\"type\":\"GlyphRenderer\"},{\"id\":\"3354\",\"type\":\"GlyphRenderer\"}],\"title\":{\"id\":\"3305\",\"type\":\"Title\"},\"toolbar\":{\"id\":\"3331\",\"type\":\"Toolbar\"},\"toolbar_location\":null,\"x_range\":{\"id\":\"3308\",\"type\":\"DataRange1d\"},\"x_scale\":{\"id\":\"3312\",\"type\":\"LinearScale\"},\"y_range\":{\"id\":\"3310\",\"type\":\"FactorRange\"},\"y_scale\":{\"id\":\"3314\",\"type\":\"CategoricalScale\"}},\"id\":\"3306\",\"subtype\":\"Figure\",\"type\":\"Plot\"},{\"attributes\":{\"plot\":null,\"text\":\"188.89% Day 17 on a 9 day project: 8 days past due\"},\"id\":\"3305\",\"type\":\"Title\"},{\"attributes\":{},\"id\":\"3330\",\"type\":\"HelpTool\"},{\"attributes\":{},\"id\":\"3444\",\"type\":\"Selection\"},{\"attributes\":{\"bottom_units\":\"screen\",\"fill_alpha\":{\"value\":0.5},\"fill_color\":{\"value\":\"lightgrey\"},\"left_units\":\"screen\",\"level\":\"overlay\",\"line_alpha\":{\"value\":1.0},\"line_color\":{\"value\":\"black\"},\"line_dash\":[4,4],\"line_width\":{\"value\":2},\"plot\":null,\"render_mode\":\"css\",\"right_units\":\"screen\",\"top_units\":\"screen\"},\"id\":\"3333\",\"type\":\"BoxAnnotation\"},{\"attributes\":{\"source\":{\"id\":\"3341\",\"type\":\"ColumnDataSource\"}},\"id\":\"3345\",\"type\":\"CDSView\"},{\"attributes\":{\"callback\":null,\"range_padding\":0},\"id\":\"3308\",\"type\":\"DataRange1d\"},{\"attributes\":{\"data_source\":{\"id\":\"3341\",\"type\":\"ColumnDataSource\"},\"glyph\":{\"id\":\"3342\",\"type\":\"HBar\"},\"hover_glyph\":null,\"muted_glyph\":null,\"nonselection_glyph\":{\"id\":\"3343\",\"type\":\"HBar\"},\"selection_glyph\":null,\"view\":{\"id\":\"3345\",\"type\":\"CDSView\"}},\"id\":\"3344\",\"type\":\"GlyphRenderer\"},{\"attributes\":{},\"id\":\"3329\",\"type\":\"ResetTool\"},{\"attributes\":{\"fill_alpha\":{\"value\":0.1},\"fill_color\":{\"value\":\"#1f77b4\"},\"height\":{\"value\":0.8},\"line_alpha\":{\"value\":0.1},\"line_color\":{\"value\":\"#1f77b4\"},\"right\":{\"value\":9},\"y\":{\"field\":\"y\"}},\"id\":\"3343\",\"type\":\"HBar\"},{\"attributes\":{},\"id\":\"3326\",\"type\":\"WheelZoomTool\"},{\"attributes\":{\"overlay\":{\"id\":\"3333\",\"type\":\"BoxAnnotation\"}},\"id\":\"3327\",\"type\":\"BoxZoomTool\"},{\"attributes\":{},\"id\":\"3445\",\"type\":\"UnionRenderers\"},{\"attributes\":{\"fill_color\":{\"value\":\"#bdc9e1\"},\"height\":{\"value\":0.8},\"left\":{\"value\":9},\"line_color\":{\"value\":\"#bdc9e1\"},\"right\":{\"value\":18},\"y\":{\"field\":\"y\"}},\"id\":\"3347\",\"type\":\"HBar\"},{\"attributes\":{\"num_minor_ticks\":0},\"id\":\"3317\",\"type\":\"BasicTicker\"},{\"attributes\":{\"callback\":null,\"data\":{\"y\":[\"ABC_CPU_Motherboard\"]},\"selected\":{\"id\":\"3446\",\"type\":\"Selection\"},\"selection_policy\":{\"id\":\"3445\",\"type\":\"UnionRenderers\"}},\"id\":\"3346\",\"type\":\"ColumnDataSource\"},{\"attributes\":{\"source\":{\"id\":\"3346\",\"type\":\"ColumnDataSource\"}},\"id\":\"3350\",\"type\":\"CDSView\"},{\"attributes\":{},\"id\":\"3448\",\"type\":\"Selection\"},{\"attributes\":{\"data_source\":{\"id\":\"3346\",\"type\":\"ColumnDataSource\"},\"glyph\":{\"id\":\"3347\",\"type\":\"HBar\"},\"hover_glyph\":null,\"muted_glyph\":null,\"nonselection_glyph\":{\"id\":\"3348\",\"type\":\"HBar\"},\"selection_glyph\":null,\"view\":{\"id\":\"3350\",\"type\":\"CDSView\"}},\"id\":\"3349\",\"type\":\"GlyphRenderer\"},{\"attributes\":{\"fill_alpha\":{\"value\":0.1},\"fill_color\":{\"value\":\"#1f77b4\"},\"height\":{\"value\":0.8},\"left\":{\"value\":18},\"line_alpha\":{\"value\":0.1},\"line_color\":{\"value\":\"#1f77b4\"},\"right\":{\"value\":27},\"y\":{\"field\":\"y\"}},\"id\":\"3353\",\"type\":\"HBar\"},{\"attributes\":{},\"id\":\"3447\",\"type\":\"UnionRenderers\"},{\"attributes\":{\"fill_color\":{\"value\":\"#74a9cf\"},\"height\":{\"value\":0.8},\"left\":{\"value\":18},\"line_color\":{\"value\":\"#74a9cf\"},\"right\":{\"value\":27},\"y\":{\"field\":\"y\"}},\"id\":\"3352\",\"type\":\"HBar\"},{\"attributes\":{},\"id\":\"3439\",\"type\":\"CategoricalTickFormatter\"},{\"attributes\":{},\"id\":\"3443\",\"type\":\"UnionRenderers\"},{\"attributes\":{},\"id\":\"3325\",\"type\":\"PanTool\"},{\"attributes\":{},\"id\":\"3328\",\"type\":\"SaveTool\"},{\"attributes\":{\"data_source\":{\"id\":\"3351\",\"type\":\"ColumnDataSource\"},\"glyph\":{\"id\":\"3352\",\"type\":\"HBar\"},\"hover_glyph\":null,\"muted_glyph\":null,\"nonselection_glyph\":{\"id\":\"3353\",\"type\":\"HBar\"},\"selection_glyph\":null,\"view\":{\"id\":\"3355\",\"type\":\"CDSView\"}},\"id\":\"3354\",\"type\":\"GlyphRenderer\"},{\"attributes\":{\"fill_color\":{\"value\":\"#f1eef6\"},\"height\":{\"value\":0.8},\"line_color\":{\"value\":\"#f1eef6\"},\"right\":{\"value\":9},\"y\":{\"field\":\"y\"}},\"id\":\"3342\",\"type\":\"HBar\"},{\"attributes\":{\"source\":{\"id\":\"3351\",\"type\":\"ColumnDataSource\"}},\"id\":\"3355\",\"type\":\"CDSView\"},{\"attributes\":{},\"id\":\"3314\",\"type\":\"CategoricalScale\"},{\"attributes\":{\"formatter\":{\"id\":\"3439\",\"type\":\"CategoricalTickFormatter\"},\"plot\":{\"id\":\"3306\",\"subtype\":\"Figure\",\"type\":\"Plot\"},\"ticker\":{\"id\":\"3322\",\"type\":\"CategoricalTicker\"}},\"id\":\"3321\",\"type\":\"CategoricalAxis\"},{\"attributes\":{\"callback\":null,\"data\":{\"y\":[\"ABC_CPU_Motherboard\"]},\"selected\":{\"id\":\"3448\",\"type\":\"Selection\"},\"selection_policy\":{\"id\":\"3447\",\"type\":\"UnionRenderers\"}},\"id\":\"3351\",\"type\":\"ColumnDataSource\"},{\"attributes\":{},\"id\":\"3322\",\"type\":\"CategoricalTicker\"},{\"attributes\":{},\"id\":\"3446\",\"type\":\"Selection\"},{\"attributes\":{\"callback\":null,\"factors\":[\"ABC_CPU_Motherboard\"]},\"id\":\"3310\",\"type\":\"FactorRange\"},{\"attributes\":{},\"id\":\"3312\",\"type\":\"LinearScale\"},{\"attributes\":{\"callback\":null,\"data\":{\"y\":[\"ABC_CPU_Motherboard\"]},\"selected\":{\"id\":\"3444\",\"type\":\"Selection\"},\"selection_policy\":{\"id\":\"3443\",\"type\":\"UnionRenderers\"}},\"id\":\"3341\",\"type\":\"ColumnDataSource\"},{\"attributes\":{\"formatter\":{\"id\":\"3441\",\"type\":\"BasicTickFormatter\"},\"plot\":{\"id\":\"3306\",\"subtype\":\"Figure\",\"type\":\"Plot\"},\"ticker\":{\"id\":\"3317\",\"type\":\"BasicTicker\"}},\"id\":\"3316\",\"type\":\"LinearAxis\"},{\"attributes\":{\"fill_alpha\":{\"value\":0.1},\"fill_color\":{\"value\":\"#1f77b4\"},\"height\":{\"value\":0.8},\"left\":{\"value\":9},\"line_alpha\":{\"value\":0.1},\"line_color\":{\"value\":\"#1f77b4\"},\"right\":{\"value\":18},\"y\":{\"field\":\"y\"}},\"id\":\"3348\",\"type\":\"HBar\"},{\"attributes\":{},\"id\":\"3441\",\"type\":\"BasicTickFormatter\"},{\"attributes\":{\"dimension\":1,\"grid_line_color\":{\"value\":null},\"plot\":{\"id\":\"3306\",\"subtype\":\"Figure\",\"type\":\"Plot\"},\"ticker\":{\"id\":\"3322\",\"type\":\"CategoricalTicker\"}},\"id\":\"3324\",\"type\":\"Grid\"},{\"attributes\":{\"active_drag\":\"auto\",\"active_inspect\":\"auto\",\"active_multi\":null,\"active_scroll\":\"auto\",\"active_tap\":\"auto\",\"tools\":[{\"id\":\"3325\",\"type\":\"PanTool\"},{\"id\":\"3326\",\"type\":\"WheelZoomTool\"},{\"id\":\"3327\",\"type\":\"BoxZoomTool\"},{\"id\":\"3328\",\"type\":\"SaveTool\"},{\"id\":\"3329\",\"type\":\"ResetTool\"},{\"id\":\"3330\",\"type\":\"HelpTool\"}]},\"id\":\"3331\",\"type\":\"Toolbar\"},{\"attributes\":{\"grid_line_color\":{\"value\":null},\"plot\":{\"id\":\"3306\",\"subtype\":\"Figure\",\"type\":\"Plot\"},\"ticker\":{\"id\":\"3317\",\"type\":\"BasicTicker\"}},\"id\":\"3320\",\"type\":\"Grid\"}],\"root_ids\":[\"3306\"]},\"title\":\"Bokeh Application\",\"version\":\"1.0.4\"}};\n",
              "  var render_items = [{\"docid\":\"4bed33b4-dcf7-4503-9738-0e63502a375f\",\"roots\":{\"3306\":\"2c156fb5-5ad5-4525-bf5f-0f9b69941bb7\"}}];\n",
              "  root.Bokeh.embed.embed_items_notebook(docs_json, render_items);\n",
              "\n",
              "  }\n",
              "  if (root.Bokeh !== undefined) {\n",
              "    embed_document(root);\n",
              "  } else {\n",
              "    var attempts = 0;\n",
              "    var timer = setInterval(function(root) {\n",
              "      if (root.Bokeh !== undefined) {\n",
              "        embed_document(root);\n",
              "        clearInterval(timer);\n",
              "      }\n",
              "      attempts++;\n",
              "      if (attempts > 100) {\n",
              "        console.log(\"Bokeh: ERROR: Unable to run BokehJS code because BokehJS library is missing\");\n",
              "        clearInterval(timer);\n",
              "      }\n",
              "    }, 10, root)\n",
              "  }\n",
              "})(window);"
            ],
            "application/vnd.bokehjs_exec.v0+json": ""
          },
          "metadata": {
            "tags": [],
            "application/vnd.bokehjs_exec.v0+json": {
              "id": "3306"
            }
          }
        }
      ]
    },
    {
      "cell_type": "code",
      "metadata": {
        "id": "lY8QJgUTi9fy",
        "colab_type": "code",
        "outputId": "36f73923-3412-438f-a238-f40926a442c1",
        "colab": {
          "base_uri": "https://localhost:8080/",
          "height": 172
        }
      },
      "source": [
        "perf = [x[2] for x in data]\n",
        "p.hbar(y=cats, left=0, right=perf, height=0.3, color=\"gray\")\n",
        "\n",
        "output_notebook()\n",
        "show(p)"
      ],
      "execution_count": 116,
      "outputs": [
        {
          "output_type": "display_data",
          "data": {
            "text/html": [
              "\n",
              "    <div class=\"bk-root\">\n",
              "        <a href=\"https://bokeh.pydata.org\" target=\"_blank\" class=\"bk-logo bk-logo-small bk-logo-notebook\"></a>\n",
              "        <span id=\"3620\">Loading BokehJS ...</span>\n",
              "    </div>"
            ]
          },
          "metadata": {
            "tags": []
          }
        },
        {
          "output_type": "display_data",
          "data": {
            "application/javascript": [
              "\n",
              "(function(root) {\n",
              "  function now() {\n",
              "    return new Date();\n",
              "  }\n",
              "\n",
              "  var force = true;\n",
              "\n",
              "  if (typeof (root._bokeh_onload_callbacks) === \"undefined\" || force === true) {\n",
              "    root._bokeh_onload_callbacks = [];\n",
              "    root._bokeh_is_loading = undefined;\n",
              "  }\n",
              "\n",
              "  var JS_MIME_TYPE = 'application/javascript';\n",
              "  var HTML_MIME_TYPE = 'text/html';\n",
              "  var EXEC_MIME_TYPE = 'application/vnd.bokehjs_exec.v0+json';\n",
              "  var CLASS_NAME = 'output_bokeh rendered_html';\n",
              "\n",
              "  /**\n",
              "   * Render data to the DOM node\n",
              "   */\n",
              "  function render(props, node) {\n",
              "    var script = document.createElement(\"script\");\n",
              "    node.appendChild(script);\n",
              "  }\n",
              "\n",
              "  /**\n",
              "   * Handle when an output is cleared or removed\n",
              "   */\n",
              "  function handleClearOutput(event, handle) {\n",
              "    var cell = handle.cell;\n",
              "\n",
              "    var id = cell.output_area._bokeh_element_id;\n",
              "    var server_id = cell.output_area._bokeh_server_id;\n",
              "    // Clean up Bokeh references\n",
              "    if (id != null && id in Bokeh.index) {\n",
              "      Bokeh.index[id].model.document.clear();\n",
              "      delete Bokeh.index[id];\n",
              "    }\n",
              "\n",
              "    if (server_id !== undefined) {\n",
              "      // Clean up Bokeh references\n",
              "      var cmd = \"from bokeh.io.state import curstate; print(curstate().uuid_to_server['\" + server_id + \"'].get_sessions()[0].document.roots[0]._id)\";\n",
              "      cell.notebook.kernel.execute(cmd, {\n",
              "        iopub: {\n",
              "          output: function(msg) {\n",
              "            var id = msg.content.text.trim();\n",
              "            if (id in Bokeh.index) {\n",
              "              Bokeh.index[id].model.document.clear();\n",
              "              delete Bokeh.index[id];\n",
              "            }\n",
              "          }\n",
              "        }\n",
              "      });\n",
              "      // Destroy server and session\n",
              "      var cmd = \"import bokeh.io.notebook as ion; ion.destroy_server('\" + server_id + \"')\";\n",
              "      cell.notebook.kernel.execute(cmd);\n",
              "    }\n",
              "  }\n",
              "\n",
              "  /**\n",
              "   * Handle when a new output is added\n",
              "   */\n",
              "  function handleAddOutput(event, handle) {\n",
              "    var output_area = handle.output_area;\n",
              "    var output = handle.output;\n",
              "\n",
              "    // limit handleAddOutput to display_data with EXEC_MIME_TYPE content only\n",
              "    if ((output.output_type != \"display_data\") || (!output.data.hasOwnProperty(EXEC_MIME_TYPE))) {\n",
              "      return\n",
              "    }\n",
              "\n",
              "    var toinsert = output_area.element.find(\".\" + CLASS_NAME.split(' ')[0]);\n",
              "\n",
              "    if (output.metadata[EXEC_MIME_TYPE][\"id\"] !== undefined) {\n",
              "      toinsert[toinsert.length - 1].firstChild.textContent = output.data[JS_MIME_TYPE];\n",
              "      // store reference to embed id on output_area\n",
              "      output_area._bokeh_element_id = output.metadata[EXEC_MIME_TYPE][\"id\"];\n",
              "    }\n",
              "    if (output.metadata[EXEC_MIME_TYPE][\"server_id\"] !== undefined) {\n",
              "      var bk_div = document.createElement(\"div\");\n",
              "      bk_div.innerHTML = output.data[HTML_MIME_TYPE];\n",
              "      var script_attrs = bk_div.children[0].attributes;\n",
              "      for (var i = 0; i < script_attrs.length; i++) {\n",
              "        toinsert[toinsert.length - 1].firstChild.setAttribute(script_attrs[i].name, script_attrs[i].value);\n",
              "      }\n",
              "      // store reference to server id on output_area\n",
              "      output_area._bokeh_server_id = output.metadata[EXEC_MIME_TYPE][\"server_id\"];\n",
              "    }\n",
              "  }\n",
              "\n",
              "  function register_renderer(events, OutputArea) {\n",
              "\n",
              "    function append_mime(data, metadata, element) {\n",
              "      // create a DOM node to render to\n",
              "      var toinsert = this.create_output_subarea(\n",
              "        metadata,\n",
              "        CLASS_NAME,\n",
              "        EXEC_MIME_TYPE\n",
              "      );\n",
              "      this.keyboard_manager.register_events(toinsert);\n",
              "      // Render to node\n",
              "      var props = {data: data, metadata: metadata[EXEC_MIME_TYPE]};\n",
              "      render(props, toinsert[toinsert.length - 1]);\n",
              "      element.append(toinsert);\n",
              "      return toinsert\n",
              "    }\n",
              "\n",
              "    /* Handle when an output is cleared or removed */\n",
              "    events.on('clear_output.CodeCell', handleClearOutput);\n",
              "    events.on('delete.Cell', handleClearOutput);\n",
              "\n",
              "    /* Handle when a new output is added */\n",
              "    events.on('output_added.OutputArea', handleAddOutput);\n",
              "\n",
              "    /**\n",
              "     * Register the mime type and append_mime function with output_area\n",
              "     */\n",
              "    OutputArea.prototype.register_mime_type(EXEC_MIME_TYPE, append_mime, {\n",
              "      /* Is output safe? */\n",
              "      safe: true,\n",
              "      /* Index of renderer in `output_area.display_order` */\n",
              "      index: 0\n",
              "    });\n",
              "  }\n",
              "\n",
              "  // register the mime type if in Jupyter Notebook environment and previously unregistered\n",
              "  if (root.Jupyter !== undefined) {\n",
              "    var events = require('base/js/events');\n",
              "    var OutputArea = require('notebook/js/outputarea').OutputArea;\n",
              "\n",
              "    if (OutputArea.prototype.mime_types().indexOf(EXEC_MIME_TYPE) == -1) {\n",
              "      register_renderer(events, OutputArea);\n",
              "    }\n",
              "  }\n",
              "\n",
              "  \n",
              "  if (typeof (root._bokeh_timeout) === \"undefined\" || force === true) {\n",
              "    root._bokeh_timeout = Date.now() + 5000;\n",
              "    root._bokeh_failed_load = false;\n",
              "  }\n",
              "\n",
              "  var NB_LOAD_WARNING = {'data': {'text/html':\n",
              "     \"<div style='background-color: #fdd'>\\n\"+\n",
              "     \"<p>\\n\"+\n",
              "     \"BokehJS does not appear to have successfully loaded. If loading BokehJS from CDN, this \\n\"+\n",
              "     \"may be due to a slow or bad network connection. Possible fixes:\\n\"+\n",
              "     \"</p>\\n\"+\n",
              "     \"<ul>\\n\"+\n",
              "     \"<li>re-rerun `output_notebook()` to attempt to load from CDN again, or</li>\\n\"+\n",
              "     \"<li>use INLINE resources instead, as so:</li>\\n\"+\n",
              "     \"</ul>\\n\"+\n",
              "     \"<code>\\n\"+\n",
              "     \"from bokeh.resources import INLINE\\n\"+\n",
              "     \"output_notebook(resources=INLINE)\\n\"+\n",
              "     \"</code>\\n\"+\n",
              "     \"</div>\"}};\n",
              "\n",
              "  function display_loaded() {\n",
              "    var el = document.getElementById(\"3620\");\n",
              "    if (el != null) {\n",
              "      el.textContent = \"BokehJS is loading...\";\n",
              "    }\n",
              "    if (root.Bokeh !== undefined) {\n",
              "      if (el != null) {\n",
              "        el.textContent = \"BokehJS \" + root.Bokeh.version + \" successfully loaded.\";\n",
              "      }\n",
              "    } else if (Date.now() < root._bokeh_timeout) {\n",
              "      setTimeout(display_loaded, 100)\n",
              "    }\n",
              "  }\n",
              "\n",
              "\n",
              "  function run_callbacks() {\n",
              "    try {\n",
              "      root._bokeh_onload_callbacks.forEach(function(callback) { callback() });\n",
              "    }\n",
              "    finally {\n",
              "      delete root._bokeh_onload_callbacks\n",
              "    }\n",
              "    console.info(\"Bokeh: all callbacks have finished\");\n",
              "  }\n",
              "\n",
              "  function load_libs(js_urls, callback) {\n",
              "    root._bokeh_onload_callbacks.push(callback);\n",
              "    if (root._bokeh_is_loading > 0) {\n",
              "      console.log(\"Bokeh: BokehJS is being loaded, scheduling callback at\", now());\n",
              "      return null;\n",
              "    }\n",
              "    if (js_urls == null || js_urls.length === 0) {\n",
              "      run_callbacks();\n",
              "      return null;\n",
              "    }\n",
              "    console.log(\"Bokeh: BokehJS not loaded, scheduling load and callback at\", now());\n",
              "    root._bokeh_is_loading = js_urls.length;\n",
              "    for (var i = 0; i < js_urls.length; i++) {\n",
              "      var url = js_urls[i];\n",
              "      var s = document.createElement('script');\n",
              "      s.src = url;\n",
              "      s.async = false;\n",
              "      s.onreadystatechange = s.onload = function() {\n",
              "        root._bokeh_is_loading--;\n",
              "        if (root._bokeh_is_loading === 0) {\n",
              "          console.log(\"Bokeh: all BokehJS libraries loaded\");\n",
              "          run_callbacks()\n",
              "        }\n",
              "      };\n",
              "      s.onerror = function() {\n",
              "        console.warn(\"failed to load library \" + url);\n",
              "      };\n",
              "      console.log(\"Bokeh: injecting script tag for BokehJS library: \", url);\n",
              "      document.getElementsByTagName(\"head\")[0].appendChild(s);\n",
              "    }\n",
              "  };var element = document.getElementById(\"3620\");\n",
              "  if (element == null) {\n",
              "    console.log(\"Bokeh: ERROR: autoload.js configured with elementid '3620' but no matching script tag was found. \")\n",
              "    return false;\n",
              "  }\n",
              "\n",
              "  var js_urls = [\"https://cdn.pydata.org/bokeh/release/bokeh-1.0.4.min.js\", \"https://cdn.pydata.org/bokeh/release/bokeh-widgets-1.0.4.min.js\", \"https://cdn.pydata.org/bokeh/release/bokeh-tables-1.0.4.min.js\", \"https://cdn.pydata.org/bokeh/release/bokeh-gl-1.0.4.min.js\"];\n",
              "\n",
              "  var inline_js = [\n",
              "    function(Bokeh) {\n",
              "      Bokeh.set_log_level(\"info\");\n",
              "    },\n",
              "    \n",
              "    function(Bokeh) {\n",
              "      \n",
              "    },\n",
              "    function(Bokeh) {\n",
              "      console.log(\"Bokeh: injecting CSS: https://cdn.pydata.org/bokeh/release/bokeh-1.0.4.min.css\");\n",
              "      Bokeh.embed.inject_css(\"https://cdn.pydata.org/bokeh/release/bokeh-1.0.4.min.css\");\n",
              "      console.log(\"Bokeh: injecting CSS: https://cdn.pydata.org/bokeh/release/bokeh-widgets-1.0.4.min.css\");\n",
              "      Bokeh.embed.inject_css(\"https://cdn.pydata.org/bokeh/release/bokeh-widgets-1.0.4.min.css\");\n",
              "      console.log(\"Bokeh: injecting CSS: https://cdn.pydata.org/bokeh/release/bokeh-tables-1.0.4.min.css\");\n",
              "      Bokeh.embed.inject_css(\"https://cdn.pydata.org/bokeh/release/bokeh-tables-1.0.4.min.css\");\n",
              "    }\n",
              "  ];\n",
              "\n",
              "  function run_inline_js() {\n",
              "    \n",
              "    if ((root.Bokeh !== undefined) || (force === true)) {\n",
              "      for (var i = 0; i < inline_js.length; i++) {\n",
              "        inline_js[i].call(root, root.Bokeh);\n",
              "      }if (force === true) {\n",
              "        display_loaded();\n",
              "      }} else if (Date.now() < root._bokeh_timeout) {\n",
              "      setTimeout(run_inline_js, 100);\n",
              "    } else if (!root._bokeh_failed_load) {\n",
              "      console.log(\"Bokeh: BokehJS failed to load within specified timeout.\");\n",
              "      root._bokeh_failed_load = true;\n",
              "    } else if (force !== true) {\n",
              "      var cell = $(document.getElementById(\"3620\")).parents('.cell').data().cell;\n",
              "      cell.output_area.append_execute_result(NB_LOAD_WARNING)\n",
              "    }\n",
              "\n",
              "  }\n",
              "\n",
              "  if (root._bokeh_is_loading === 0) {\n",
              "    console.log(\"Bokeh: BokehJS loaded, going straight to plotting\");\n",
              "    run_inline_js();\n",
              "  } else {\n",
              "    load_libs(js_urls, function() {\n",
              "      console.log(\"Bokeh: BokehJS plotting callback run at\", now());\n",
              "      run_inline_js();\n",
              "    });\n",
              "  }\n",
              "}(window));"
            ],
            "application/vnd.bokehjs_load.v0+json": "\n(function(root) {\n  function now() {\n    return new Date();\n  }\n\n  var force = true;\n\n  if (typeof (root._bokeh_onload_callbacks) === \"undefined\" || force === true) {\n    root._bokeh_onload_callbacks = [];\n    root._bokeh_is_loading = undefined;\n  }\n\n  \n\n  \n  if (typeof (root._bokeh_timeout) === \"undefined\" || force === true) {\n    root._bokeh_timeout = Date.now() + 5000;\n    root._bokeh_failed_load = false;\n  }\n\n  var NB_LOAD_WARNING = {'data': {'text/html':\n     \"<div style='background-color: #fdd'>\\n\"+\n     \"<p>\\n\"+\n     \"BokehJS does not appear to have successfully loaded. If loading BokehJS from CDN, this \\n\"+\n     \"may be due to a slow or bad network connection. Possible fixes:\\n\"+\n     \"</p>\\n\"+\n     \"<ul>\\n\"+\n     \"<li>re-rerun `output_notebook()` to attempt to load from CDN again, or</li>\\n\"+\n     \"<li>use INLINE resources instead, as so:</li>\\n\"+\n     \"</ul>\\n\"+\n     \"<code>\\n\"+\n     \"from bokeh.resources import INLINE\\n\"+\n     \"output_notebook(resources=INLINE)\\n\"+\n     \"</code>\\n\"+\n     \"</div>\"}};\n\n  function display_loaded() {\n    var el = document.getElementById(\"3620\");\n    if (el != null) {\n      el.textContent = \"BokehJS is loading...\";\n    }\n    if (root.Bokeh !== undefined) {\n      if (el != null) {\n        el.textContent = \"BokehJS \" + root.Bokeh.version + \" successfully loaded.\";\n      }\n    } else if (Date.now() < root._bokeh_timeout) {\n      setTimeout(display_loaded, 100)\n    }\n  }\n\n\n  function run_callbacks() {\n    try {\n      root._bokeh_onload_callbacks.forEach(function(callback) { callback() });\n    }\n    finally {\n      delete root._bokeh_onload_callbacks\n    }\n    console.info(\"Bokeh: all callbacks have finished\");\n  }\n\n  function load_libs(js_urls, callback) {\n    root._bokeh_onload_callbacks.push(callback);\n    if (root._bokeh_is_loading > 0) {\n      console.log(\"Bokeh: BokehJS is being loaded, scheduling callback at\", now());\n      return null;\n    }\n    if (js_urls == null || js_urls.length === 0) {\n      run_callbacks();\n      return null;\n    }\n    console.log(\"Bokeh: BokehJS not loaded, scheduling load and callback at\", now());\n    root._bokeh_is_loading = js_urls.length;\n    for (var i = 0; i < js_urls.length; i++) {\n      var url = js_urls[i];\n      var s = document.createElement('script');\n      s.src = url;\n      s.async = false;\n      s.onreadystatechange = s.onload = function() {\n        root._bokeh_is_loading--;\n        if (root._bokeh_is_loading === 0) {\n          console.log(\"Bokeh: all BokehJS libraries loaded\");\n          run_callbacks()\n        }\n      };\n      s.onerror = function() {\n        console.warn(\"failed to load library \" + url);\n      };\n      console.log(\"Bokeh: injecting script tag for BokehJS library: \", url);\n      document.getElementsByTagName(\"head\")[0].appendChild(s);\n    }\n  };var element = document.getElementById(\"3620\");\n  if (element == null) {\n    console.log(\"Bokeh: ERROR: autoload.js configured with elementid '3620' but no matching script tag was found. \")\n    return false;\n  }\n\n  var js_urls = [\"https://cdn.pydata.org/bokeh/release/bokeh-1.0.4.min.js\", \"https://cdn.pydata.org/bokeh/release/bokeh-widgets-1.0.4.min.js\", \"https://cdn.pydata.org/bokeh/release/bokeh-tables-1.0.4.min.js\", \"https://cdn.pydata.org/bokeh/release/bokeh-gl-1.0.4.min.js\"];\n\n  var inline_js = [\n    function(Bokeh) {\n      Bokeh.set_log_level(\"info\");\n    },\n    \n    function(Bokeh) {\n      \n    },\n    function(Bokeh) {\n      console.log(\"Bokeh: injecting CSS: https://cdn.pydata.org/bokeh/release/bokeh-1.0.4.min.css\");\n      Bokeh.embed.inject_css(\"https://cdn.pydata.org/bokeh/release/bokeh-1.0.4.min.css\");\n      console.log(\"Bokeh: injecting CSS: https://cdn.pydata.org/bokeh/release/bokeh-widgets-1.0.4.min.css\");\n      Bokeh.embed.inject_css(\"https://cdn.pydata.org/bokeh/release/bokeh-widgets-1.0.4.min.css\");\n      console.log(\"Bokeh: injecting CSS: https://cdn.pydata.org/bokeh/release/bokeh-tables-1.0.4.min.css\");\n      Bokeh.embed.inject_css(\"https://cdn.pydata.org/bokeh/release/bokeh-tables-1.0.4.min.css\");\n    }\n  ];\n\n  function run_inline_js() {\n    \n    if ((root.Bokeh !== undefined) || (force === true)) {\n      for (var i = 0; i < inline_js.length; i++) {\n        inline_js[i].call(root, root.Bokeh);\n      }if (force === true) {\n        display_loaded();\n      }} else if (Date.now() < root._bokeh_timeout) {\n      setTimeout(run_inline_js, 100);\n    } else if (!root._bokeh_failed_load) {\n      console.log(\"Bokeh: BokehJS failed to load within specified timeout.\");\n      root._bokeh_failed_load = true;\n    } else if (force !== true) {\n      var cell = $(document.getElementById(\"3620\")).parents('.cell').data().cell;\n      cell.output_area.append_execute_result(NB_LOAD_WARNING)\n    }\n\n  }\n\n  if (root._bokeh_is_loading === 0) {\n    console.log(\"Bokeh: BokehJS loaded, going straight to plotting\");\n    run_inline_js();\n  } else {\n    load_libs(js_urls, function() {\n      console.log(\"Bokeh: BokehJS plotting callback run at\", now());\n      run_inline_js();\n    });\n  }\n}(window));"
          },
          "metadata": {
            "tags": []
          }
        },
        {
          "output_type": "display_data",
          "data": {
            "text/html": [
              "\n",
              "\n",
              "\n",
              "\n",
              "\n",
              "\n",
              "  <div class=\"bk-root\" id=\"4d920d07-2ee1-45b8-b027-287a3afe5e8e\" data-root-id=\"3306\"></div>\n"
            ]
          },
          "metadata": {
            "tags": []
          }
        },
        {
          "output_type": "display_data",
          "data": {
            "application/javascript": [
              "(function(root) {\n",
              "  function embed_document(root) {\n",
              "    \n",
              "  var docs_json = {\"999eeeb4-8bbc-4181-836a-c52858f91fac\":{\"roots\":{\"references\":[{\"attributes\":{\"below\":[{\"id\":\"3316\",\"type\":\"LinearAxis\"}],\"left\":[{\"id\":\"3321\",\"type\":\"CategoricalAxis\"}],\"plot_height\":125,\"plot_width\":700,\"renderers\":[{\"id\":\"3316\",\"type\":\"LinearAxis\"},{\"id\":\"3320\",\"type\":\"Grid\"},{\"id\":\"3321\",\"type\":\"CategoricalAxis\"},{\"id\":\"3324\",\"type\":\"Grid\"},{\"id\":\"3333\",\"type\":\"BoxAnnotation\"},{\"id\":\"3344\",\"type\":\"GlyphRenderer\"},{\"id\":\"3349\",\"type\":\"GlyphRenderer\"},{\"id\":\"3354\",\"type\":\"GlyphRenderer\"},{\"id\":\"3524\",\"type\":\"GlyphRenderer\"}],\"title\":{\"id\":\"3305\",\"type\":\"Title\"},\"toolbar\":{\"id\":\"3331\",\"type\":\"Toolbar\"},\"toolbar_location\":null,\"x_range\":{\"id\":\"3308\",\"type\":\"DataRange1d\"},\"x_scale\":{\"id\":\"3312\",\"type\":\"LinearScale\"},\"y_range\":{\"id\":\"3310\",\"type\":\"FactorRange\"},\"y_scale\":{\"id\":\"3314\",\"type\":\"CategoricalScale\"}},\"id\":\"3306\",\"subtype\":\"Figure\",\"type\":\"Plot\"},{\"attributes\":{\"plot\":null,\"text\":\"188.89% Day 17 on a 9 day project: 8 days past due\"},\"id\":\"3305\",\"type\":\"Title\"},{\"attributes\":{\"data_source\":{\"id\":\"3521\",\"type\":\"ColumnDataSource\"},\"glyph\":{\"id\":\"3522\",\"type\":\"HBar\"},\"hover_glyph\":null,\"muted_glyph\":null,\"nonselection_glyph\":{\"id\":\"3523\",\"type\":\"HBar\"},\"selection_glyph\":null,\"view\":{\"id\":\"3525\",\"type\":\"CDSView\"}},\"id\":\"3524\",\"type\":\"GlyphRenderer\"},{\"attributes\":{},\"id\":\"3330\",\"type\":\"HelpTool\"},{\"attributes\":{},\"id\":\"3444\",\"type\":\"Selection\"},{\"attributes\":{\"bottom_units\":\"screen\",\"fill_alpha\":{\"value\":0.5},\"fill_color\":{\"value\":\"lightgrey\"},\"left_units\":\"screen\",\"level\":\"overlay\",\"line_alpha\":{\"value\":1.0},\"line_color\":{\"value\":\"black\"},\"line_dash\":[4,4],\"line_width\":{\"value\":2},\"plot\":null,\"render_mode\":\"css\",\"right_units\":\"screen\",\"top_units\":\"screen\"},\"id\":\"3333\",\"type\":\"BoxAnnotation\"},{\"attributes\":{\"source\":{\"id\":\"3341\",\"type\":\"ColumnDataSource\"}},\"id\":\"3345\",\"type\":\"CDSView\"},{\"attributes\":{\"callback\":null,\"range_padding\":0},\"id\":\"3308\",\"type\":\"DataRange1d\"},{\"attributes\":{\"data_source\":{\"id\":\"3341\",\"type\":\"ColumnDataSource\"},\"glyph\":{\"id\":\"3342\",\"type\":\"HBar\"},\"hover_glyph\":null,\"muted_glyph\":null,\"nonselection_glyph\":{\"id\":\"3343\",\"type\":\"HBar\"},\"selection_glyph\":null,\"view\":{\"id\":\"3345\",\"type\":\"CDSView\"}},\"id\":\"3344\",\"type\":\"GlyphRenderer\"},{\"attributes\":{},\"id\":\"3329\",\"type\":\"ResetTool\"},{\"attributes\":{\"fill_alpha\":{\"value\":0.1},\"fill_color\":{\"value\":\"#1f77b4\"},\"height\":{\"value\":0.8},\"line_alpha\":{\"value\":0.1},\"line_color\":{\"value\":\"#1f77b4\"},\"right\":{\"value\":9},\"y\":{\"field\":\"y\"}},\"id\":\"3343\",\"type\":\"HBar\"},{\"attributes\":{},\"id\":\"3326\",\"type\":\"WheelZoomTool\"},{\"attributes\":{\"overlay\":{\"id\":\"3333\",\"type\":\"BoxAnnotation\"}},\"id\":\"3327\",\"type\":\"BoxZoomTool\"},{\"attributes\":{\"callback\":null,\"data\":{\"right\":[17],\"y\":[\"ABC_CPU_Motherboard\"]},\"selected\":{\"id\":\"3619\",\"type\":\"Selection\"},\"selection_policy\":{\"id\":\"3618\",\"type\":\"UnionRenderers\"}},\"id\":\"3521\",\"type\":\"ColumnDataSource\"},{\"attributes\":{\"fill_color\":{\"value\":\"#bdc9e1\"},\"height\":{\"value\":0.8},\"left\":{\"value\":9},\"line_color\":{\"value\":\"#bdc9e1\"},\"right\":{\"value\":18},\"y\":{\"field\":\"y\"}},\"id\":\"3347\",\"type\":\"HBar\"},{\"attributes\":{},\"id\":\"3445\",\"type\":\"UnionRenderers\"},{\"attributes\":{\"num_minor_ticks\":0},\"id\":\"3317\",\"type\":\"BasicTicker\"},{\"attributes\":{\"callback\":null,\"data\":{\"y\":[\"ABC_CPU_Motherboard\"]},\"selected\":{\"id\":\"3446\",\"type\":\"Selection\"},\"selection_policy\":{\"id\":\"3445\",\"type\":\"UnionRenderers\"}},\"id\":\"3346\",\"type\":\"ColumnDataSource\"},{\"attributes\":{\"source\":{\"id\":\"3346\",\"type\":\"ColumnDataSource\"}},\"id\":\"3350\",\"type\":\"CDSView\"},{\"attributes\":{},\"id\":\"3448\",\"type\":\"Selection\"},{\"attributes\":{\"data_source\":{\"id\":\"3346\",\"type\":\"ColumnDataSource\"},\"glyph\":{\"id\":\"3347\",\"type\":\"HBar\"},\"hover_glyph\":null,\"muted_glyph\":null,\"nonselection_glyph\":{\"id\":\"3348\",\"type\":\"HBar\"},\"selection_glyph\":null,\"view\":{\"id\":\"3350\",\"type\":\"CDSView\"}},\"id\":\"3349\",\"type\":\"GlyphRenderer\"},{\"attributes\":{\"fill_alpha\":{\"value\":0.1},\"fill_color\":{\"value\":\"#1f77b4\"},\"height\":{\"value\":0.8},\"left\":{\"value\":18},\"line_alpha\":{\"value\":0.1},\"line_color\":{\"value\":\"#1f77b4\"},\"right\":{\"value\":27},\"y\":{\"field\":\"y\"}},\"id\":\"3353\",\"type\":\"HBar\"},{\"attributes\":{\"source\":{\"id\":\"3521\",\"type\":\"ColumnDataSource\"}},\"id\":\"3525\",\"type\":\"CDSView\"},{\"attributes\":{},\"id\":\"3618\",\"type\":\"UnionRenderers\"},{\"attributes\":{\"height\":{\"value\":0.3},\"line_color\":{\"value\":\"gray\"},\"right\":{\"field\":\"right\"},\"y\":{\"field\":\"y\"}},\"id\":\"3522\",\"type\":\"HBar\"},{\"attributes\":{},\"id\":\"3447\",\"type\":\"UnionRenderers\"},{\"attributes\":{\"fill_color\":{\"value\":\"#74a9cf\"},\"height\":{\"value\":0.8},\"left\":{\"value\":18},\"line_color\":{\"value\":\"#74a9cf\"},\"right\":{\"value\":27},\"y\":{\"field\":\"y\"}},\"id\":\"3352\",\"type\":\"HBar\"},{\"attributes\":{},\"id\":\"3439\",\"type\":\"CategoricalTickFormatter\"},{\"attributes\":{},\"id\":\"3443\",\"type\":\"UnionRenderers\"},{\"attributes\":{},\"id\":\"3325\",\"type\":\"PanTool\"},{\"attributes\":{\"data_source\":{\"id\":\"3351\",\"type\":\"ColumnDataSource\"},\"glyph\":{\"id\":\"3352\",\"type\":\"HBar\"},\"hover_glyph\":null,\"muted_glyph\":null,\"nonselection_glyph\":{\"id\":\"3353\",\"type\":\"HBar\"},\"selection_glyph\":null,\"view\":{\"id\":\"3355\",\"type\":\"CDSView\"}},\"id\":\"3354\",\"type\":\"GlyphRenderer\"},{\"attributes\":{},\"id\":\"3328\",\"type\":\"SaveTool\"},{\"attributes\":{\"fill_color\":{\"value\":\"#f1eef6\"},\"height\":{\"value\":0.8},\"line_color\":{\"value\":\"#f1eef6\"},\"right\":{\"value\":9},\"y\":{\"field\":\"y\"}},\"id\":\"3342\",\"type\":\"HBar\"},{\"attributes\":{\"source\":{\"id\":\"3351\",\"type\":\"ColumnDataSource\"}},\"id\":\"3355\",\"type\":\"CDSView\"},{\"attributes\":{},\"id\":\"3314\",\"type\":\"CategoricalScale\"},{\"attributes\":{\"formatter\":{\"id\":\"3439\",\"type\":\"CategoricalTickFormatter\"},\"plot\":{\"id\":\"3306\",\"subtype\":\"Figure\",\"type\":\"Plot\"},\"ticker\":{\"id\":\"3322\",\"type\":\"CategoricalTicker\"}},\"id\":\"3321\",\"type\":\"CategoricalAxis\"},{\"attributes\":{},\"id\":\"3619\",\"type\":\"Selection\"},{\"attributes\":{\"callback\":null,\"data\":{\"y\":[\"ABC_CPU_Motherboard\"]},\"selected\":{\"id\":\"3448\",\"type\":\"Selection\"},\"selection_policy\":{\"id\":\"3447\",\"type\":\"UnionRenderers\"}},\"id\":\"3351\",\"type\":\"ColumnDataSource\"},{\"attributes\":{},\"id\":\"3322\",\"type\":\"CategoricalTicker\"},{\"attributes\":{},\"id\":\"3446\",\"type\":\"Selection\"},{\"attributes\":{\"callback\":null,\"factors\":[\"ABC_CPU_Motherboard\"]},\"id\":\"3310\",\"type\":\"FactorRange\"},{\"attributes\":{},\"id\":\"3312\",\"type\":\"LinearScale\"},{\"attributes\":{\"callback\":null,\"data\":{\"y\":[\"ABC_CPU_Motherboard\"]},\"selected\":{\"id\":\"3444\",\"type\":\"Selection\"},\"selection_policy\":{\"id\":\"3443\",\"type\":\"UnionRenderers\"}},\"id\":\"3341\",\"type\":\"ColumnDataSource\"},{\"attributes\":{\"formatter\":{\"id\":\"3441\",\"type\":\"BasicTickFormatter\"},\"plot\":{\"id\":\"3306\",\"subtype\":\"Figure\",\"type\":\"Plot\"},\"ticker\":{\"id\":\"3317\",\"type\":\"BasicTicker\"}},\"id\":\"3316\",\"type\":\"LinearAxis\"},{\"attributes\":{\"fill_alpha\":{\"value\":0.1},\"fill_color\":{\"value\":\"#1f77b4\"},\"height\":{\"value\":0.8},\"left\":{\"value\":9},\"line_alpha\":{\"value\":0.1},\"line_color\":{\"value\":\"#1f77b4\"},\"right\":{\"value\":18},\"y\":{\"field\":\"y\"}},\"id\":\"3348\",\"type\":\"HBar\"},{\"attributes\":{},\"id\":\"3441\",\"type\":\"BasicTickFormatter\"},{\"attributes\":{\"dimension\":1,\"grid_line_color\":{\"value\":null},\"plot\":{\"id\":\"3306\",\"subtype\":\"Figure\",\"type\":\"Plot\"},\"ticker\":{\"id\":\"3322\",\"type\":\"CategoricalTicker\"}},\"id\":\"3324\",\"type\":\"Grid\"},{\"attributes\":{\"fill_alpha\":{\"value\":0.1},\"fill_color\":{\"value\":\"#1f77b4\"},\"height\":{\"value\":0.3},\"line_alpha\":{\"value\":0.1},\"line_color\":{\"value\":\"#1f77b4\"},\"right\":{\"field\":\"right\"},\"y\":{\"field\":\"y\"}},\"id\":\"3523\",\"type\":\"HBar\"},{\"attributes\":{\"active_drag\":\"auto\",\"active_inspect\":\"auto\",\"active_multi\":null,\"active_scroll\":\"auto\",\"active_tap\":\"auto\",\"tools\":[{\"id\":\"3325\",\"type\":\"PanTool\"},{\"id\":\"3326\",\"type\":\"WheelZoomTool\"},{\"id\":\"3327\",\"type\":\"BoxZoomTool\"},{\"id\":\"3328\",\"type\":\"SaveTool\"},{\"id\":\"3329\",\"type\":\"ResetTool\"},{\"id\":\"3330\",\"type\":\"HelpTool\"}]},\"id\":\"3331\",\"type\":\"Toolbar\"},{\"attributes\":{\"grid_line_color\":{\"value\":null},\"plot\":{\"id\":\"3306\",\"subtype\":\"Figure\",\"type\":\"Plot\"},\"ticker\":{\"id\":\"3317\",\"type\":\"BasicTicker\"}},\"id\":\"3320\",\"type\":\"Grid\"}],\"root_ids\":[\"3306\"]},\"title\":\"Bokeh Application\",\"version\":\"1.0.4\"}};\n",
              "  var render_items = [{\"docid\":\"999eeeb4-8bbc-4181-836a-c52858f91fac\",\"roots\":{\"3306\":\"4d920d07-2ee1-45b8-b027-287a3afe5e8e\"}}];\n",
              "  root.Bokeh.embed.embed_items_notebook(docs_json, render_items);\n",
              "\n",
              "  }\n",
              "  if (root.Bokeh !== undefined) {\n",
              "    embed_document(root);\n",
              "  } else {\n",
              "    var attempts = 0;\n",
              "    var timer = setInterval(function(root) {\n",
              "      if (root.Bokeh !== undefined) {\n",
              "        embed_document(root);\n",
              "        clearInterval(timer);\n",
              "      }\n",
              "      attempts++;\n",
              "      if (attempts > 100) {\n",
              "        console.log(\"Bokeh: ERROR: Unable to run BokehJS code because BokehJS library is missing\");\n",
              "        clearInterval(timer);\n",
              "      }\n",
              "    }, 10, root)\n",
              "  }\n",
              "})(window);"
            ],
            "application/vnd.bokehjs_exec.v0+json": ""
          },
          "metadata": {
            "tags": [],
            "application/vnd.bokehjs_exec.v0+json": {
              "id": "3306"
            }
          }
        }
      ]
    },
    {
      "cell_type": "code",
      "metadata": {
        "id": "KLljgpXGjO0z",
        "colab_type": "code",
        "outputId": "23af8927-3b5a-4a7b-c687-07e7e16d1910",
        "colab": {
          "base_uri": "https://localhost:8080/",
          "height": 172
        }
      },
      "source": [
        "comp = [x[1]for x in data]\n",
        "p.segment(x0=comp, y0=[(x, -0.5) for x in cats], x1=comp,\n",
        "          y1=[(x, 0.5) for x in cats], color=\"Green\", line_width=2)\n",
        "\n",
        "output_notebook()\n",
        "show(p)"
      ],
      "execution_count": 117,
      "outputs": [
        {
          "output_type": "display_data",
          "data": {
            "text/html": [
              "\n",
              "    <div class=\"bk-root\">\n",
              "        <a href=\"https://bokeh.pydata.org\" target=\"_blank\" class=\"bk-logo bk-logo-small bk-logo-notebook\"></a>\n",
              "        <span id=\"3806\">Loading BokehJS ...</span>\n",
              "    </div>"
            ]
          },
          "metadata": {
            "tags": []
          }
        },
        {
          "output_type": "display_data",
          "data": {
            "application/javascript": [
              "\n",
              "(function(root) {\n",
              "  function now() {\n",
              "    return new Date();\n",
              "  }\n",
              "\n",
              "  var force = true;\n",
              "\n",
              "  if (typeof (root._bokeh_onload_callbacks) === \"undefined\" || force === true) {\n",
              "    root._bokeh_onload_callbacks = [];\n",
              "    root._bokeh_is_loading = undefined;\n",
              "  }\n",
              "\n",
              "  var JS_MIME_TYPE = 'application/javascript';\n",
              "  var HTML_MIME_TYPE = 'text/html';\n",
              "  var EXEC_MIME_TYPE = 'application/vnd.bokehjs_exec.v0+json';\n",
              "  var CLASS_NAME = 'output_bokeh rendered_html';\n",
              "\n",
              "  /**\n",
              "   * Render data to the DOM node\n",
              "   */\n",
              "  function render(props, node) {\n",
              "    var script = document.createElement(\"script\");\n",
              "    node.appendChild(script);\n",
              "  }\n",
              "\n",
              "  /**\n",
              "   * Handle when an output is cleared or removed\n",
              "   */\n",
              "  function handleClearOutput(event, handle) {\n",
              "    var cell = handle.cell;\n",
              "\n",
              "    var id = cell.output_area._bokeh_element_id;\n",
              "    var server_id = cell.output_area._bokeh_server_id;\n",
              "    // Clean up Bokeh references\n",
              "    if (id != null && id in Bokeh.index) {\n",
              "      Bokeh.index[id].model.document.clear();\n",
              "      delete Bokeh.index[id];\n",
              "    }\n",
              "\n",
              "    if (server_id !== undefined) {\n",
              "      // Clean up Bokeh references\n",
              "      var cmd = \"from bokeh.io.state import curstate; print(curstate().uuid_to_server['\" + server_id + \"'].get_sessions()[0].document.roots[0]._id)\";\n",
              "      cell.notebook.kernel.execute(cmd, {\n",
              "        iopub: {\n",
              "          output: function(msg) {\n",
              "            var id = msg.content.text.trim();\n",
              "            if (id in Bokeh.index) {\n",
              "              Bokeh.index[id].model.document.clear();\n",
              "              delete Bokeh.index[id];\n",
              "            }\n",
              "          }\n",
              "        }\n",
              "      });\n",
              "      // Destroy server and session\n",
              "      var cmd = \"import bokeh.io.notebook as ion; ion.destroy_server('\" + server_id + \"')\";\n",
              "      cell.notebook.kernel.execute(cmd);\n",
              "    }\n",
              "  }\n",
              "\n",
              "  /**\n",
              "   * Handle when a new output is added\n",
              "   */\n",
              "  function handleAddOutput(event, handle) {\n",
              "    var output_area = handle.output_area;\n",
              "    var output = handle.output;\n",
              "\n",
              "    // limit handleAddOutput to display_data with EXEC_MIME_TYPE content only\n",
              "    if ((output.output_type != \"display_data\") || (!output.data.hasOwnProperty(EXEC_MIME_TYPE))) {\n",
              "      return\n",
              "    }\n",
              "\n",
              "    var toinsert = output_area.element.find(\".\" + CLASS_NAME.split(' ')[0]);\n",
              "\n",
              "    if (output.metadata[EXEC_MIME_TYPE][\"id\"] !== undefined) {\n",
              "      toinsert[toinsert.length - 1].firstChild.textContent = output.data[JS_MIME_TYPE];\n",
              "      // store reference to embed id on output_area\n",
              "      output_area._bokeh_element_id = output.metadata[EXEC_MIME_TYPE][\"id\"];\n",
              "    }\n",
              "    if (output.metadata[EXEC_MIME_TYPE][\"server_id\"] !== undefined) {\n",
              "      var bk_div = document.createElement(\"div\");\n",
              "      bk_div.innerHTML = output.data[HTML_MIME_TYPE];\n",
              "      var script_attrs = bk_div.children[0].attributes;\n",
              "      for (var i = 0; i < script_attrs.length; i++) {\n",
              "        toinsert[toinsert.length - 1].firstChild.setAttribute(script_attrs[i].name, script_attrs[i].value);\n",
              "      }\n",
              "      // store reference to server id on output_area\n",
              "      output_area._bokeh_server_id = output.metadata[EXEC_MIME_TYPE][\"server_id\"];\n",
              "    }\n",
              "  }\n",
              "\n",
              "  function register_renderer(events, OutputArea) {\n",
              "\n",
              "    function append_mime(data, metadata, element) {\n",
              "      // create a DOM node to render to\n",
              "      var toinsert = this.create_output_subarea(\n",
              "        metadata,\n",
              "        CLASS_NAME,\n",
              "        EXEC_MIME_TYPE\n",
              "      );\n",
              "      this.keyboard_manager.register_events(toinsert);\n",
              "      // Render to node\n",
              "      var props = {data: data, metadata: metadata[EXEC_MIME_TYPE]};\n",
              "      render(props, toinsert[toinsert.length - 1]);\n",
              "      element.append(toinsert);\n",
              "      return toinsert\n",
              "    }\n",
              "\n",
              "    /* Handle when an output is cleared or removed */\n",
              "    events.on('clear_output.CodeCell', handleClearOutput);\n",
              "    events.on('delete.Cell', handleClearOutput);\n",
              "\n",
              "    /* Handle when a new output is added */\n",
              "    events.on('output_added.OutputArea', handleAddOutput);\n",
              "\n",
              "    /**\n",
              "     * Register the mime type and append_mime function with output_area\n",
              "     */\n",
              "    OutputArea.prototype.register_mime_type(EXEC_MIME_TYPE, append_mime, {\n",
              "      /* Is output safe? */\n",
              "      safe: true,\n",
              "      /* Index of renderer in `output_area.display_order` */\n",
              "      index: 0\n",
              "    });\n",
              "  }\n",
              "\n",
              "  // register the mime type if in Jupyter Notebook environment and previously unregistered\n",
              "  if (root.Jupyter !== undefined) {\n",
              "    var events = require('base/js/events');\n",
              "    var OutputArea = require('notebook/js/outputarea').OutputArea;\n",
              "\n",
              "    if (OutputArea.prototype.mime_types().indexOf(EXEC_MIME_TYPE) == -1) {\n",
              "      register_renderer(events, OutputArea);\n",
              "    }\n",
              "  }\n",
              "\n",
              "  \n",
              "  if (typeof (root._bokeh_timeout) === \"undefined\" || force === true) {\n",
              "    root._bokeh_timeout = Date.now() + 5000;\n",
              "    root._bokeh_failed_load = false;\n",
              "  }\n",
              "\n",
              "  var NB_LOAD_WARNING = {'data': {'text/html':\n",
              "     \"<div style='background-color: #fdd'>\\n\"+\n",
              "     \"<p>\\n\"+\n",
              "     \"BokehJS does not appear to have successfully loaded. If loading BokehJS from CDN, this \\n\"+\n",
              "     \"may be due to a slow or bad network connection. Possible fixes:\\n\"+\n",
              "     \"</p>\\n\"+\n",
              "     \"<ul>\\n\"+\n",
              "     \"<li>re-rerun `output_notebook()` to attempt to load from CDN again, or</li>\\n\"+\n",
              "     \"<li>use INLINE resources instead, as so:</li>\\n\"+\n",
              "     \"</ul>\\n\"+\n",
              "     \"<code>\\n\"+\n",
              "     \"from bokeh.resources import INLINE\\n\"+\n",
              "     \"output_notebook(resources=INLINE)\\n\"+\n",
              "     \"</code>\\n\"+\n",
              "     \"</div>\"}};\n",
              "\n",
              "  function display_loaded() {\n",
              "    var el = document.getElementById(\"3806\");\n",
              "    if (el != null) {\n",
              "      el.textContent = \"BokehJS is loading...\";\n",
              "    }\n",
              "    if (root.Bokeh !== undefined) {\n",
              "      if (el != null) {\n",
              "        el.textContent = \"BokehJS \" + root.Bokeh.version + \" successfully loaded.\";\n",
              "      }\n",
              "    } else if (Date.now() < root._bokeh_timeout) {\n",
              "      setTimeout(display_loaded, 100)\n",
              "    }\n",
              "  }\n",
              "\n",
              "\n",
              "  function run_callbacks() {\n",
              "    try {\n",
              "      root._bokeh_onload_callbacks.forEach(function(callback) { callback() });\n",
              "    }\n",
              "    finally {\n",
              "      delete root._bokeh_onload_callbacks\n",
              "    }\n",
              "    console.info(\"Bokeh: all callbacks have finished\");\n",
              "  }\n",
              "\n",
              "  function load_libs(js_urls, callback) {\n",
              "    root._bokeh_onload_callbacks.push(callback);\n",
              "    if (root._bokeh_is_loading > 0) {\n",
              "      console.log(\"Bokeh: BokehJS is being loaded, scheduling callback at\", now());\n",
              "      return null;\n",
              "    }\n",
              "    if (js_urls == null || js_urls.length === 0) {\n",
              "      run_callbacks();\n",
              "      return null;\n",
              "    }\n",
              "    console.log(\"Bokeh: BokehJS not loaded, scheduling load and callback at\", now());\n",
              "    root._bokeh_is_loading = js_urls.length;\n",
              "    for (var i = 0; i < js_urls.length; i++) {\n",
              "      var url = js_urls[i];\n",
              "      var s = document.createElement('script');\n",
              "      s.src = url;\n",
              "      s.async = false;\n",
              "      s.onreadystatechange = s.onload = function() {\n",
              "        root._bokeh_is_loading--;\n",
              "        if (root._bokeh_is_loading === 0) {\n",
              "          console.log(\"Bokeh: all BokehJS libraries loaded\");\n",
              "          run_callbacks()\n",
              "        }\n",
              "      };\n",
              "      s.onerror = function() {\n",
              "        console.warn(\"failed to load library \" + url);\n",
              "      };\n",
              "      console.log(\"Bokeh: injecting script tag for BokehJS library: \", url);\n",
              "      document.getElementsByTagName(\"head\")[0].appendChild(s);\n",
              "    }\n",
              "  };var element = document.getElementById(\"3806\");\n",
              "  if (element == null) {\n",
              "    console.log(\"Bokeh: ERROR: autoload.js configured with elementid '3806' but no matching script tag was found. \")\n",
              "    return false;\n",
              "  }\n",
              "\n",
              "  var js_urls = [\"https://cdn.pydata.org/bokeh/release/bokeh-1.0.4.min.js\", \"https://cdn.pydata.org/bokeh/release/bokeh-widgets-1.0.4.min.js\", \"https://cdn.pydata.org/bokeh/release/bokeh-tables-1.0.4.min.js\", \"https://cdn.pydata.org/bokeh/release/bokeh-gl-1.0.4.min.js\"];\n",
              "\n",
              "  var inline_js = [\n",
              "    function(Bokeh) {\n",
              "      Bokeh.set_log_level(\"info\");\n",
              "    },\n",
              "    \n",
              "    function(Bokeh) {\n",
              "      \n",
              "    },\n",
              "    function(Bokeh) {\n",
              "      console.log(\"Bokeh: injecting CSS: https://cdn.pydata.org/bokeh/release/bokeh-1.0.4.min.css\");\n",
              "      Bokeh.embed.inject_css(\"https://cdn.pydata.org/bokeh/release/bokeh-1.0.4.min.css\");\n",
              "      console.log(\"Bokeh: injecting CSS: https://cdn.pydata.org/bokeh/release/bokeh-widgets-1.0.4.min.css\");\n",
              "      Bokeh.embed.inject_css(\"https://cdn.pydata.org/bokeh/release/bokeh-widgets-1.0.4.min.css\");\n",
              "      console.log(\"Bokeh: injecting CSS: https://cdn.pydata.org/bokeh/release/bokeh-tables-1.0.4.min.css\");\n",
              "      Bokeh.embed.inject_css(\"https://cdn.pydata.org/bokeh/release/bokeh-tables-1.0.4.min.css\");\n",
              "    }\n",
              "  ];\n",
              "\n",
              "  function run_inline_js() {\n",
              "    \n",
              "    if ((root.Bokeh !== undefined) || (force === true)) {\n",
              "      for (var i = 0; i < inline_js.length; i++) {\n",
              "        inline_js[i].call(root, root.Bokeh);\n",
              "      }if (force === true) {\n",
              "        display_loaded();\n",
              "      }} else if (Date.now() < root._bokeh_timeout) {\n",
              "      setTimeout(run_inline_js, 100);\n",
              "    } else if (!root._bokeh_failed_load) {\n",
              "      console.log(\"Bokeh: BokehJS failed to load within specified timeout.\");\n",
              "      root._bokeh_failed_load = true;\n",
              "    } else if (force !== true) {\n",
              "      var cell = $(document.getElementById(\"3806\")).parents('.cell').data().cell;\n",
              "      cell.output_area.append_execute_result(NB_LOAD_WARNING)\n",
              "    }\n",
              "\n",
              "  }\n",
              "\n",
              "  if (root._bokeh_is_loading === 0) {\n",
              "    console.log(\"Bokeh: BokehJS loaded, going straight to plotting\");\n",
              "    run_inline_js();\n",
              "  } else {\n",
              "    load_libs(js_urls, function() {\n",
              "      console.log(\"Bokeh: BokehJS plotting callback run at\", now());\n",
              "      run_inline_js();\n",
              "    });\n",
              "  }\n",
              "}(window));"
            ],
            "application/vnd.bokehjs_load.v0+json": "\n(function(root) {\n  function now() {\n    return new Date();\n  }\n\n  var force = true;\n\n  if (typeof (root._bokeh_onload_callbacks) === \"undefined\" || force === true) {\n    root._bokeh_onload_callbacks = [];\n    root._bokeh_is_loading = undefined;\n  }\n\n  \n\n  \n  if (typeof (root._bokeh_timeout) === \"undefined\" || force === true) {\n    root._bokeh_timeout = Date.now() + 5000;\n    root._bokeh_failed_load = false;\n  }\n\n  var NB_LOAD_WARNING = {'data': {'text/html':\n     \"<div style='background-color: #fdd'>\\n\"+\n     \"<p>\\n\"+\n     \"BokehJS does not appear to have successfully loaded. If loading BokehJS from CDN, this \\n\"+\n     \"may be due to a slow or bad network connection. Possible fixes:\\n\"+\n     \"</p>\\n\"+\n     \"<ul>\\n\"+\n     \"<li>re-rerun `output_notebook()` to attempt to load from CDN again, or</li>\\n\"+\n     \"<li>use INLINE resources instead, as so:</li>\\n\"+\n     \"</ul>\\n\"+\n     \"<code>\\n\"+\n     \"from bokeh.resources import INLINE\\n\"+\n     \"output_notebook(resources=INLINE)\\n\"+\n     \"</code>\\n\"+\n     \"</div>\"}};\n\n  function display_loaded() {\n    var el = document.getElementById(\"3806\");\n    if (el != null) {\n      el.textContent = \"BokehJS is loading...\";\n    }\n    if (root.Bokeh !== undefined) {\n      if (el != null) {\n        el.textContent = \"BokehJS \" + root.Bokeh.version + \" successfully loaded.\";\n      }\n    } else if (Date.now() < root._bokeh_timeout) {\n      setTimeout(display_loaded, 100)\n    }\n  }\n\n\n  function run_callbacks() {\n    try {\n      root._bokeh_onload_callbacks.forEach(function(callback) { callback() });\n    }\n    finally {\n      delete root._bokeh_onload_callbacks\n    }\n    console.info(\"Bokeh: all callbacks have finished\");\n  }\n\n  function load_libs(js_urls, callback) {\n    root._bokeh_onload_callbacks.push(callback);\n    if (root._bokeh_is_loading > 0) {\n      console.log(\"Bokeh: BokehJS is being loaded, scheduling callback at\", now());\n      return null;\n    }\n    if (js_urls == null || js_urls.length === 0) {\n      run_callbacks();\n      return null;\n    }\n    console.log(\"Bokeh: BokehJS not loaded, scheduling load and callback at\", now());\n    root._bokeh_is_loading = js_urls.length;\n    for (var i = 0; i < js_urls.length; i++) {\n      var url = js_urls[i];\n      var s = document.createElement('script');\n      s.src = url;\n      s.async = false;\n      s.onreadystatechange = s.onload = function() {\n        root._bokeh_is_loading--;\n        if (root._bokeh_is_loading === 0) {\n          console.log(\"Bokeh: all BokehJS libraries loaded\");\n          run_callbacks()\n        }\n      };\n      s.onerror = function() {\n        console.warn(\"failed to load library \" + url);\n      };\n      console.log(\"Bokeh: injecting script tag for BokehJS library: \", url);\n      document.getElementsByTagName(\"head\")[0].appendChild(s);\n    }\n  };var element = document.getElementById(\"3806\");\n  if (element == null) {\n    console.log(\"Bokeh: ERROR: autoload.js configured with elementid '3806' but no matching script tag was found. \")\n    return false;\n  }\n\n  var js_urls = [\"https://cdn.pydata.org/bokeh/release/bokeh-1.0.4.min.js\", \"https://cdn.pydata.org/bokeh/release/bokeh-widgets-1.0.4.min.js\", \"https://cdn.pydata.org/bokeh/release/bokeh-tables-1.0.4.min.js\", \"https://cdn.pydata.org/bokeh/release/bokeh-gl-1.0.4.min.js\"];\n\n  var inline_js = [\n    function(Bokeh) {\n      Bokeh.set_log_level(\"info\");\n    },\n    \n    function(Bokeh) {\n      \n    },\n    function(Bokeh) {\n      console.log(\"Bokeh: injecting CSS: https://cdn.pydata.org/bokeh/release/bokeh-1.0.4.min.css\");\n      Bokeh.embed.inject_css(\"https://cdn.pydata.org/bokeh/release/bokeh-1.0.4.min.css\");\n      console.log(\"Bokeh: injecting CSS: https://cdn.pydata.org/bokeh/release/bokeh-widgets-1.0.4.min.css\");\n      Bokeh.embed.inject_css(\"https://cdn.pydata.org/bokeh/release/bokeh-widgets-1.0.4.min.css\");\n      console.log(\"Bokeh: injecting CSS: https://cdn.pydata.org/bokeh/release/bokeh-tables-1.0.4.min.css\");\n      Bokeh.embed.inject_css(\"https://cdn.pydata.org/bokeh/release/bokeh-tables-1.0.4.min.css\");\n    }\n  ];\n\n  function run_inline_js() {\n    \n    if ((root.Bokeh !== undefined) || (force === true)) {\n      for (var i = 0; i < inline_js.length; i++) {\n        inline_js[i].call(root, root.Bokeh);\n      }if (force === true) {\n        display_loaded();\n      }} else if (Date.now() < root._bokeh_timeout) {\n      setTimeout(run_inline_js, 100);\n    } else if (!root._bokeh_failed_load) {\n      console.log(\"Bokeh: BokehJS failed to load within specified timeout.\");\n      root._bokeh_failed_load = true;\n    } else if (force !== true) {\n      var cell = $(document.getElementById(\"3806\")).parents('.cell').data().cell;\n      cell.output_area.append_execute_result(NB_LOAD_WARNING)\n    }\n\n  }\n\n  if (root._bokeh_is_loading === 0) {\n    console.log(\"Bokeh: BokehJS loaded, going straight to plotting\");\n    run_inline_js();\n  } else {\n    load_libs(js_urls, function() {\n      console.log(\"Bokeh: BokehJS plotting callback run at\", now());\n      run_inline_js();\n    });\n  }\n}(window));"
          },
          "metadata": {
            "tags": []
          }
        },
        {
          "output_type": "display_data",
          "data": {
            "text/html": [
              "\n",
              "\n",
              "\n",
              "\n",
              "\n",
              "\n",
              "  <div class=\"bk-root\" id=\"dba02200-37cf-4ed0-9a0c-bd9370077514\" data-root-id=\"3306\"></div>\n"
            ]
          },
          "metadata": {
            "tags": []
          }
        },
        {
          "output_type": "display_data",
          "data": {
            "application/javascript": [
              "(function(root) {\n",
              "  function embed_document(root) {\n",
              "    \n",
              "  var docs_json = {\"f95a2204-6a80-43ab-a082-12c7befc8372\":{\"roots\":{\"references\":[{\"attributes\":{\"below\":[{\"id\":\"3316\",\"type\":\"LinearAxis\"}],\"left\":[{\"id\":\"3321\",\"type\":\"CategoricalAxis\"}],\"plot_height\":125,\"plot_width\":700,\"renderers\":[{\"id\":\"3316\",\"type\":\"LinearAxis\"},{\"id\":\"3320\",\"type\":\"Grid\"},{\"id\":\"3321\",\"type\":\"CategoricalAxis\"},{\"id\":\"3324\",\"type\":\"Grid\"},{\"id\":\"3333\",\"type\":\"BoxAnnotation\"},{\"id\":\"3344\",\"type\":\"GlyphRenderer\"},{\"id\":\"3349\",\"type\":\"GlyphRenderer\"},{\"id\":\"3354\",\"type\":\"GlyphRenderer\"},{\"id\":\"3524\",\"type\":\"GlyphRenderer\"},{\"id\":\"3708\",\"type\":\"GlyphRenderer\"}],\"title\":{\"id\":\"3305\",\"type\":\"Title\"},\"toolbar\":{\"id\":\"3331\",\"type\":\"Toolbar\"},\"toolbar_location\":null,\"x_range\":{\"id\":\"3308\",\"type\":\"DataRange1d\"},\"x_scale\":{\"id\":\"3312\",\"type\":\"LinearScale\"},\"y_range\":{\"id\":\"3310\",\"type\":\"FactorRange\"},\"y_scale\":{\"id\":\"3314\",\"type\":\"CategoricalScale\"}},\"id\":\"3306\",\"subtype\":\"Figure\",\"type\":\"Plot\"},{\"attributes\":{\"plot\":null,\"text\":\"188.89% Day 17 on a 9 day project: 8 days past due\"},\"id\":\"3305\",\"type\":\"Title\"},{\"attributes\":{\"data_source\":{\"id\":\"3521\",\"type\":\"ColumnDataSource\"},\"glyph\":{\"id\":\"3522\",\"type\":\"HBar\"},\"hover_glyph\":null,\"muted_glyph\":null,\"nonselection_glyph\":{\"id\":\"3523\",\"type\":\"HBar\"},\"selection_glyph\":null,\"view\":{\"id\":\"3525\",\"type\":\"CDSView\"}},\"id\":\"3524\",\"type\":\"GlyphRenderer\"},{\"attributes\":{},\"id\":\"3330\",\"type\":\"HelpTool\"},{\"attributes\":{},\"id\":\"3444\",\"type\":\"Selection\"},{\"attributes\":{\"bottom_units\":\"screen\",\"fill_alpha\":{\"value\":0.5},\"fill_color\":{\"value\":\"lightgrey\"},\"left_units\":\"screen\",\"level\":\"overlay\",\"line_alpha\":{\"value\":1.0},\"line_color\":{\"value\":\"black\"},\"line_dash\":[4,4],\"line_width\":{\"value\":2},\"plot\":null,\"render_mode\":\"css\",\"right_units\":\"screen\",\"top_units\":\"screen\"},\"id\":\"3333\",\"type\":\"BoxAnnotation\"},{\"attributes\":{\"source\":{\"id\":\"3341\",\"type\":\"ColumnDataSource\"}},\"id\":\"3345\",\"type\":\"CDSView\"},{\"attributes\":{\"callback\":null,\"range_padding\":0},\"id\":\"3308\",\"type\":\"DataRange1d\"},{\"attributes\":{\"data_source\":{\"id\":\"3341\",\"type\":\"ColumnDataSource\"},\"glyph\":{\"id\":\"3342\",\"type\":\"HBar\"},\"hover_glyph\":null,\"muted_glyph\":null,\"nonselection_glyph\":{\"id\":\"3343\",\"type\":\"HBar\"},\"selection_glyph\":null,\"view\":{\"id\":\"3345\",\"type\":\"CDSView\"}},\"id\":\"3344\",\"type\":\"GlyphRenderer\"},{\"attributes\":{},\"id\":\"3329\",\"type\":\"ResetTool\"},{\"attributes\":{\"fill_alpha\":{\"value\":0.1},\"fill_color\":{\"value\":\"#1f77b4\"},\"height\":{\"value\":0.8},\"line_alpha\":{\"value\":0.1},\"line_color\":{\"value\":\"#1f77b4\"},\"right\":{\"value\":9},\"y\":{\"field\":\"y\"}},\"id\":\"3343\",\"type\":\"HBar\"},{\"attributes\":{},\"id\":\"3326\",\"type\":\"WheelZoomTool\"},{\"attributes\":{\"overlay\":{\"id\":\"3333\",\"type\":\"BoxAnnotation\"}},\"id\":\"3327\",\"type\":\"BoxZoomTool\"},{\"attributes\":{\"callback\":null,\"data\":{\"right\":[17],\"y\":[\"ABC_CPU_Motherboard\"]},\"selected\":{\"id\":\"3619\",\"type\":\"Selection\"},\"selection_policy\":{\"id\":\"3618\",\"type\":\"UnionRenderers\"}},\"id\":\"3521\",\"type\":\"ColumnDataSource\"},{\"attributes\":{\"fill_color\":{\"value\":\"#bdc9e1\"},\"height\":{\"value\":0.8},\"left\":{\"value\":9},\"line_color\":{\"value\":\"#bdc9e1\"},\"right\":{\"value\":18},\"y\":{\"field\":\"y\"}},\"id\":\"3347\",\"type\":\"HBar\"},{\"attributes\":{\"line_color\":{\"value\":\"Green\"},\"line_width\":{\"value\":2},\"x0\":{\"field\":\"x0\"},\"x1\":{\"field\":\"x1\"},\"y0\":{\"field\":\"y0\"},\"y1\":{\"field\":\"y1\"}},\"id\":\"3706\",\"type\":\"Segment\"},{\"attributes\":{},\"id\":\"3445\",\"type\":\"UnionRenderers\"},{\"attributes\":{},\"id\":\"3804\",\"type\":\"UnionRenderers\"},{\"attributes\":{\"num_minor_ticks\":0},\"id\":\"3317\",\"type\":\"BasicTicker\"},{\"attributes\":{\"callback\":null,\"data\":{\"y\":[\"ABC_CPU_Motherboard\"]},\"selected\":{\"id\":\"3446\",\"type\":\"Selection\"},\"selection_policy\":{\"id\":\"3445\",\"type\":\"UnionRenderers\"}},\"id\":\"3346\",\"type\":\"ColumnDataSource\"},{\"attributes\":{\"source\":{\"id\":\"3346\",\"type\":\"ColumnDataSource\"}},\"id\":\"3350\",\"type\":\"CDSView\"},{\"attributes\":{\"source\":{\"id\":\"3705\",\"type\":\"ColumnDataSource\"}},\"id\":\"3709\",\"type\":\"CDSView\"},{\"attributes\":{},\"id\":\"3448\",\"type\":\"Selection\"},{\"attributes\":{\"data_source\":{\"id\":\"3346\",\"type\":\"ColumnDataSource\"},\"glyph\":{\"id\":\"3347\",\"type\":\"HBar\"},\"hover_glyph\":null,\"muted_glyph\":null,\"nonselection_glyph\":{\"id\":\"3348\",\"type\":\"HBar\"},\"selection_glyph\":null,\"view\":{\"id\":\"3350\",\"type\":\"CDSView\"}},\"id\":\"3349\",\"type\":\"GlyphRenderer\"},{\"attributes\":{\"fill_alpha\":{\"value\":0.1},\"fill_color\":{\"value\":\"#1f77b4\"},\"height\":{\"value\":0.8},\"left\":{\"value\":18},\"line_alpha\":{\"value\":0.1},\"line_color\":{\"value\":\"#1f77b4\"},\"right\":{\"value\":27},\"y\":{\"field\":\"y\"}},\"id\":\"3353\",\"type\":\"HBar\"},{\"attributes\":{\"source\":{\"id\":\"3521\",\"type\":\"ColumnDataSource\"}},\"id\":\"3525\",\"type\":\"CDSView\"},{\"attributes\":{},\"id\":\"3618\",\"type\":\"UnionRenderers\"},{\"attributes\":{\"height\":{\"value\":0.3},\"line_color\":{\"value\":\"gray\"},\"right\":{\"field\":\"right\"},\"y\":{\"field\":\"y\"}},\"id\":\"3522\",\"type\":\"HBar\"},{\"attributes\":{},\"id\":\"3805\",\"type\":\"Selection\"},{\"attributes\":{},\"id\":\"3447\",\"type\":\"UnionRenderers\"},{\"attributes\":{\"fill_color\":{\"value\":\"#74a9cf\"},\"height\":{\"value\":0.8},\"left\":{\"value\":18},\"line_color\":{\"value\":\"#74a9cf\"},\"right\":{\"value\":27},\"y\":{\"field\":\"y\"}},\"id\":\"3352\",\"type\":\"HBar\"},{\"attributes\":{\"line_alpha\":{\"value\":0.1},\"line_color\":{\"value\":\"#1f77b4\"},\"line_width\":{\"value\":2},\"x0\":{\"field\":\"x0\"},\"x1\":{\"field\":\"x1\"},\"y0\":{\"field\":\"y0\"},\"y1\":{\"field\":\"y1\"}},\"id\":\"3707\",\"type\":\"Segment\"},{\"attributes\":{},\"id\":\"3439\",\"type\":\"CategoricalTickFormatter\"},{\"attributes\":{},\"id\":\"3443\",\"type\":\"UnionRenderers\"},{\"attributes\":{},\"id\":\"3325\",\"type\":\"PanTool\"},{\"attributes\":{\"data_source\":{\"id\":\"3351\",\"type\":\"ColumnDataSource\"},\"glyph\":{\"id\":\"3352\",\"type\":\"HBar\"},\"hover_glyph\":null,\"muted_glyph\":null,\"nonselection_glyph\":{\"id\":\"3353\",\"type\":\"HBar\"},\"selection_glyph\":null,\"view\":{\"id\":\"3355\",\"type\":\"CDSView\"}},\"id\":\"3354\",\"type\":\"GlyphRenderer\"},{\"attributes\":{},\"id\":\"3328\",\"type\":\"SaveTool\"},{\"attributes\":{\"fill_color\":{\"value\":\"#f1eef6\"},\"height\":{\"value\":0.8},\"line_color\":{\"value\":\"#f1eef6\"},\"right\":{\"value\":9},\"y\":{\"field\":\"y\"}},\"id\":\"3342\",\"type\":\"HBar\"},{\"attributes\":{\"source\":{\"id\":\"3351\",\"type\":\"ColumnDataSource\"}},\"id\":\"3355\",\"type\":\"CDSView\"},{\"attributes\":{},\"id\":\"3314\",\"type\":\"CategoricalScale\"},{\"attributes\":{\"callback\":null,\"data\":{\"x0\":[9],\"x1\":[9],\"y0\":[[\"ABC_CPU_Motherboard\",-0.5]],\"y1\":[[\"ABC_CPU_Motherboard\",0.5]]},\"selected\":{\"id\":\"3805\",\"type\":\"Selection\"},\"selection_policy\":{\"id\":\"3804\",\"type\":\"UnionRenderers\"}},\"id\":\"3705\",\"type\":\"ColumnDataSource\"},{\"attributes\":{\"formatter\":{\"id\":\"3439\",\"type\":\"CategoricalTickFormatter\"},\"plot\":{\"id\":\"3306\",\"subtype\":\"Figure\",\"type\":\"Plot\"},\"ticker\":{\"id\":\"3322\",\"type\":\"CategoricalTicker\"}},\"id\":\"3321\",\"type\":\"CategoricalAxis\"},{\"attributes\":{},\"id\":\"3619\",\"type\":\"Selection\"},{\"attributes\":{\"callback\":null,\"data\":{\"y\":[\"ABC_CPU_Motherboard\"]},\"selected\":{\"id\":\"3448\",\"type\":\"Selection\"},\"selection_policy\":{\"id\":\"3447\",\"type\":\"UnionRenderers\"}},\"id\":\"3351\",\"type\":\"ColumnDataSource\"},{\"attributes\":{},\"id\":\"3322\",\"type\":\"CategoricalTicker\"},{\"attributes\":{},\"id\":\"3446\",\"type\":\"Selection\"},{\"attributes\":{\"callback\":null,\"factors\":[\"ABC_CPU_Motherboard\"]},\"id\":\"3310\",\"type\":\"FactorRange\"},{\"attributes\":{\"data_source\":{\"id\":\"3705\",\"type\":\"ColumnDataSource\"},\"glyph\":{\"id\":\"3706\",\"type\":\"Segment\"},\"hover_glyph\":null,\"muted_glyph\":null,\"nonselection_glyph\":{\"id\":\"3707\",\"type\":\"Segment\"},\"selection_glyph\":null,\"view\":{\"id\":\"3709\",\"type\":\"CDSView\"}},\"id\":\"3708\",\"type\":\"GlyphRenderer\"},{\"attributes\":{},\"id\":\"3312\",\"type\":\"LinearScale\"},{\"attributes\":{\"callback\":null,\"data\":{\"y\":[\"ABC_CPU_Motherboard\"]},\"selected\":{\"id\":\"3444\",\"type\":\"Selection\"},\"selection_policy\":{\"id\":\"3443\",\"type\":\"UnionRenderers\"}},\"id\":\"3341\",\"type\":\"ColumnDataSource\"},{\"attributes\":{\"formatter\":{\"id\":\"3441\",\"type\":\"BasicTickFormatter\"},\"plot\":{\"id\":\"3306\",\"subtype\":\"Figure\",\"type\":\"Plot\"},\"ticker\":{\"id\":\"3317\",\"type\":\"BasicTicker\"}},\"id\":\"3316\",\"type\":\"LinearAxis\"},{\"attributes\":{\"fill_alpha\":{\"value\":0.1},\"fill_color\":{\"value\":\"#1f77b4\"},\"height\":{\"value\":0.8},\"left\":{\"value\":9},\"line_alpha\":{\"value\":0.1},\"line_color\":{\"value\":\"#1f77b4\"},\"right\":{\"value\":18},\"y\":{\"field\":\"y\"}},\"id\":\"3348\",\"type\":\"HBar\"},{\"attributes\":{},\"id\":\"3441\",\"type\":\"BasicTickFormatter\"},{\"attributes\":{\"dimension\":1,\"grid_line_color\":{\"value\":null},\"plot\":{\"id\":\"3306\",\"subtype\":\"Figure\",\"type\":\"Plot\"},\"ticker\":{\"id\":\"3322\",\"type\":\"CategoricalTicker\"}},\"id\":\"3324\",\"type\":\"Grid\"},{\"attributes\":{\"fill_alpha\":{\"value\":0.1},\"fill_color\":{\"value\":\"#1f77b4\"},\"height\":{\"value\":0.3},\"line_alpha\":{\"value\":0.1},\"line_color\":{\"value\":\"#1f77b4\"},\"right\":{\"field\":\"right\"},\"y\":{\"field\":\"y\"}},\"id\":\"3523\",\"type\":\"HBar\"},{\"attributes\":{\"active_drag\":\"auto\",\"active_inspect\":\"auto\",\"active_multi\":null,\"active_scroll\":\"auto\",\"active_tap\":\"auto\",\"tools\":[{\"id\":\"3325\",\"type\":\"PanTool\"},{\"id\":\"3326\",\"type\":\"WheelZoomTool\"},{\"id\":\"3327\",\"type\":\"BoxZoomTool\"},{\"id\":\"3328\",\"type\":\"SaveTool\"},{\"id\":\"3329\",\"type\":\"ResetTool\"},{\"id\":\"3330\",\"type\":\"HelpTool\"}]},\"id\":\"3331\",\"type\":\"Toolbar\"},{\"attributes\":{\"grid_line_color\":{\"value\":null},\"plot\":{\"id\":\"3306\",\"subtype\":\"Figure\",\"type\":\"Plot\"},\"ticker\":{\"id\":\"3317\",\"type\":\"BasicTicker\"}},\"id\":\"3320\",\"type\":\"Grid\"}],\"root_ids\":[\"3306\"]},\"title\":\"Bokeh Application\",\"version\":\"1.0.4\"}};\n",
              "  var render_items = [{\"docid\":\"f95a2204-6a80-43ab-a082-12c7befc8372\",\"roots\":{\"3306\":\"dba02200-37cf-4ed0-9a0c-bd9370077514\"}}];\n",
              "  root.Bokeh.embed.embed_items_notebook(docs_json, render_items);\n",
              "\n",
              "  }\n",
              "  if (root.Bokeh !== undefined) {\n",
              "    embed_document(root);\n",
              "  } else {\n",
              "    var attempts = 0;\n",
              "    var timer = setInterval(function(root) {\n",
              "      if (root.Bokeh !== undefined) {\n",
              "        embed_document(root);\n",
              "        clearInterval(timer);\n",
              "      }\n",
              "      attempts++;\n",
              "      if (attempts > 100) {\n",
              "        console.log(\"Bokeh: ERROR: Unable to run BokehJS code because BokehJS library is missing\");\n",
              "        clearInterval(timer);\n",
              "      }\n",
              "    }, 10, root)\n",
              "  }\n",
              "})(window);"
            ],
            "application/vnd.bokehjs_exec.v0+json": ""
          },
          "metadata": {
            "tags": [],
            "application/vnd.bokehjs_exec.v0+json": {
              "id": "3306"
            }
          }
        }
      ]
    },
    {
      "cell_type": "code",
      "metadata": {
        "id": "6Obac2APvVKu",
        "colab_type": "code",
        "outputId": "120b5a01-8534-4058-b346-3f3014df0f32",
        "colab": {
          "base_uri": "https://localhost:8080/",
          "height": 172
        }
      },
      "source": [
        "for start, label in zip(limits[:-1], labels):\n",
        "    p.add_layout(Label(x=start, y=0, text=label, text_font_size=\"10pt\",\n",
        "                       text_color='black', y_offset=5, x_offset=15))\n",
        "    \n",
        "    \n",
        "p.add_layout(Label(x=start, y=0, text=label, text_font_size=\"10pt\",\n",
        "                       text_color='black', y_offset=5, x_offset=15))    \n",
        "output_notebook()\n",
        "show(p)\n"
      ],
      "execution_count": 118,
      "outputs": [
        {
          "output_type": "display_data",
          "data": {
            "text/html": [
              "\n",
              "    <div class=\"bk-root\">\n",
              "        <a href=\"https://bokeh.pydata.org\" target=\"_blank\" class=\"bk-logo bk-logo-small bk-logo-notebook\"></a>\n",
              "        <span id=\"4291\">Loading BokehJS ...</span>\n",
              "    </div>"
            ]
          },
          "metadata": {
            "tags": []
          }
        },
        {
          "output_type": "display_data",
          "data": {
            "application/javascript": [
              "\n",
              "(function(root) {\n",
              "  function now() {\n",
              "    return new Date();\n",
              "  }\n",
              "\n",
              "  var force = true;\n",
              "\n",
              "  if (typeof (root._bokeh_onload_callbacks) === \"undefined\" || force === true) {\n",
              "    root._bokeh_onload_callbacks = [];\n",
              "    root._bokeh_is_loading = undefined;\n",
              "  }\n",
              "\n",
              "  var JS_MIME_TYPE = 'application/javascript';\n",
              "  var HTML_MIME_TYPE = 'text/html';\n",
              "  var EXEC_MIME_TYPE = 'application/vnd.bokehjs_exec.v0+json';\n",
              "  var CLASS_NAME = 'output_bokeh rendered_html';\n",
              "\n",
              "  /**\n",
              "   * Render data to the DOM node\n",
              "   */\n",
              "  function render(props, node) {\n",
              "    var script = document.createElement(\"script\");\n",
              "    node.appendChild(script);\n",
              "  }\n",
              "\n",
              "  /**\n",
              "   * Handle when an output is cleared or removed\n",
              "   */\n",
              "  function handleClearOutput(event, handle) {\n",
              "    var cell = handle.cell;\n",
              "\n",
              "    var id = cell.output_area._bokeh_element_id;\n",
              "    var server_id = cell.output_area._bokeh_server_id;\n",
              "    // Clean up Bokeh references\n",
              "    if (id != null && id in Bokeh.index) {\n",
              "      Bokeh.index[id].model.document.clear();\n",
              "      delete Bokeh.index[id];\n",
              "    }\n",
              "\n",
              "    if (server_id !== undefined) {\n",
              "      // Clean up Bokeh references\n",
              "      var cmd = \"from bokeh.io.state import curstate; print(curstate().uuid_to_server['\" + server_id + \"'].get_sessions()[0].document.roots[0]._id)\";\n",
              "      cell.notebook.kernel.execute(cmd, {\n",
              "        iopub: {\n",
              "          output: function(msg) {\n",
              "            var id = msg.content.text.trim();\n",
              "            if (id in Bokeh.index) {\n",
              "              Bokeh.index[id].model.document.clear();\n",
              "              delete Bokeh.index[id];\n",
              "            }\n",
              "          }\n",
              "        }\n",
              "      });\n",
              "      // Destroy server and session\n",
              "      var cmd = \"import bokeh.io.notebook as ion; ion.destroy_server('\" + server_id + \"')\";\n",
              "      cell.notebook.kernel.execute(cmd);\n",
              "    }\n",
              "  }\n",
              "\n",
              "  /**\n",
              "   * Handle when a new output is added\n",
              "   */\n",
              "  function handleAddOutput(event, handle) {\n",
              "    var output_area = handle.output_area;\n",
              "    var output = handle.output;\n",
              "\n",
              "    // limit handleAddOutput to display_data with EXEC_MIME_TYPE content only\n",
              "    if ((output.output_type != \"display_data\") || (!output.data.hasOwnProperty(EXEC_MIME_TYPE))) {\n",
              "      return\n",
              "    }\n",
              "\n",
              "    var toinsert = output_area.element.find(\".\" + CLASS_NAME.split(' ')[0]);\n",
              "\n",
              "    if (output.metadata[EXEC_MIME_TYPE][\"id\"] !== undefined) {\n",
              "      toinsert[toinsert.length - 1].firstChild.textContent = output.data[JS_MIME_TYPE];\n",
              "      // store reference to embed id on output_area\n",
              "      output_area._bokeh_element_id = output.metadata[EXEC_MIME_TYPE][\"id\"];\n",
              "    }\n",
              "    if (output.metadata[EXEC_MIME_TYPE][\"server_id\"] !== undefined) {\n",
              "      var bk_div = document.createElement(\"div\");\n",
              "      bk_div.innerHTML = output.data[HTML_MIME_TYPE];\n",
              "      var script_attrs = bk_div.children[0].attributes;\n",
              "      for (var i = 0; i < script_attrs.length; i++) {\n",
              "        toinsert[toinsert.length - 1].firstChild.setAttribute(script_attrs[i].name, script_attrs[i].value);\n",
              "      }\n",
              "      // store reference to server id on output_area\n",
              "      output_area._bokeh_server_id = output.metadata[EXEC_MIME_TYPE][\"server_id\"];\n",
              "    }\n",
              "  }\n",
              "\n",
              "  function register_renderer(events, OutputArea) {\n",
              "\n",
              "    function append_mime(data, metadata, element) {\n",
              "      // create a DOM node to render to\n",
              "      var toinsert = this.create_output_subarea(\n",
              "        metadata,\n",
              "        CLASS_NAME,\n",
              "        EXEC_MIME_TYPE\n",
              "      );\n",
              "      this.keyboard_manager.register_events(toinsert);\n",
              "      // Render to node\n",
              "      var props = {data: data, metadata: metadata[EXEC_MIME_TYPE]};\n",
              "      render(props, toinsert[toinsert.length - 1]);\n",
              "      element.append(toinsert);\n",
              "      return toinsert\n",
              "    }\n",
              "\n",
              "    /* Handle when an output is cleared or removed */\n",
              "    events.on('clear_output.CodeCell', handleClearOutput);\n",
              "    events.on('delete.Cell', handleClearOutput);\n",
              "\n",
              "    /* Handle when a new output is added */\n",
              "    events.on('output_added.OutputArea', handleAddOutput);\n",
              "\n",
              "    /**\n",
              "     * Register the mime type and append_mime function with output_area\n",
              "     */\n",
              "    OutputArea.prototype.register_mime_type(EXEC_MIME_TYPE, append_mime, {\n",
              "      /* Is output safe? */\n",
              "      safe: true,\n",
              "      /* Index of renderer in `output_area.display_order` */\n",
              "      index: 0\n",
              "    });\n",
              "  }\n",
              "\n",
              "  // register the mime type if in Jupyter Notebook environment and previously unregistered\n",
              "  if (root.Jupyter !== undefined) {\n",
              "    var events = require('base/js/events');\n",
              "    var OutputArea = require('notebook/js/outputarea').OutputArea;\n",
              "\n",
              "    if (OutputArea.prototype.mime_types().indexOf(EXEC_MIME_TYPE) == -1) {\n",
              "      register_renderer(events, OutputArea);\n",
              "    }\n",
              "  }\n",
              "\n",
              "  \n",
              "  if (typeof (root._bokeh_timeout) === \"undefined\" || force === true) {\n",
              "    root._bokeh_timeout = Date.now() + 5000;\n",
              "    root._bokeh_failed_load = false;\n",
              "  }\n",
              "\n",
              "  var NB_LOAD_WARNING = {'data': {'text/html':\n",
              "     \"<div style='background-color: #fdd'>\\n\"+\n",
              "     \"<p>\\n\"+\n",
              "     \"BokehJS does not appear to have successfully loaded. If loading BokehJS from CDN, this \\n\"+\n",
              "     \"may be due to a slow or bad network connection. Possible fixes:\\n\"+\n",
              "     \"</p>\\n\"+\n",
              "     \"<ul>\\n\"+\n",
              "     \"<li>re-rerun `output_notebook()` to attempt to load from CDN again, or</li>\\n\"+\n",
              "     \"<li>use INLINE resources instead, as so:</li>\\n\"+\n",
              "     \"</ul>\\n\"+\n",
              "     \"<code>\\n\"+\n",
              "     \"from bokeh.resources import INLINE\\n\"+\n",
              "     \"output_notebook(resources=INLINE)\\n\"+\n",
              "     \"</code>\\n\"+\n",
              "     \"</div>\"}};\n",
              "\n",
              "  function display_loaded() {\n",
              "    var el = document.getElementById(\"4291\");\n",
              "    if (el != null) {\n",
              "      el.textContent = \"BokehJS is loading...\";\n",
              "    }\n",
              "    if (root.Bokeh !== undefined) {\n",
              "      if (el != null) {\n",
              "        el.textContent = \"BokehJS \" + root.Bokeh.version + \" successfully loaded.\";\n",
              "      }\n",
              "    } else if (Date.now() < root._bokeh_timeout) {\n",
              "      setTimeout(display_loaded, 100)\n",
              "    }\n",
              "  }\n",
              "\n",
              "\n",
              "  function run_callbacks() {\n",
              "    try {\n",
              "      root._bokeh_onload_callbacks.forEach(function(callback) { callback() });\n",
              "    }\n",
              "    finally {\n",
              "      delete root._bokeh_onload_callbacks\n",
              "    }\n",
              "    console.info(\"Bokeh: all callbacks have finished\");\n",
              "  }\n",
              "\n",
              "  function load_libs(js_urls, callback) {\n",
              "    root._bokeh_onload_callbacks.push(callback);\n",
              "    if (root._bokeh_is_loading > 0) {\n",
              "      console.log(\"Bokeh: BokehJS is being loaded, scheduling callback at\", now());\n",
              "      return null;\n",
              "    }\n",
              "    if (js_urls == null || js_urls.length === 0) {\n",
              "      run_callbacks();\n",
              "      return null;\n",
              "    }\n",
              "    console.log(\"Bokeh: BokehJS not loaded, scheduling load and callback at\", now());\n",
              "    root._bokeh_is_loading = js_urls.length;\n",
              "    for (var i = 0; i < js_urls.length; i++) {\n",
              "      var url = js_urls[i];\n",
              "      var s = document.createElement('script');\n",
              "      s.src = url;\n",
              "      s.async = false;\n",
              "      s.onreadystatechange = s.onload = function() {\n",
              "        root._bokeh_is_loading--;\n",
              "        if (root._bokeh_is_loading === 0) {\n",
              "          console.log(\"Bokeh: all BokehJS libraries loaded\");\n",
              "          run_callbacks()\n",
              "        }\n",
              "      };\n",
              "      s.onerror = function() {\n",
              "        console.warn(\"failed to load library \" + url);\n",
              "      };\n",
              "      console.log(\"Bokeh: injecting script tag for BokehJS library: \", url);\n",
              "      document.getElementsByTagName(\"head\")[0].appendChild(s);\n",
              "    }\n",
              "  };var element = document.getElementById(\"4291\");\n",
              "  if (element == null) {\n",
              "    console.log(\"Bokeh: ERROR: autoload.js configured with elementid '4291' but no matching script tag was found. \")\n",
              "    return false;\n",
              "  }\n",
              "\n",
              "  var js_urls = [\"https://cdn.pydata.org/bokeh/release/bokeh-1.0.4.min.js\", \"https://cdn.pydata.org/bokeh/release/bokeh-widgets-1.0.4.min.js\", \"https://cdn.pydata.org/bokeh/release/bokeh-tables-1.0.4.min.js\", \"https://cdn.pydata.org/bokeh/release/bokeh-gl-1.0.4.min.js\"];\n",
              "\n",
              "  var inline_js = [\n",
              "    function(Bokeh) {\n",
              "      Bokeh.set_log_level(\"info\");\n",
              "    },\n",
              "    \n",
              "    function(Bokeh) {\n",
              "      \n",
              "    },\n",
              "    function(Bokeh) {\n",
              "      console.log(\"Bokeh: injecting CSS: https://cdn.pydata.org/bokeh/release/bokeh-1.0.4.min.css\");\n",
              "      Bokeh.embed.inject_css(\"https://cdn.pydata.org/bokeh/release/bokeh-1.0.4.min.css\");\n",
              "      console.log(\"Bokeh: injecting CSS: https://cdn.pydata.org/bokeh/release/bokeh-widgets-1.0.4.min.css\");\n",
              "      Bokeh.embed.inject_css(\"https://cdn.pydata.org/bokeh/release/bokeh-widgets-1.0.4.min.css\");\n",
              "      console.log(\"Bokeh: injecting CSS: https://cdn.pydata.org/bokeh/release/bokeh-tables-1.0.4.min.css\");\n",
              "      Bokeh.embed.inject_css(\"https://cdn.pydata.org/bokeh/release/bokeh-tables-1.0.4.min.css\");\n",
              "    }\n",
              "  ];\n",
              "\n",
              "  function run_inline_js() {\n",
              "    \n",
              "    if ((root.Bokeh !== undefined) || (force === true)) {\n",
              "      for (var i = 0; i < inline_js.length; i++) {\n",
              "        inline_js[i].call(root, root.Bokeh);\n",
              "      }if (force === true) {\n",
              "        display_loaded();\n",
              "      }} else if (Date.now() < root._bokeh_timeout) {\n",
              "      setTimeout(run_inline_js, 100);\n",
              "    } else if (!root._bokeh_failed_load) {\n",
              "      console.log(\"Bokeh: BokehJS failed to load within specified timeout.\");\n",
              "      root._bokeh_failed_load = true;\n",
              "    } else if (force !== true) {\n",
              "      var cell = $(document.getElementById(\"4291\")).parents('.cell').data().cell;\n",
              "      cell.output_area.append_execute_result(NB_LOAD_WARNING)\n",
              "    }\n",
              "\n",
              "  }\n",
              "\n",
              "  if (root._bokeh_is_loading === 0) {\n",
              "    console.log(\"Bokeh: BokehJS loaded, going straight to plotting\");\n",
              "    run_inline_js();\n",
              "  } else {\n",
              "    load_libs(js_urls, function() {\n",
              "      console.log(\"Bokeh: BokehJS plotting callback run at\", now());\n",
              "      run_inline_js();\n",
              "    });\n",
              "  }\n",
              "}(window));"
            ],
            "application/vnd.bokehjs_load.v0+json": "\n(function(root) {\n  function now() {\n    return new Date();\n  }\n\n  var force = true;\n\n  if (typeof (root._bokeh_onload_callbacks) === \"undefined\" || force === true) {\n    root._bokeh_onload_callbacks = [];\n    root._bokeh_is_loading = undefined;\n  }\n\n  \n\n  \n  if (typeof (root._bokeh_timeout) === \"undefined\" || force === true) {\n    root._bokeh_timeout = Date.now() + 5000;\n    root._bokeh_failed_load = false;\n  }\n\n  var NB_LOAD_WARNING = {'data': {'text/html':\n     \"<div style='background-color: #fdd'>\\n\"+\n     \"<p>\\n\"+\n     \"BokehJS does not appear to have successfully loaded. If loading BokehJS from CDN, this \\n\"+\n     \"may be due to a slow or bad network connection. Possible fixes:\\n\"+\n     \"</p>\\n\"+\n     \"<ul>\\n\"+\n     \"<li>re-rerun `output_notebook()` to attempt to load from CDN again, or</li>\\n\"+\n     \"<li>use INLINE resources instead, as so:</li>\\n\"+\n     \"</ul>\\n\"+\n     \"<code>\\n\"+\n     \"from bokeh.resources import INLINE\\n\"+\n     \"output_notebook(resources=INLINE)\\n\"+\n     \"</code>\\n\"+\n     \"</div>\"}};\n\n  function display_loaded() {\n    var el = document.getElementById(\"4291\");\n    if (el != null) {\n      el.textContent = \"BokehJS is loading...\";\n    }\n    if (root.Bokeh !== undefined) {\n      if (el != null) {\n        el.textContent = \"BokehJS \" + root.Bokeh.version + \" successfully loaded.\";\n      }\n    } else if (Date.now() < root._bokeh_timeout) {\n      setTimeout(display_loaded, 100)\n    }\n  }\n\n\n  function run_callbacks() {\n    try {\n      root._bokeh_onload_callbacks.forEach(function(callback) { callback() });\n    }\n    finally {\n      delete root._bokeh_onload_callbacks\n    }\n    console.info(\"Bokeh: all callbacks have finished\");\n  }\n\n  function load_libs(js_urls, callback) {\n    root._bokeh_onload_callbacks.push(callback);\n    if (root._bokeh_is_loading > 0) {\n      console.log(\"Bokeh: BokehJS is being loaded, scheduling callback at\", now());\n      return null;\n    }\n    if (js_urls == null || js_urls.length === 0) {\n      run_callbacks();\n      return null;\n    }\n    console.log(\"Bokeh: BokehJS not loaded, scheduling load and callback at\", now());\n    root._bokeh_is_loading = js_urls.length;\n    for (var i = 0; i < js_urls.length; i++) {\n      var url = js_urls[i];\n      var s = document.createElement('script');\n      s.src = url;\n      s.async = false;\n      s.onreadystatechange = s.onload = function() {\n        root._bokeh_is_loading--;\n        if (root._bokeh_is_loading === 0) {\n          console.log(\"Bokeh: all BokehJS libraries loaded\");\n          run_callbacks()\n        }\n      };\n      s.onerror = function() {\n        console.warn(\"failed to load library \" + url);\n      };\n      console.log(\"Bokeh: injecting script tag for BokehJS library: \", url);\n      document.getElementsByTagName(\"head\")[0].appendChild(s);\n    }\n  };var element = document.getElementById(\"4291\");\n  if (element == null) {\n    console.log(\"Bokeh: ERROR: autoload.js configured with elementid '4291' but no matching script tag was found. \")\n    return false;\n  }\n\n  var js_urls = [\"https://cdn.pydata.org/bokeh/release/bokeh-1.0.4.min.js\", \"https://cdn.pydata.org/bokeh/release/bokeh-widgets-1.0.4.min.js\", \"https://cdn.pydata.org/bokeh/release/bokeh-tables-1.0.4.min.js\", \"https://cdn.pydata.org/bokeh/release/bokeh-gl-1.0.4.min.js\"];\n\n  var inline_js = [\n    function(Bokeh) {\n      Bokeh.set_log_level(\"info\");\n    },\n    \n    function(Bokeh) {\n      \n    },\n    function(Bokeh) {\n      console.log(\"Bokeh: injecting CSS: https://cdn.pydata.org/bokeh/release/bokeh-1.0.4.min.css\");\n      Bokeh.embed.inject_css(\"https://cdn.pydata.org/bokeh/release/bokeh-1.0.4.min.css\");\n      console.log(\"Bokeh: injecting CSS: https://cdn.pydata.org/bokeh/release/bokeh-widgets-1.0.4.min.css\");\n      Bokeh.embed.inject_css(\"https://cdn.pydata.org/bokeh/release/bokeh-widgets-1.0.4.min.css\");\n      console.log(\"Bokeh: injecting CSS: https://cdn.pydata.org/bokeh/release/bokeh-tables-1.0.4.min.css\");\n      Bokeh.embed.inject_css(\"https://cdn.pydata.org/bokeh/release/bokeh-tables-1.0.4.min.css\");\n    }\n  ];\n\n  function run_inline_js() {\n    \n    if ((root.Bokeh !== undefined) || (force === true)) {\n      for (var i = 0; i < inline_js.length; i++) {\n        inline_js[i].call(root, root.Bokeh);\n      }if (force === true) {\n        display_loaded();\n      }} else if (Date.now() < root._bokeh_timeout) {\n      setTimeout(run_inline_js, 100);\n    } else if (!root._bokeh_failed_load) {\n      console.log(\"Bokeh: BokehJS failed to load within specified timeout.\");\n      root._bokeh_failed_load = true;\n    } else if (force !== true) {\n      var cell = $(document.getElementById(\"4291\")).parents('.cell').data().cell;\n      cell.output_area.append_execute_result(NB_LOAD_WARNING)\n    }\n\n  }\n\n  if (root._bokeh_is_loading === 0) {\n    console.log(\"Bokeh: BokehJS loaded, going straight to plotting\");\n    run_inline_js();\n  } else {\n    load_libs(js_urls, function() {\n      console.log(\"Bokeh: BokehJS plotting callback run at\", now());\n      run_inline_js();\n    });\n  }\n}(window));"
          },
          "metadata": {
            "tags": []
          }
        },
        {
          "output_type": "display_data",
          "data": {
            "text/html": [
              "\n",
              "\n",
              "\n",
              "\n",
              "\n",
              "\n",
              "  <div class=\"bk-root\" id=\"a73f68d4-66e9-4b44-8374-ea9c1a67cb45\" data-root-id=\"3306\"></div>\n"
            ]
          },
          "metadata": {
            "tags": []
          }
        },
        {
          "output_type": "display_data",
          "data": {
            "application/javascript": [
              "(function(root) {\n",
              "  function embed_document(root) {\n",
              "    \n",
              "  var docs_json = {\"bb3cacb9-e917-4b9e-a1f4-070854922cd8\":{\"roots\":{\"references\":[{\"attributes\":{\"below\":[{\"id\":\"3316\",\"type\":\"LinearAxis\"}],\"left\":[{\"id\":\"3321\",\"type\":\"CategoricalAxis\"}],\"plot_height\":125,\"plot_width\":700,\"renderers\":[{\"id\":\"3316\",\"type\":\"LinearAxis\"},{\"id\":\"3320\",\"type\":\"Grid\"},{\"id\":\"3321\",\"type\":\"CategoricalAxis\"},{\"id\":\"3324\",\"type\":\"Grid\"},{\"id\":\"3333\",\"type\":\"BoxAnnotation\"},{\"id\":\"3344\",\"type\":\"GlyphRenderer\"},{\"id\":\"3349\",\"type\":\"GlyphRenderer\"},{\"id\":\"3354\",\"type\":\"GlyphRenderer\"},{\"id\":\"3524\",\"type\":\"GlyphRenderer\"},{\"id\":\"3708\",\"type\":\"GlyphRenderer\"},{\"id\":\"3903\",\"type\":\"Label\"},{\"id\":\"4000\",\"type\":\"Label\"},{\"id\":\"4097\",\"type\":\"Label\"},{\"id\":\"4194\",\"type\":\"Label\"}],\"title\":{\"id\":\"3305\",\"type\":\"Title\"},\"toolbar\":{\"id\":\"3331\",\"type\":\"Toolbar\"},\"toolbar_location\":null,\"x_range\":{\"id\":\"3308\",\"type\":\"DataRange1d\"},\"x_scale\":{\"id\":\"3312\",\"type\":\"LinearScale\"},\"y_range\":{\"id\":\"3310\",\"type\":\"FactorRange\"},\"y_scale\":{\"id\":\"3314\",\"type\":\"CategoricalScale\"}},\"id\":\"3306\",\"subtype\":\"Figure\",\"type\":\"Plot\"},{\"attributes\":{\"plot\":{\"id\":\"3306\",\"subtype\":\"Figure\",\"type\":\"Plot\"},\"text\":\"Late\",\"text_color\":{\"value\":\"black\"},\"text_font_size\":{\"value\":\"10pt\"},\"x\":9,\"x_offset\":15,\"y\":0,\"y_offset\":5},\"id\":\"4000\",\"type\":\"Label\"},{\"attributes\":{\"plot\":null,\"text\":\"188.89% Day 17 on a 9 day project: 8 days past due\"},\"id\":\"3305\",\"type\":\"Title\"},{\"attributes\":{\"data_source\":{\"id\":\"3521\",\"type\":\"ColumnDataSource\"},\"glyph\":{\"id\":\"3522\",\"type\":\"HBar\"},\"hover_glyph\":null,\"muted_glyph\":null,\"nonselection_glyph\":{\"id\":\"3523\",\"type\":\"HBar\"},\"selection_glyph\":null,\"view\":{\"id\":\"3525\",\"type\":\"CDSView\"}},\"id\":\"3524\",\"type\":\"GlyphRenderer\"},{\"attributes\":{},\"id\":\"3330\",\"type\":\"HelpTool\"},{\"attributes\":{},\"id\":\"3444\",\"type\":\"Selection\"},{\"attributes\":{\"bottom_units\":\"screen\",\"fill_alpha\":{\"value\":0.5},\"fill_color\":{\"value\":\"lightgrey\"},\"left_units\":\"screen\",\"level\":\"overlay\",\"line_alpha\":{\"value\":1.0},\"line_color\":{\"value\":\"black\"},\"line_dash\":[4,4],\"line_width\":{\"value\":2},\"plot\":null,\"render_mode\":\"css\",\"right_units\":\"screen\",\"top_units\":\"screen\"},\"id\":\"3333\",\"type\":\"BoxAnnotation\"},{\"attributes\":{\"source\":{\"id\":\"3341\",\"type\":\"ColumnDataSource\"}},\"id\":\"3345\",\"type\":\"CDSView\"},{\"attributes\":{\"callback\":null,\"range_padding\":0},\"id\":\"3308\",\"type\":\"DataRange1d\"},{\"attributes\":{\"data_source\":{\"id\":\"3341\",\"type\":\"ColumnDataSource\"},\"glyph\":{\"id\":\"3342\",\"type\":\"HBar\"},\"hover_glyph\":null,\"muted_glyph\":null,\"nonselection_glyph\":{\"id\":\"3343\",\"type\":\"HBar\"},\"selection_glyph\":null,\"view\":{\"id\":\"3345\",\"type\":\"CDSView\"}},\"id\":\"3344\",\"type\":\"GlyphRenderer\"},{\"attributes\":{},\"id\":\"3329\",\"type\":\"ResetTool\"},{\"attributes\":{\"fill_alpha\":{\"value\":0.1},\"fill_color\":{\"value\":\"#1f77b4\"},\"height\":{\"value\":0.8},\"line_alpha\":{\"value\":0.1},\"line_color\":{\"value\":\"#1f77b4\"},\"right\":{\"value\":9},\"y\":{\"field\":\"y\"}},\"id\":\"3343\",\"type\":\"HBar\"},{\"attributes\":{},\"id\":\"3326\",\"type\":\"WheelZoomTool\"},{\"attributes\":{\"overlay\":{\"id\":\"3333\",\"type\":\"BoxAnnotation\"}},\"id\":\"3327\",\"type\":\"BoxZoomTool\"},{\"attributes\":{\"callback\":null,\"data\":{\"right\":[17],\"y\":[\"ABC_CPU_Motherboard\"]},\"selected\":{\"id\":\"3619\",\"type\":\"Selection\"},\"selection_policy\":{\"id\":\"3618\",\"type\":\"UnionRenderers\"}},\"id\":\"3521\",\"type\":\"ColumnDataSource\"},{\"attributes\":{\"fill_color\":{\"value\":\"#bdc9e1\"},\"height\":{\"value\":0.8},\"left\":{\"value\":9},\"line_color\":{\"value\":\"#bdc9e1\"},\"right\":{\"value\":18},\"y\":{\"field\":\"y\"}},\"id\":\"3347\",\"type\":\"HBar\"},{\"attributes\":{\"line_color\":{\"value\":\"Green\"},\"line_width\":{\"value\":2},\"x0\":{\"field\":\"x0\"},\"x1\":{\"field\":\"x1\"},\"y0\":{\"field\":\"y0\"},\"y1\":{\"field\":\"y1\"}},\"id\":\"3706\",\"type\":\"Segment\"},{\"attributes\":{},\"id\":\"3445\",\"type\":\"UnionRenderers\"},{\"attributes\":{},\"id\":\"3804\",\"type\":\"UnionRenderers\"},{\"attributes\":{\"num_minor_ticks\":0},\"id\":\"3317\",\"type\":\"BasicTicker\"},{\"attributes\":{\"callback\":null,\"data\":{\"y\":[\"ABC_CPU_Motherboard\"]},\"selected\":{\"id\":\"3446\",\"type\":\"Selection\"},\"selection_policy\":{\"id\":\"3445\",\"type\":\"UnionRenderers\"}},\"id\":\"3346\",\"type\":\"ColumnDataSource\"},{\"attributes\":{\"source\":{\"id\":\"3346\",\"type\":\"ColumnDataSource\"}},\"id\":\"3350\",\"type\":\"CDSView\"},{\"attributes\":{\"source\":{\"id\":\"3705\",\"type\":\"ColumnDataSource\"}},\"id\":\"3709\",\"type\":\"CDSView\"},{\"attributes\":{},\"id\":\"3448\",\"type\":\"Selection\"},{\"attributes\":{\"data_source\":{\"id\":\"3346\",\"type\":\"ColumnDataSource\"},\"glyph\":{\"id\":\"3347\",\"type\":\"HBar\"},\"hover_glyph\":null,\"muted_glyph\":null,\"nonselection_glyph\":{\"id\":\"3348\",\"type\":\"HBar\"},\"selection_glyph\":null,\"view\":{\"id\":\"3350\",\"type\":\"CDSView\"}},\"id\":\"3349\",\"type\":\"GlyphRenderer\"},{\"attributes\":{\"fill_alpha\":{\"value\":0.1},\"fill_color\":{\"value\":\"#1f77b4\"},\"height\":{\"value\":0.8},\"left\":{\"value\":18},\"line_alpha\":{\"value\":0.1},\"line_color\":{\"value\":\"#1f77b4\"},\"right\":{\"value\":27},\"y\":{\"field\":\"y\"}},\"id\":\"3353\",\"type\":\"HBar\"},{\"attributes\":{\"source\":{\"id\":\"3521\",\"type\":\"ColumnDataSource\"}},\"id\":\"3525\",\"type\":\"CDSView\"},{\"attributes\":{},\"id\":\"3618\",\"type\":\"UnionRenderers\"},{\"attributes\":{\"height\":{\"value\":0.3},\"line_color\":{\"value\":\"gray\"},\"right\":{\"field\":\"right\"},\"y\":{\"field\":\"y\"}},\"id\":\"3522\",\"type\":\"HBar\"},{\"attributes\":{},\"id\":\"3805\",\"type\":\"Selection\"},{\"attributes\":{},\"id\":\"3447\",\"type\":\"UnionRenderers\"},{\"attributes\":{\"fill_color\":{\"value\":\"#74a9cf\"},\"height\":{\"value\":0.8},\"left\":{\"value\":18},\"line_color\":{\"value\":\"#74a9cf\"},\"right\":{\"value\":27},\"y\":{\"field\":\"y\"}},\"id\":\"3352\",\"type\":\"HBar\"},{\"attributes\":{\"line_alpha\":{\"value\":0.1},\"line_color\":{\"value\":\"#1f77b4\"},\"line_width\":{\"value\":2},\"x0\":{\"field\":\"x0\"},\"x1\":{\"field\":\"x1\"},\"y0\":{\"field\":\"y0\"},\"y1\":{\"field\":\"y1\"}},\"id\":\"3707\",\"type\":\"Segment\"},{\"attributes\":{\"plot\":{\"id\":\"3306\",\"subtype\":\"Figure\",\"type\":\"Plot\"},\"text\":\"Very Late\",\"text_color\":{\"value\":\"black\"},\"text_font_size\":{\"value\":\"10pt\"},\"x\":18,\"x_offset\":15,\"y\":0,\"y_offset\":5},\"id\":\"4097\",\"type\":\"Label\"},{\"attributes\":{},\"id\":\"3439\",\"type\":\"CategoricalTickFormatter\"},{\"attributes\":{\"plot\":{\"id\":\"3306\",\"subtype\":\"Figure\",\"type\":\"Plot\"},\"text\":\"Very Late\",\"text_color\":{\"value\":\"black\"},\"text_font_size\":{\"value\":\"10pt\"},\"x\":18,\"x_offset\":15,\"y\":0,\"y_offset\":5},\"id\":\"4194\",\"type\":\"Label\"},{\"attributes\":{},\"id\":\"3443\",\"type\":\"UnionRenderers\"},{\"attributes\":{},\"id\":\"3325\",\"type\":\"PanTool\"},{\"attributes\":{\"data_source\":{\"id\":\"3351\",\"type\":\"ColumnDataSource\"},\"glyph\":{\"id\":\"3352\",\"type\":\"HBar\"},\"hover_glyph\":null,\"muted_glyph\":null,\"nonselection_glyph\":{\"id\":\"3353\",\"type\":\"HBar\"},\"selection_glyph\":null,\"view\":{\"id\":\"3355\",\"type\":\"CDSView\"}},\"id\":\"3354\",\"type\":\"GlyphRenderer\"},{\"attributes\":{},\"id\":\"3328\",\"type\":\"SaveTool\"},{\"attributes\":{\"fill_color\":{\"value\":\"#f1eef6\"},\"height\":{\"value\":0.8},\"line_color\":{\"value\":\"#f1eef6\"},\"right\":{\"value\":9},\"y\":{\"field\":\"y\"}},\"id\":\"3342\",\"type\":\"HBar\"},{\"attributes\":{\"source\":{\"id\":\"3351\",\"type\":\"ColumnDataSource\"}},\"id\":\"3355\",\"type\":\"CDSView\"},{\"attributes\":{},\"id\":\"3314\",\"type\":\"CategoricalScale\"},{\"attributes\":{\"callback\":null,\"data\":{\"x0\":[9],\"x1\":[9],\"y0\":[[\"ABC_CPU_Motherboard\",-0.5]],\"y1\":[[\"ABC_CPU_Motherboard\",0.5]]},\"selected\":{\"id\":\"3805\",\"type\":\"Selection\"},\"selection_policy\":{\"id\":\"3804\",\"type\":\"UnionRenderers\"}},\"id\":\"3705\",\"type\":\"ColumnDataSource\"},{\"attributes\":{\"formatter\":{\"id\":\"3439\",\"type\":\"CategoricalTickFormatter\"},\"plot\":{\"id\":\"3306\",\"subtype\":\"Figure\",\"type\":\"Plot\"},\"ticker\":{\"id\":\"3322\",\"type\":\"CategoricalTicker\"}},\"id\":\"3321\",\"type\":\"CategoricalAxis\"},{\"attributes\":{},\"id\":\"3619\",\"type\":\"Selection\"},{\"attributes\":{\"callback\":null,\"data\":{\"y\":[\"ABC_CPU_Motherboard\"]},\"selected\":{\"id\":\"3448\",\"type\":\"Selection\"},\"selection_policy\":{\"id\":\"3447\",\"type\":\"UnionRenderers\"}},\"id\":\"3351\",\"type\":\"ColumnDataSource\"},{\"attributes\":{},\"id\":\"3322\",\"type\":\"CategoricalTicker\"},{\"attributes\":{},\"id\":\"3446\",\"type\":\"Selection\"},{\"attributes\":{\"callback\":null,\"factors\":[\"ABC_CPU_Motherboard\"]},\"id\":\"3310\",\"type\":\"FactorRange\"},{\"attributes\":{\"data_source\":{\"id\":\"3705\",\"type\":\"ColumnDataSource\"},\"glyph\":{\"id\":\"3706\",\"type\":\"Segment\"},\"hover_glyph\":null,\"muted_glyph\":null,\"nonselection_glyph\":{\"id\":\"3707\",\"type\":\"Segment\"},\"selection_glyph\":null,\"view\":{\"id\":\"3709\",\"type\":\"CDSView\"}},\"id\":\"3708\",\"type\":\"GlyphRenderer\"},{\"attributes\":{},\"id\":\"3312\",\"type\":\"LinearScale\"},{\"attributes\":{\"plot\":{\"id\":\"3306\",\"subtype\":\"Figure\",\"type\":\"Plot\"},\"text\":\"OK\",\"text_color\":{\"value\":\"black\"},\"text_font_size\":{\"value\":\"10pt\"},\"x\":0,\"x_offset\":15,\"y\":0,\"y_offset\":5},\"id\":\"3903\",\"type\":\"Label\"},{\"attributes\":{\"formatter\":{\"id\":\"3441\",\"type\":\"BasicTickFormatter\"},\"plot\":{\"id\":\"3306\",\"subtype\":\"Figure\",\"type\":\"Plot\"},\"ticker\":{\"id\":\"3317\",\"type\":\"BasicTicker\"}},\"id\":\"3316\",\"type\":\"LinearAxis\"},{\"attributes\":{\"callback\":null,\"data\":{\"y\":[\"ABC_CPU_Motherboard\"]},\"selected\":{\"id\":\"3444\",\"type\":\"Selection\"},\"selection_policy\":{\"id\":\"3443\",\"type\":\"UnionRenderers\"}},\"id\":\"3341\",\"type\":\"ColumnDataSource\"},{\"attributes\":{},\"id\":\"3441\",\"type\":\"BasicTickFormatter\"},{\"attributes\":{\"dimension\":1,\"grid_line_color\":{\"value\":null},\"plot\":{\"id\":\"3306\",\"subtype\":\"Figure\",\"type\":\"Plot\"},\"ticker\":{\"id\":\"3322\",\"type\":\"CategoricalTicker\"}},\"id\":\"3324\",\"type\":\"Grid\"},{\"attributes\":{\"fill_alpha\":{\"value\":0.1},\"fill_color\":{\"value\":\"#1f77b4\"},\"height\":{\"value\":0.8},\"left\":{\"value\":9},\"line_alpha\":{\"value\":0.1},\"line_color\":{\"value\":\"#1f77b4\"},\"right\":{\"value\":18},\"y\":{\"field\":\"y\"}},\"id\":\"3348\",\"type\":\"HBar\"},{\"attributes\":{\"active_drag\":\"auto\",\"active_inspect\":\"auto\",\"active_multi\":null,\"active_scroll\":\"auto\",\"active_tap\":\"auto\",\"tools\":[{\"id\":\"3325\",\"type\":\"PanTool\"},{\"id\":\"3326\",\"type\":\"WheelZoomTool\"},{\"id\":\"3327\",\"type\":\"BoxZoomTool\"},{\"id\":\"3328\",\"type\":\"SaveTool\"},{\"id\":\"3329\",\"type\":\"ResetTool\"},{\"id\":\"3330\",\"type\":\"HelpTool\"}]},\"id\":\"3331\",\"type\":\"Toolbar\"},{\"attributes\":{\"fill_alpha\":{\"value\":0.1},\"fill_color\":{\"value\":\"#1f77b4\"},\"height\":{\"value\":0.3},\"line_alpha\":{\"value\":0.1},\"line_color\":{\"value\":\"#1f77b4\"},\"right\":{\"field\":\"right\"},\"y\":{\"field\":\"y\"}},\"id\":\"3523\",\"type\":\"HBar\"},{\"attributes\":{\"grid_line_color\":{\"value\":null},\"plot\":{\"id\":\"3306\",\"subtype\":\"Figure\",\"type\":\"Plot\"},\"ticker\":{\"id\":\"3317\",\"type\":\"BasicTicker\"}},\"id\":\"3320\",\"type\":\"Grid\"}],\"root_ids\":[\"3306\"]},\"title\":\"Bokeh Application\",\"version\":\"1.0.4\"}};\n",
              "  var render_items = [{\"docid\":\"bb3cacb9-e917-4b9e-a1f4-070854922cd8\",\"roots\":{\"3306\":\"a73f68d4-66e9-4b44-8374-ea9c1a67cb45\"}}];\n",
              "  root.Bokeh.embed.embed_items_notebook(docs_json, render_items);\n",
              "\n",
              "  }\n",
              "  if (root.Bokeh !== undefined) {\n",
              "    embed_document(root);\n",
              "  } else {\n",
              "    var attempts = 0;\n",
              "    var timer = setInterval(function(root) {\n",
              "      if (root.Bokeh !== undefined) {\n",
              "        embed_document(root);\n",
              "        clearInterval(timer);\n",
              "      }\n",
              "      attempts++;\n",
              "      if (attempts > 100) {\n",
              "        console.log(\"Bokeh: ERROR: Unable to run BokehJS code because BokehJS library is missing\");\n",
              "        clearInterval(timer);\n",
              "      }\n",
              "    }, 10, root)\n",
              "  }\n",
              "})(window);"
            ],
            "application/vnd.bokehjs_exec.v0+json": ""
          },
          "metadata": {
            "tags": [],
            "application/vnd.bokehjs_exec.v0+json": {
              "id": "3306"
            }
          }
        }
      ]
    },
    {
      "cell_type": "code",
      "metadata": {
        "id": "ftSS8OPk2t8C",
        "colab_type": "code",
        "outputId": "7ac13a0d-b1ba-41b5-c8f7-0856830b5701",
        "colab": {
          "base_uri": "https://localhost:8080/",
          "height": 172
        }
      },
      "source": [
        "citation = Label(x=days4job.days, y=50,  y_units='screen',\n",
        "                 text_font_size=\"8pt\", text= \"Target: \"+schedule, render_mode='css', x_offset=5)\n",
        "\n",
        "p.add_layout(citation)\n",
        "\n",
        "output_notebook()\n",
        "show(p)"
      ],
      "execution_count": 119,
      "outputs": [
        {
          "output_type": "display_data",
          "data": {
            "text/html": [
              "\n",
              "    <div class=\"bk-root\">\n",
              "        <a href=\"https://bokeh.pydata.org\" target=\"_blank\" class=\"bk-logo bk-logo-small bk-logo-notebook\"></a>\n",
              "        <span id=\"4485\">Loading BokehJS ...</span>\n",
              "    </div>"
            ]
          },
          "metadata": {
            "tags": []
          }
        },
        {
          "output_type": "display_data",
          "data": {
            "application/javascript": [
              "\n",
              "(function(root) {\n",
              "  function now() {\n",
              "    return new Date();\n",
              "  }\n",
              "\n",
              "  var force = true;\n",
              "\n",
              "  if (typeof (root._bokeh_onload_callbacks) === \"undefined\" || force === true) {\n",
              "    root._bokeh_onload_callbacks = [];\n",
              "    root._bokeh_is_loading = undefined;\n",
              "  }\n",
              "\n",
              "  var JS_MIME_TYPE = 'application/javascript';\n",
              "  var HTML_MIME_TYPE = 'text/html';\n",
              "  var EXEC_MIME_TYPE = 'application/vnd.bokehjs_exec.v0+json';\n",
              "  var CLASS_NAME = 'output_bokeh rendered_html';\n",
              "\n",
              "  /**\n",
              "   * Render data to the DOM node\n",
              "   */\n",
              "  function render(props, node) {\n",
              "    var script = document.createElement(\"script\");\n",
              "    node.appendChild(script);\n",
              "  }\n",
              "\n",
              "  /**\n",
              "   * Handle when an output is cleared or removed\n",
              "   */\n",
              "  function handleClearOutput(event, handle) {\n",
              "    var cell = handle.cell;\n",
              "\n",
              "    var id = cell.output_area._bokeh_element_id;\n",
              "    var server_id = cell.output_area._bokeh_server_id;\n",
              "    // Clean up Bokeh references\n",
              "    if (id != null && id in Bokeh.index) {\n",
              "      Bokeh.index[id].model.document.clear();\n",
              "      delete Bokeh.index[id];\n",
              "    }\n",
              "\n",
              "    if (server_id !== undefined) {\n",
              "      // Clean up Bokeh references\n",
              "      var cmd = \"from bokeh.io.state import curstate; print(curstate().uuid_to_server['\" + server_id + \"'].get_sessions()[0].document.roots[0]._id)\";\n",
              "      cell.notebook.kernel.execute(cmd, {\n",
              "        iopub: {\n",
              "          output: function(msg) {\n",
              "            var id = msg.content.text.trim();\n",
              "            if (id in Bokeh.index) {\n",
              "              Bokeh.index[id].model.document.clear();\n",
              "              delete Bokeh.index[id];\n",
              "            }\n",
              "          }\n",
              "        }\n",
              "      });\n",
              "      // Destroy server and session\n",
              "      var cmd = \"import bokeh.io.notebook as ion; ion.destroy_server('\" + server_id + \"')\";\n",
              "      cell.notebook.kernel.execute(cmd);\n",
              "    }\n",
              "  }\n",
              "\n",
              "  /**\n",
              "   * Handle when a new output is added\n",
              "   */\n",
              "  function handleAddOutput(event, handle) {\n",
              "    var output_area = handle.output_area;\n",
              "    var output = handle.output;\n",
              "\n",
              "    // limit handleAddOutput to display_data with EXEC_MIME_TYPE content only\n",
              "    if ((output.output_type != \"display_data\") || (!output.data.hasOwnProperty(EXEC_MIME_TYPE))) {\n",
              "      return\n",
              "    }\n",
              "\n",
              "    var toinsert = output_area.element.find(\".\" + CLASS_NAME.split(' ')[0]);\n",
              "\n",
              "    if (output.metadata[EXEC_MIME_TYPE][\"id\"] !== undefined) {\n",
              "      toinsert[toinsert.length - 1].firstChild.textContent = output.data[JS_MIME_TYPE];\n",
              "      // store reference to embed id on output_area\n",
              "      output_area._bokeh_element_id = output.metadata[EXEC_MIME_TYPE][\"id\"];\n",
              "    }\n",
              "    if (output.metadata[EXEC_MIME_TYPE][\"server_id\"] !== undefined) {\n",
              "      var bk_div = document.createElement(\"div\");\n",
              "      bk_div.innerHTML = output.data[HTML_MIME_TYPE];\n",
              "      var script_attrs = bk_div.children[0].attributes;\n",
              "      for (var i = 0; i < script_attrs.length; i++) {\n",
              "        toinsert[toinsert.length - 1].firstChild.setAttribute(script_attrs[i].name, script_attrs[i].value);\n",
              "      }\n",
              "      // store reference to server id on output_area\n",
              "      output_area._bokeh_server_id = output.metadata[EXEC_MIME_TYPE][\"server_id\"];\n",
              "    }\n",
              "  }\n",
              "\n",
              "  function register_renderer(events, OutputArea) {\n",
              "\n",
              "    function append_mime(data, metadata, element) {\n",
              "      // create a DOM node to render to\n",
              "      var toinsert = this.create_output_subarea(\n",
              "        metadata,\n",
              "        CLASS_NAME,\n",
              "        EXEC_MIME_TYPE\n",
              "      );\n",
              "      this.keyboard_manager.register_events(toinsert);\n",
              "      // Render to node\n",
              "      var props = {data: data, metadata: metadata[EXEC_MIME_TYPE]};\n",
              "      render(props, toinsert[toinsert.length - 1]);\n",
              "      element.append(toinsert);\n",
              "      return toinsert\n",
              "    }\n",
              "\n",
              "    /* Handle when an output is cleared or removed */\n",
              "    events.on('clear_output.CodeCell', handleClearOutput);\n",
              "    events.on('delete.Cell', handleClearOutput);\n",
              "\n",
              "    /* Handle when a new output is added */\n",
              "    events.on('output_added.OutputArea', handleAddOutput);\n",
              "\n",
              "    /**\n",
              "     * Register the mime type and append_mime function with output_area\n",
              "     */\n",
              "    OutputArea.prototype.register_mime_type(EXEC_MIME_TYPE, append_mime, {\n",
              "      /* Is output safe? */\n",
              "      safe: true,\n",
              "      /* Index of renderer in `output_area.display_order` */\n",
              "      index: 0\n",
              "    });\n",
              "  }\n",
              "\n",
              "  // register the mime type if in Jupyter Notebook environment and previously unregistered\n",
              "  if (root.Jupyter !== undefined) {\n",
              "    var events = require('base/js/events');\n",
              "    var OutputArea = require('notebook/js/outputarea').OutputArea;\n",
              "\n",
              "    if (OutputArea.prototype.mime_types().indexOf(EXEC_MIME_TYPE) == -1) {\n",
              "      register_renderer(events, OutputArea);\n",
              "    }\n",
              "  }\n",
              "\n",
              "  \n",
              "  if (typeof (root._bokeh_timeout) === \"undefined\" || force === true) {\n",
              "    root._bokeh_timeout = Date.now() + 5000;\n",
              "    root._bokeh_failed_load = false;\n",
              "  }\n",
              "\n",
              "  var NB_LOAD_WARNING = {'data': {'text/html':\n",
              "     \"<div style='background-color: #fdd'>\\n\"+\n",
              "     \"<p>\\n\"+\n",
              "     \"BokehJS does not appear to have successfully loaded. If loading BokehJS from CDN, this \\n\"+\n",
              "     \"may be due to a slow or bad network connection. Possible fixes:\\n\"+\n",
              "     \"</p>\\n\"+\n",
              "     \"<ul>\\n\"+\n",
              "     \"<li>re-rerun `output_notebook()` to attempt to load from CDN again, or</li>\\n\"+\n",
              "     \"<li>use INLINE resources instead, as so:</li>\\n\"+\n",
              "     \"</ul>\\n\"+\n",
              "     \"<code>\\n\"+\n",
              "     \"from bokeh.resources import INLINE\\n\"+\n",
              "     \"output_notebook(resources=INLINE)\\n\"+\n",
              "     \"</code>\\n\"+\n",
              "     \"</div>\"}};\n",
              "\n",
              "  function display_loaded() {\n",
              "    var el = document.getElementById(\"4485\");\n",
              "    if (el != null) {\n",
              "      el.textContent = \"BokehJS is loading...\";\n",
              "    }\n",
              "    if (root.Bokeh !== undefined) {\n",
              "      if (el != null) {\n",
              "        el.textContent = \"BokehJS \" + root.Bokeh.version + \" successfully loaded.\";\n",
              "      }\n",
              "    } else if (Date.now() < root._bokeh_timeout) {\n",
              "      setTimeout(display_loaded, 100)\n",
              "    }\n",
              "  }\n",
              "\n",
              "\n",
              "  function run_callbacks() {\n",
              "    try {\n",
              "      root._bokeh_onload_callbacks.forEach(function(callback) { callback() });\n",
              "    }\n",
              "    finally {\n",
              "      delete root._bokeh_onload_callbacks\n",
              "    }\n",
              "    console.info(\"Bokeh: all callbacks have finished\");\n",
              "  }\n",
              "\n",
              "  function load_libs(js_urls, callback) {\n",
              "    root._bokeh_onload_callbacks.push(callback);\n",
              "    if (root._bokeh_is_loading > 0) {\n",
              "      console.log(\"Bokeh: BokehJS is being loaded, scheduling callback at\", now());\n",
              "      return null;\n",
              "    }\n",
              "    if (js_urls == null || js_urls.length === 0) {\n",
              "      run_callbacks();\n",
              "      return null;\n",
              "    }\n",
              "    console.log(\"Bokeh: BokehJS not loaded, scheduling load and callback at\", now());\n",
              "    root._bokeh_is_loading = js_urls.length;\n",
              "    for (var i = 0; i < js_urls.length; i++) {\n",
              "      var url = js_urls[i];\n",
              "      var s = document.createElement('script');\n",
              "      s.src = url;\n",
              "      s.async = false;\n",
              "      s.onreadystatechange = s.onload = function() {\n",
              "        root._bokeh_is_loading--;\n",
              "        if (root._bokeh_is_loading === 0) {\n",
              "          console.log(\"Bokeh: all BokehJS libraries loaded\");\n",
              "          run_callbacks()\n",
              "        }\n",
              "      };\n",
              "      s.onerror = function() {\n",
              "        console.warn(\"failed to load library \" + url);\n",
              "      };\n",
              "      console.log(\"Bokeh: injecting script tag for BokehJS library: \", url);\n",
              "      document.getElementsByTagName(\"head\")[0].appendChild(s);\n",
              "    }\n",
              "  };var element = document.getElementById(\"4485\");\n",
              "  if (element == null) {\n",
              "    console.log(\"Bokeh: ERROR: autoload.js configured with elementid '4485' but no matching script tag was found. \")\n",
              "    return false;\n",
              "  }\n",
              "\n",
              "  var js_urls = [\"https://cdn.pydata.org/bokeh/release/bokeh-1.0.4.min.js\", \"https://cdn.pydata.org/bokeh/release/bokeh-widgets-1.0.4.min.js\", \"https://cdn.pydata.org/bokeh/release/bokeh-tables-1.0.4.min.js\", \"https://cdn.pydata.org/bokeh/release/bokeh-gl-1.0.4.min.js\"];\n",
              "\n",
              "  var inline_js = [\n",
              "    function(Bokeh) {\n",
              "      Bokeh.set_log_level(\"info\");\n",
              "    },\n",
              "    \n",
              "    function(Bokeh) {\n",
              "      \n",
              "    },\n",
              "    function(Bokeh) {\n",
              "      console.log(\"Bokeh: injecting CSS: https://cdn.pydata.org/bokeh/release/bokeh-1.0.4.min.css\");\n",
              "      Bokeh.embed.inject_css(\"https://cdn.pydata.org/bokeh/release/bokeh-1.0.4.min.css\");\n",
              "      console.log(\"Bokeh: injecting CSS: https://cdn.pydata.org/bokeh/release/bokeh-widgets-1.0.4.min.css\");\n",
              "      Bokeh.embed.inject_css(\"https://cdn.pydata.org/bokeh/release/bokeh-widgets-1.0.4.min.css\");\n",
              "      console.log(\"Bokeh: injecting CSS: https://cdn.pydata.org/bokeh/release/bokeh-tables-1.0.4.min.css\");\n",
              "      Bokeh.embed.inject_css(\"https://cdn.pydata.org/bokeh/release/bokeh-tables-1.0.4.min.css\");\n",
              "    }\n",
              "  ];\n",
              "\n",
              "  function run_inline_js() {\n",
              "    \n",
              "    if ((root.Bokeh !== undefined) || (force === true)) {\n",
              "      for (var i = 0; i < inline_js.length; i++) {\n",
              "        inline_js[i].call(root, root.Bokeh);\n",
              "      }if (force === true) {\n",
              "        display_loaded();\n",
              "      }} else if (Date.now() < root._bokeh_timeout) {\n",
              "      setTimeout(run_inline_js, 100);\n",
              "    } else if (!root._bokeh_failed_load) {\n",
              "      console.log(\"Bokeh: BokehJS failed to load within specified timeout.\");\n",
              "      root._bokeh_failed_load = true;\n",
              "    } else if (force !== true) {\n",
              "      var cell = $(document.getElementById(\"4485\")).parents('.cell').data().cell;\n",
              "      cell.output_area.append_execute_result(NB_LOAD_WARNING)\n",
              "    }\n",
              "\n",
              "  }\n",
              "\n",
              "  if (root._bokeh_is_loading === 0) {\n",
              "    console.log(\"Bokeh: BokehJS loaded, going straight to plotting\");\n",
              "    run_inline_js();\n",
              "  } else {\n",
              "    load_libs(js_urls, function() {\n",
              "      console.log(\"Bokeh: BokehJS plotting callback run at\", now());\n",
              "      run_inline_js();\n",
              "    });\n",
              "  }\n",
              "}(window));"
            ],
            "application/vnd.bokehjs_load.v0+json": "\n(function(root) {\n  function now() {\n    return new Date();\n  }\n\n  var force = true;\n\n  if (typeof (root._bokeh_onload_callbacks) === \"undefined\" || force === true) {\n    root._bokeh_onload_callbacks = [];\n    root._bokeh_is_loading = undefined;\n  }\n\n  \n\n  \n  if (typeof (root._bokeh_timeout) === \"undefined\" || force === true) {\n    root._bokeh_timeout = Date.now() + 5000;\n    root._bokeh_failed_load = false;\n  }\n\n  var NB_LOAD_WARNING = {'data': {'text/html':\n     \"<div style='background-color: #fdd'>\\n\"+\n     \"<p>\\n\"+\n     \"BokehJS does not appear to have successfully loaded. If loading BokehJS from CDN, this \\n\"+\n     \"may be due to a slow or bad network connection. Possible fixes:\\n\"+\n     \"</p>\\n\"+\n     \"<ul>\\n\"+\n     \"<li>re-rerun `output_notebook()` to attempt to load from CDN again, or</li>\\n\"+\n     \"<li>use INLINE resources instead, as so:</li>\\n\"+\n     \"</ul>\\n\"+\n     \"<code>\\n\"+\n     \"from bokeh.resources import INLINE\\n\"+\n     \"output_notebook(resources=INLINE)\\n\"+\n     \"</code>\\n\"+\n     \"</div>\"}};\n\n  function display_loaded() {\n    var el = document.getElementById(\"4485\");\n    if (el != null) {\n      el.textContent = \"BokehJS is loading...\";\n    }\n    if (root.Bokeh !== undefined) {\n      if (el != null) {\n        el.textContent = \"BokehJS \" + root.Bokeh.version + \" successfully loaded.\";\n      }\n    } else if (Date.now() < root._bokeh_timeout) {\n      setTimeout(display_loaded, 100)\n    }\n  }\n\n\n  function run_callbacks() {\n    try {\n      root._bokeh_onload_callbacks.forEach(function(callback) { callback() });\n    }\n    finally {\n      delete root._bokeh_onload_callbacks\n    }\n    console.info(\"Bokeh: all callbacks have finished\");\n  }\n\n  function load_libs(js_urls, callback) {\n    root._bokeh_onload_callbacks.push(callback);\n    if (root._bokeh_is_loading > 0) {\n      console.log(\"Bokeh: BokehJS is being loaded, scheduling callback at\", now());\n      return null;\n    }\n    if (js_urls == null || js_urls.length === 0) {\n      run_callbacks();\n      return null;\n    }\n    console.log(\"Bokeh: BokehJS not loaded, scheduling load and callback at\", now());\n    root._bokeh_is_loading = js_urls.length;\n    for (var i = 0; i < js_urls.length; i++) {\n      var url = js_urls[i];\n      var s = document.createElement('script');\n      s.src = url;\n      s.async = false;\n      s.onreadystatechange = s.onload = function() {\n        root._bokeh_is_loading--;\n        if (root._bokeh_is_loading === 0) {\n          console.log(\"Bokeh: all BokehJS libraries loaded\");\n          run_callbacks()\n        }\n      };\n      s.onerror = function() {\n        console.warn(\"failed to load library \" + url);\n      };\n      console.log(\"Bokeh: injecting script tag for BokehJS library: \", url);\n      document.getElementsByTagName(\"head\")[0].appendChild(s);\n    }\n  };var element = document.getElementById(\"4485\");\n  if (element == null) {\n    console.log(\"Bokeh: ERROR: autoload.js configured with elementid '4485' but no matching script tag was found. \")\n    return false;\n  }\n\n  var js_urls = [\"https://cdn.pydata.org/bokeh/release/bokeh-1.0.4.min.js\", \"https://cdn.pydata.org/bokeh/release/bokeh-widgets-1.0.4.min.js\", \"https://cdn.pydata.org/bokeh/release/bokeh-tables-1.0.4.min.js\", \"https://cdn.pydata.org/bokeh/release/bokeh-gl-1.0.4.min.js\"];\n\n  var inline_js = [\n    function(Bokeh) {\n      Bokeh.set_log_level(\"info\");\n    },\n    \n    function(Bokeh) {\n      \n    },\n    function(Bokeh) {\n      console.log(\"Bokeh: injecting CSS: https://cdn.pydata.org/bokeh/release/bokeh-1.0.4.min.css\");\n      Bokeh.embed.inject_css(\"https://cdn.pydata.org/bokeh/release/bokeh-1.0.4.min.css\");\n      console.log(\"Bokeh: injecting CSS: https://cdn.pydata.org/bokeh/release/bokeh-widgets-1.0.4.min.css\");\n      Bokeh.embed.inject_css(\"https://cdn.pydata.org/bokeh/release/bokeh-widgets-1.0.4.min.css\");\n      console.log(\"Bokeh: injecting CSS: https://cdn.pydata.org/bokeh/release/bokeh-tables-1.0.4.min.css\");\n      Bokeh.embed.inject_css(\"https://cdn.pydata.org/bokeh/release/bokeh-tables-1.0.4.min.css\");\n    }\n  ];\n\n  function run_inline_js() {\n    \n    if ((root.Bokeh !== undefined) || (force === true)) {\n      for (var i = 0; i < inline_js.length; i++) {\n        inline_js[i].call(root, root.Bokeh);\n      }if (force === true) {\n        display_loaded();\n      }} else if (Date.now() < root._bokeh_timeout) {\n      setTimeout(run_inline_js, 100);\n    } else if (!root._bokeh_failed_load) {\n      console.log(\"Bokeh: BokehJS failed to load within specified timeout.\");\n      root._bokeh_failed_load = true;\n    } else if (force !== true) {\n      var cell = $(document.getElementById(\"4485\")).parents('.cell').data().cell;\n      cell.output_area.append_execute_result(NB_LOAD_WARNING)\n    }\n\n  }\n\n  if (root._bokeh_is_loading === 0) {\n    console.log(\"Bokeh: BokehJS loaded, going straight to plotting\");\n    run_inline_js();\n  } else {\n    load_libs(js_urls, function() {\n      console.log(\"Bokeh: BokehJS plotting callback run at\", now());\n      run_inline_js();\n    });\n  }\n}(window));"
          },
          "metadata": {
            "tags": []
          }
        },
        {
          "output_type": "display_data",
          "data": {
            "text/html": [
              "\n",
              "\n",
              "\n",
              "\n",
              "\n",
              "\n",
              "  <div class=\"bk-root\" id=\"6b868cc5-2cea-4197-b018-6f04836056eb\" data-root-id=\"3306\"></div>\n"
            ]
          },
          "metadata": {
            "tags": []
          }
        },
        {
          "output_type": "display_data",
          "data": {
            "application/javascript": [
              "(function(root) {\n",
              "  function embed_document(root) {\n",
              "    \n",
              "  var docs_json = {\"5cd35b4f-2c8e-4918-bd99-d3ae6fb7473d\":{\"roots\":{\"references\":[{\"attributes\":{\"below\":[{\"id\":\"3316\",\"type\":\"LinearAxis\"}],\"left\":[{\"id\":\"3321\",\"type\":\"CategoricalAxis\"}],\"plot_height\":125,\"plot_width\":700,\"renderers\":[{\"id\":\"3316\",\"type\":\"LinearAxis\"},{\"id\":\"3320\",\"type\":\"Grid\"},{\"id\":\"3321\",\"type\":\"CategoricalAxis\"},{\"id\":\"3324\",\"type\":\"Grid\"},{\"id\":\"3333\",\"type\":\"BoxAnnotation\"},{\"id\":\"3344\",\"type\":\"GlyphRenderer\"},{\"id\":\"3349\",\"type\":\"GlyphRenderer\"},{\"id\":\"3354\",\"type\":\"GlyphRenderer\"},{\"id\":\"3524\",\"type\":\"GlyphRenderer\"},{\"id\":\"3708\",\"type\":\"GlyphRenderer\"},{\"id\":\"3903\",\"type\":\"Label\"},{\"id\":\"4000\",\"type\":\"Label\"},{\"id\":\"4097\",\"type\":\"Label\"},{\"id\":\"4194\",\"type\":\"Label\"},{\"id\":\"4388\",\"type\":\"Label\"}],\"title\":{\"id\":\"3305\",\"type\":\"Title\"},\"toolbar\":{\"id\":\"3331\",\"type\":\"Toolbar\"},\"toolbar_location\":null,\"x_range\":{\"id\":\"3308\",\"type\":\"DataRange1d\"},\"x_scale\":{\"id\":\"3312\",\"type\":\"LinearScale\"},\"y_range\":{\"id\":\"3310\",\"type\":\"FactorRange\"},\"y_scale\":{\"id\":\"3314\",\"type\":\"CategoricalScale\"}},\"id\":\"3306\",\"subtype\":\"Figure\",\"type\":\"Plot\"},{\"attributes\":{\"plot\":{\"id\":\"3306\",\"subtype\":\"Figure\",\"type\":\"Plot\"},\"text\":\"Late\",\"text_color\":{\"value\":\"black\"},\"text_font_size\":{\"value\":\"10pt\"},\"x\":9,\"x_offset\":15,\"y\":0,\"y_offset\":5},\"id\":\"4000\",\"type\":\"Label\"},{\"attributes\":{\"plot\":null,\"text\":\"188.89% Day 17 on a 9 day project: 8 days past due\"},\"id\":\"3305\",\"type\":\"Title\"},{\"attributes\":{\"data_source\":{\"id\":\"3521\",\"type\":\"ColumnDataSource\"},\"glyph\":{\"id\":\"3522\",\"type\":\"HBar\"},\"hover_glyph\":null,\"muted_glyph\":null,\"nonselection_glyph\":{\"id\":\"3523\",\"type\":\"HBar\"},\"selection_glyph\":null,\"view\":{\"id\":\"3525\",\"type\":\"CDSView\"}},\"id\":\"3524\",\"type\":\"GlyphRenderer\"},{\"attributes\":{},\"id\":\"3330\",\"type\":\"HelpTool\"},{\"attributes\":{},\"id\":\"3444\",\"type\":\"Selection\"},{\"attributes\":{\"bottom_units\":\"screen\",\"fill_alpha\":{\"value\":0.5},\"fill_color\":{\"value\":\"lightgrey\"},\"left_units\":\"screen\",\"level\":\"overlay\",\"line_alpha\":{\"value\":1.0},\"line_color\":{\"value\":\"black\"},\"line_dash\":[4,4],\"line_width\":{\"value\":2},\"plot\":null,\"render_mode\":\"css\",\"right_units\":\"screen\",\"top_units\":\"screen\"},\"id\":\"3333\",\"type\":\"BoxAnnotation\"},{\"attributes\":{\"source\":{\"id\":\"3341\",\"type\":\"ColumnDataSource\"}},\"id\":\"3345\",\"type\":\"CDSView\"},{\"attributes\":{\"callback\":null,\"range_padding\":0},\"id\":\"3308\",\"type\":\"DataRange1d\"},{\"attributes\":{\"data_source\":{\"id\":\"3341\",\"type\":\"ColumnDataSource\"},\"glyph\":{\"id\":\"3342\",\"type\":\"HBar\"},\"hover_glyph\":null,\"muted_glyph\":null,\"nonselection_glyph\":{\"id\":\"3343\",\"type\":\"HBar\"},\"selection_glyph\":null,\"view\":{\"id\":\"3345\",\"type\":\"CDSView\"}},\"id\":\"3344\",\"type\":\"GlyphRenderer\"},{\"attributes\":{},\"id\":\"3329\",\"type\":\"ResetTool\"},{\"attributes\":{\"fill_alpha\":{\"value\":0.1},\"fill_color\":{\"value\":\"#1f77b4\"},\"height\":{\"value\":0.8},\"line_alpha\":{\"value\":0.1},\"line_color\":{\"value\":\"#1f77b4\"},\"right\":{\"value\":9},\"y\":{\"field\":\"y\"}},\"id\":\"3343\",\"type\":\"HBar\"},{\"attributes\":{},\"id\":\"3326\",\"type\":\"WheelZoomTool\"},{\"attributes\":{\"overlay\":{\"id\":\"3333\",\"type\":\"BoxAnnotation\"}},\"id\":\"3327\",\"type\":\"BoxZoomTool\"},{\"attributes\":{\"callback\":null,\"data\":{\"right\":[17],\"y\":[\"ABC_CPU_Motherboard\"]},\"selected\":{\"id\":\"3619\",\"type\":\"Selection\"},\"selection_policy\":{\"id\":\"3618\",\"type\":\"UnionRenderers\"}},\"id\":\"3521\",\"type\":\"ColumnDataSource\"},{\"attributes\":{\"fill_color\":{\"value\":\"#bdc9e1\"},\"height\":{\"value\":0.8},\"left\":{\"value\":9},\"line_color\":{\"value\":\"#bdc9e1\"},\"right\":{\"value\":18},\"y\":{\"field\":\"y\"}},\"id\":\"3347\",\"type\":\"HBar\"},{\"attributes\":{\"line_color\":{\"value\":\"Green\"},\"line_width\":{\"value\":2},\"x0\":{\"field\":\"x0\"},\"x1\":{\"field\":\"x1\"},\"y0\":{\"field\":\"y0\"},\"y1\":{\"field\":\"y1\"}},\"id\":\"3706\",\"type\":\"Segment\"},{\"attributes\":{},\"id\":\"3445\",\"type\":\"UnionRenderers\"},{\"attributes\":{},\"id\":\"3804\",\"type\":\"UnionRenderers\"},{\"attributes\":{\"num_minor_ticks\":0},\"id\":\"3317\",\"type\":\"BasicTicker\"},{\"attributes\":{\"callback\":null,\"data\":{\"y\":[\"ABC_CPU_Motherboard\"]},\"selected\":{\"id\":\"3446\",\"type\":\"Selection\"},\"selection_policy\":{\"id\":\"3445\",\"type\":\"UnionRenderers\"}},\"id\":\"3346\",\"type\":\"ColumnDataSource\"},{\"attributes\":{\"source\":{\"id\":\"3346\",\"type\":\"ColumnDataSource\"}},\"id\":\"3350\",\"type\":\"CDSView\"},{\"attributes\":{\"source\":{\"id\":\"3705\",\"type\":\"ColumnDataSource\"}},\"id\":\"3709\",\"type\":\"CDSView\"},{\"attributes\":{},\"id\":\"3448\",\"type\":\"Selection\"},{\"attributes\":{\"data_source\":{\"id\":\"3346\",\"type\":\"ColumnDataSource\"},\"glyph\":{\"id\":\"3347\",\"type\":\"HBar\"},\"hover_glyph\":null,\"muted_glyph\":null,\"nonselection_glyph\":{\"id\":\"3348\",\"type\":\"HBar\"},\"selection_glyph\":null,\"view\":{\"id\":\"3350\",\"type\":\"CDSView\"}},\"id\":\"3349\",\"type\":\"GlyphRenderer\"},{\"attributes\":{\"fill_alpha\":{\"value\":0.1},\"fill_color\":{\"value\":\"#1f77b4\"},\"height\":{\"value\":0.8},\"left\":{\"value\":18},\"line_alpha\":{\"value\":0.1},\"line_color\":{\"value\":\"#1f77b4\"},\"right\":{\"value\":27},\"y\":{\"field\":\"y\"}},\"id\":\"3353\",\"type\":\"HBar\"},{\"attributes\":{\"source\":{\"id\":\"3521\",\"type\":\"ColumnDataSource\"}},\"id\":\"3525\",\"type\":\"CDSView\"},{\"attributes\":{},\"id\":\"3618\",\"type\":\"UnionRenderers\"},{\"attributes\":{\"height\":{\"value\":0.3},\"line_color\":{\"value\":\"gray\"},\"right\":{\"field\":\"right\"},\"y\":{\"field\":\"y\"}},\"id\":\"3522\",\"type\":\"HBar\"},{\"attributes\":{},\"id\":\"3805\",\"type\":\"Selection\"},{\"attributes\":{},\"id\":\"3447\",\"type\":\"UnionRenderers\"},{\"attributes\":{\"fill_color\":{\"value\":\"#74a9cf\"},\"height\":{\"value\":0.8},\"left\":{\"value\":18},\"line_color\":{\"value\":\"#74a9cf\"},\"right\":{\"value\":27},\"y\":{\"field\":\"y\"}},\"id\":\"3352\",\"type\":\"HBar\"},{\"attributes\":{\"line_alpha\":{\"value\":0.1},\"line_color\":{\"value\":\"#1f77b4\"},\"line_width\":{\"value\":2},\"x0\":{\"field\":\"x0\"},\"x1\":{\"field\":\"x1\"},\"y0\":{\"field\":\"y0\"},\"y1\":{\"field\":\"y1\"}},\"id\":\"3707\",\"type\":\"Segment\"},{\"attributes\":{\"plot\":{\"id\":\"3306\",\"subtype\":\"Figure\",\"type\":\"Plot\"},\"text\":\"Very Late\",\"text_color\":{\"value\":\"black\"},\"text_font_size\":{\"value\":\"10pt\"},\"x\":18,\"x_offset\":15,\"y\":0,\"y_offset\":5},\"id\":\"4097\",\"type\":\"Label\"},{\"attributes\":{},\"id\":\"3439\",\"type\":\"CategoricalTickFormatter\"},{\"attributes\":{\"plot\":{\"id\":\"3306\",\"subtype\":\"Figure\",\"type\":\"Plot\"},\"text\":\"Very Late\",\"text_color\":{\"value\":\"black\"},\"text_font_size\":{\"value\":\"10pt\"},\"x\":18,\"x_offset\":15,\"y\":0,\"y_offset\":5},\"id\":\"4194\",\"type\":\"Label\"},{\"attributes\":{},\"id\":\"3443\",\"type\":\"UnionRenderers\"},{\"attributes\":{},\"id\":\"3325\",\"type\":\"PanTool\"},{\"attributes\":{\"data_source\":{\"id\":\"3351\",\"type\":\"ColumnDataSource\"},\"glyph\":{\"id\":\"3352\",\"type\":\"HBar\"},\"hover_glyph\":null,\"muted_glyph\":null,\"nonselection_glyph\":{\"id\":\"3353\",\"type\":\"HBar\"},\"selection_glyph\":null,\"view\":{\"id\":\"3355\",\"type\":\"CDSView\"}},\"id\":\"3354\",\"type\":\"GlyphRenderer\"},{\"attributes\":{},\"id\":\"3328\",\"type\":\"SaveTool\"},{\"attributes\":{\"fill_color\":{\"value\":\"#f1eef6\"},\"height\":{\"value\":0.8},\"line_color\":{\"value\":\"#f1eef6\"},\"right\":{\"value\":9},\"y\":{\"field\":\"y\"}},\"id\":\"3342\",\"type\":\"HBar\"},{\"attributes\":{\"source\":{\"id\":\"3351\",\"type\":\"ColumnDataSource\"}},\"id\":\"3355\",\"type\":\"CDSView\"},{\"attributes\":{},\"id\":\"3314\",\"type\":\"CategoricalScale\"},{\"attributes\":{\"callback\":null,\"data\":{\"x0\":[9],\"x1\":[9],\"y0\":[[\"ABC_CPU_Motherboard\",-0.5]],\"y1\":[[\"ABC_CPU_Motherboard\",0.5]]},\"selected\":{\"id\":\"3805\",\"type\":\"Selection\"},\"selection_policy\":{\"id\":\"3804\",\"type\":\"UnionRenderers\"}},\"id\":\"3705\",\"type\":\"ColumnDataSource\"},{\"attributes\":{\"formatter\":{\"id\":\"3439\",\"type\":\"CategoricalTickFormatter\"},\"plot\":{\"id\":\"3306\",\"subtype\":\"Figure\",\"type\":\"Plot\"},\"ticker\":{\"id\":\"3322\",\"type\":\"CategoricalTicker\"}},\"id\":\"3321\",\"type\":\"CategoricalAxis\"},{\"attributes\":{\"plot\":{\"id\":\"3306\",\"subtype\":\"Figure\",\"type\":\"Plot\"},\"render_mode\":\"css\",\"text\":\"Target: 2017-01-10\",\"text_font_size\":{\"value\":\"8pt\"},\"x\":9,\"x_offset\":5,\"y\":50,\"y_units\":\"screen\"},\"id\":\"4388\",\"type\":\"Label\"},{\"attributes\":{},\"id\":\"3619\",\"type\":\"Selection\"},{\"attributes\":{\"callback\":null,\"data\":{\"y\":[\"ABC_CPU_Motherboard\"]},\"selected\":{\"id\":\"3448\",\"type\":\"Selection\"},\"selection_policy\":{\"id\":\"3447\",\"type\":\"UnionRenderers\"}},\"id\":\"3351\",\"type\":\"ColumnDataSource\"},{\"attributes\":{},\"id\":\"3322\",\"type\":\"CategoricalTicker\"},{\"attributes\":{},\"id\":\"3446\",\"type\":\"Selection\"},{\"attributes\":{\"callback\":null,\"factors\":[\"ABC_CPU_Motherboard\"]},\"id\":\"3310\",\"type\":\"FactorRange\"},{\"attributes\":{\"data_source\":{\"id\":\"3705\",\"type\":\"ColumnDataSource\"},\"glyph\":{\"id\":\"3706\",\"type\":\"Segment\"},\"hover_glyph\":null,\"muted_glyph\":null,\"nonselection_glyph\":{\"id\":\"3707\",\"type\":\"Segment\"},\"selection_glyph\":null,\"view\":{\"id\":\"3709\",\"type\":\"CDSView\"}},\"id\":\"3708\",\"type\":\"GlyphRenderer\"},{\"attributes\":{},\"id\":\"3312\",\"type\":\"LinearScale\"},{\"attributes\":{\"plot\":{\"id\":\"3306\",\"subtype\":\"Figure\",\"type\":\"Plot\"},\"text\":\"OK\",\"text_color\":{\"value\":\"black\"},\"text_font_size\":{\"value\":\"10pt\"},\"x\":0,\"x_offset\":15,\"y\":0,\"y_offset\":5},\"id\":\"3903\",\"type\":\"Label\"},{\"attributes\":{\"formatter\":{\"id\":\"3441\",\"type\":\"BasicTickFormatter\"},\"plot\":{\"id\":\"3306\",\"subtype\":\"Figure\",\"type\":\"Plot\"},\"ticker\":{\"id\":\"3317\",\"type\":\"BasicTicker\"}},\"id\":\"3316\",\"type\":\"LinearAxis\"},{\"attributes\":{\"callback\":null,\"data\":{\"y\":[\"ABC_CPU_Motherboard\"]},\"selected\":{\"id\":\"3444\",\"type\":\"Selection\"},\"selection_policy\":{\"id\":\"3443\",\"type\":\"UnionRenderers\"}},\"id\":\"3341\",\"type\":\"ColumnDataSource\"},{\"attributes\":{},\"id\":\"3441\",\"type\":\"BasicTickFormatter\"},{\"attributes\":{\"dimension\":1,\"grid_line_color\":{\"value\":null},\"plot\":{\"id\":\"3306\",\"subtype\":\"Figure\",\"type\":\"Plot\"},\"ticker\":{\"id\":\"3322\",\"type\":\"CategoricalTicker\"}},\"id\":\"3324\",\"type\":\"Grid\"},{\"attributes\":{\"fill_alpha\":{\"value\":0.1},\"fill_color\":{\"value\":\"#1f77b4\"},\"height\":{\"value\":0.8},\"left\":{\"value\":9},\"line_alpha\":{\"value\":0.1},\"line_color\":{\"value\":\"#1f77b4\"},\"right\":{\"value\":18},\"y\":{\"field\":\"y\"}},\"id\":\"3348\",\"type\":\"HBar\"},{\"attributes\":{\"active_drag\":\"auto\",\"active_inspect\":\"auto\",\"active_multi\":null,\"active_scroll\":\"auto\",\"active_tap\":\"auto\",\"tools\":[{\"id\":\"3325\",\"type\":\"PanTool\"},{\"id\":\"3326\",\"type\":\"WheelZoomTool\"},{\"id\":\"3327\",\"type\":\"BoxZoomTool\"},{\"id\":\"3328\",\"type\":\"SaveTool\"},{\"id\":\"3329\",\"type\":\"ResetTool\"},{\"id\":\"3330\",\"type\":\"HelpTool\"}]},\"id\":\"3331\",\"type\":\"Toolbar\"},{\"attributes\":{\"fill_alpha\":{\"value\":0.1},\"fill_color\":{\"value\":\"#1f77b4\"},\"height\":{\"value\":0.3},\"line_alpha\":{\"value\":0.1},\"line_color\":{\"value\":\"#1f77b4\"},\"right\":{\"field\":\"right\"},\"y\":{\"field\":\"y\"}},\"id\":\"3523\",\"type\":\"HBar\"},{\"attributes\":{\"grid_line_color\":{\"value\":null},\"plot\":{\"id\":\"3306\",\"subtype\":\"Figure\",\"type\":\"Plot\"},\"ticker\":{\"id\":\"3317\",\"type\":\"BasicTicker\"}},\"id\":\"3320\",\"type\":\"Grid\"}],\"root_ids\":[\"3306\"]},\"title\":\"Bokeh Application\",\"version\":\"1.0.4\"}};\n",
              "  var render_items = [{\"docid\":\"5cd35b4f-2c8e-4918-bd99-d3ae6fb7473d\",\"roots\":{\"3306\":\"6b868cc5-2cea-4197-b018-6f04836056eb\"}}];\n",
              "  root.Bokeh.embed.embed_items_notebook(docs_json, render_items);\n",
              "\n",
              "  }\n",
              "  if (root.Bokeh !== undefined) {\n",
              "    embed_document(root);\n",
              "  } else {\n",
              "    var attempts = 0;\n",
              "    var timer = setInterval(function(root) {\n",
              "      if (root.Bokeh !== undefined) {\n",
              "        embed_document(root);\n",
              "        clearInterval(timer);\n",
              "      }\n",
              "      attempts++;\n",
              "      if (attempts > 100) {\n",
              "        console.log(\"Bokeh: ERROR: Unable to run BokehJS code because BokehJS library is missing\");\n",
              "        clearInterval(timer);\n",
              "      }\n",
              "    }, 10, root)\n",
              "  }\n",
              "})(window);"
            ],
            "application/vnd.bokehjs_exec.v0+json": ""
          },
          "metadata": {
            "tags": [],
            "application/vnd.bokehjs_exec.v0+json": {
              "id": "3306"
            }
          }
        }
      ]
    },
    {
      "cell_type": "markdown",
      "metadata": {
        "id": "UTvk3mXAcV3y",
        "colab_type": "text"
      },
      "source": [
        "# - 9 -  Recipe: High infomation bullet graph for Budget"
      ]
    },
    {
      "cell_type": "markdown",
      "metadata": {
        "id": "LhS7-E-KksT-",
        "colab_type": "text"
      },
      "source": [
        "### Get the latest stats\n",
        "###To get the latest statistic from our dataframe we can use the index.max() function"
      ]
    },
    {
      "cell_type": "code",
      "metadata": {
        "id": "oX5FNVDuSiBb",
        "colab_type": "code",
        "outputId": "c42d3d8e-9568-4e17-ed48-52b20aad5493",
        "colab": {
          "base_uri": "https://localhost:8080/",
          "height": 34
        }
      },
      "source": [
        "df.index.max()"
      ],
      "execution_count": 120,
      "outputs": [
        {
          "output_type": "execute_result",
          "data": {
            "text/plain": [
              "Timestamp('2017-01-18 00:00:00')"
            ]
          },
          "metadata": {
            "tags": []
          },
          "execution_count": 120
        }
      ]
    },
    {
      "cell_type": "code",
      "metadata": {
        "id": "oO9R9ON2jixb",
        "colab_type": "code",
        "outputId": "ba95d24e-c90b-4328-e533-17982a9776b2",
        "colab": {
          "base_uri": "https://localhost:8080/",
          "height": 34
        }
      },
      "source": [
        "spend2date = df.loc[df.index.max(),'spend']\n",
        "print(spend2date)"
      ],
      "execution_count": 121,
      "outputs": [
        {
          "output_type": "stream",
          "text": [
            "14150.0\n"
          ],
          "name": "stdout"
        }
      ]
    },
    {
      "cell_type": "markdown",
      "metadata": {
        "id": "X2ttHwM_rav2",
        "colab_type": "text"
      },
      "source": [
        "Earlier we created a function- int2dollar    This function takes a number as input and returns a currency string. \n",
        "Let's test it out on the spend2dat variable we just created. Let's try it on the spend2date variable"
      ]
    },
    {
      "cell_type": "code",
      "metadata": {
        "id": "SbkxsmUFsB36",
        "colab_type": "code",
        "outputId": "2d02f7a9-726b-4852-9e67-a8f5fbdf4434",
        "colab": {
          "base_uri": "https://localhost:8080/",
          "height": 34
        }
      },
      "source": [
        "int2dollar(spend2date)"
      ],
      "execution_count": 122,
      "outputs": [
        {
          "output_type": "execute_result",
          "data": {
            "text/plain": [
              "'$14,150'"
            ]
          },
          "metadata": {
            "tags": []
          },
          "execution_count": 122
        }
      ]
    },
    {
      "cell_type": "markdown",
      "metadata": {
        "id": "klKIlRWafNUE",
        "colab_type": "text"
      },
      "source": [
        "## Setup base graphic  for spend bullet graph"
      ]
    },
    {
      "cell_type": "code",
      "metadata": {
        "id": "rG3OlbGTfbL0",
        "colab_type": "code",
        "outputId": "eddc0cdb-c93a-47a0-9c46-0ac9414c2eab",
        "colab": {
          "base_uri": "https://localhost:8080/",
          "height": 54
        }
      },
      "source": [
        "b_data = [(project_name, budget, spend2date)]\n",
        "b_limits = [0, budget, budget *2, budget *3]\n",
        "b_labels = [\"OK\", \"Over Budget\", \"Way Over Budget\"]\n",
        "b_cats = [x[0] for x in data]\n",
        "print(b_data, b_limits, b_labels, b_cats)"
      ],
      "execution_count": 123,
      "outputs": [
        {
          "output_type": "stream",
          "text": [
            "[('ABC_CPU_Motherboard', 9000, 14150.0)] [0, 9000, 18000, 27000] ['OK', 'Over Budget', 'Way Over Budget'] ['ABC_CPU_Motherboard']\n"
          ],
          "name": "stdout"
        }
      ]
    },
    {
      "cell_type": "code",
      "metadata": {
        "id": "4wjwmCxMgzl3",
        "colab_type": "code",
        "outputId": "90bb4a65-8762-4aee-ec00-c15c37484d7d",
        "colab": {
          "base_uri": "https://localhost:8080/",
          "height": 172
        }
      },
      "source": [
        "if budget > spend2date:\n",
        "  b_status = int2dollar(budget - spend2date)+\" budget remaining\"\n",
        "else:\n",
        "  b_status = int2dollar(spend2date - budget)+\" over target\"\n",
        "  \n",
        "              \n",
        "budget_pct = f'{spend2date/budget*100:.2f}' +\"% \"  \n",
        "\n",
        "bp=figure(\n",
        "    title=int2dollar(spend2date) +\" (\"+budget_pct+\") spent on a \"+int2dollar(budget)+\" budget target project: \"+b_status, \n",
        "    plot_height=125, \n",
        "    plot_width=700,  \n",
        "    y_range=b_cats,\n",
        "    toolbar_location=None,\n",
        ")\n",
        "bp.x_range.range_padding = 0\n",
        "bp.grid.grid_line_color = None\n",
        "bp.xaxis[0].ticker.num_minor_ticks = 0\n",
        "\n",
        "\n",
        "for left, right, color in zip(b_limits[:-1], b_limits[1:], PuBu4[::-1]):\n",
        "    bp.hbar(y=b_cats, left=left, right=right, height=0.8, color=color)\n",
        "    \n",
        "    \n",
        "b_perf = [x[2] for x in b_data]\n",
        "bp.hbar(y=b_cats, left=0, right=b_perf, height=0.3, color=\"gray\")\n",
        "\n",
        "b_comp = [x[1]for x in b_data]\n",
        "bp.segment(x0=b_comp, y0=[(x, -0.5) for x in b_cats], x1=b_comp,\n",
        "          y1=[(x, 0.5) for x in b_cats], color=\"Green\", line_width=2)\n",
        "\n",
        "for start, label in zip(b_limits[:-1], b_labels):\n",
        "    bp.add_layout(Label(x=start, y=0, text=label, text_font_size=\"10pt\",\n",
        "                       text_color='black', y_offset=5, x_offset=15))\n",
        "    \n",
        "    \n",
        "bp.add_layout(Label(x=start, y=0, text=label, text_font_size=\"10pt\",\n",
        "                       text_color='black', y_offset=5, x_offset=15)) \n",
        "    \n",
        "\n",
        "output_notebook()\n",
        "show(bp)"
      ],
      "execution_count": 124,
      "outputs": [
        {
          "output_type": "display_data",
          "data": {
            "text/html": [
              "\n",
              "    <div class=\"bk-root\">\n",
              "        <a href=\"https://bokeh.pydata.org\" target=\"_blank\" class=\"bk-logo bk-logo-small bk-logo-notebook\"></a>\n",
              "        <span id=\"4647\">Loading BokehJS ...</span>\n",
              "    </div>"
            ]
          },
          "metadata": {
            "tags": []
          }
        },
        {
          "output_type": "display_data",
          "data": {
            "application/javascript": [
              "\n",
              "(function(root) {\n",
              "  function now() {\n",
              "    return new Date();\n",
              "  }\n",
              "\n",
              "  var force = true;\n",
              "\n",
              "  if (typeof (root._bokeh_onload_callbacks) === \"undefined\" || force === true) {\n",
              "    root._bokeh_onload_callbacks = [];\n",
              "    root._bokeh_is_loading = undefined;\n",
              "  }\n",
              "\n",
              "  var JS_MIME_TYPE = 'application/javascript';\n",
              "  var HTML_MIME_TYPE = 'text/html';\n",
              "  var EXEC_MIME_TYPE = 'application/vnd.bokehjs_exec.v0+json';\n",
              "  var CLASS_NAME = 'output_bokeh rendered_html';\n",
              "\n",
              "  /**\n",
              "   * Render data to the DOM node\n",
              "   */\n",
              "  function render(props, node) {\n",
              "    var script = document.createElement(\"script\");\n",
              "    node.appendChild(script);\n",
              "  }\n",
              "\n",
              "  /**\n",
              "   * Handle when an output is cleared or removed\n",
              "   */\n",
              "  function handleClearOutput(event, handle) {\n",
              "    var cell = handle.cell;\n",
              "\n",
              "    var id = cell.output_area._bokeh_element_id;\n",
              "    var server_id = cell.output_area._bokeh_server_id;\n",
              "    // Clean up Bokeh references\n",
              "    if (id != null && id in Bokeh.index) {\n",
              "      Bokeh.index[id].model.document.clear();\n",
              "      delete Bokeh.index[id];\n",
              "    }\n",
              "\n",
              "    if (server_id !== undefined) {\n",
              "      // Clean up Bokeh references\n",
              "      var cmd = \"from bokeh.io.state import curstate; print(curstate().uuid_to_server['\" + server_id + \"'].get_sessions()[0].document.roots[0]._id)\";\n",
              "      cell.notebook.kernel.execute(cmd, {\n",
              "        iopub: {\n",
              "          output: function(msg) {\n",
              "            var id = msg.content.text.trim();\n",
              "            if (id in Bokeh.index) {\n",
              "              Bokeh.index[id].model.document.clear();\n",
              "              delete Bokeh.index[id];\n",
              "            }\n",
              "          }\n",
              "        }\n",
              "      });\n",
              "      // Destroy server and session\n",
              "      var cmd = \"import bokeh.io.notebook as ion; ion.destroy_server('\" + server_id + \"')\";\n",
              "      cell.notebook.kernel.execute(cmd);\n",
              "    }\n",
              "  }\n",
              "\n",
              "  /**\n",
              "   * Handle when a new output is added\n",
              "   */\n",
              "  function handleAddOutput(event, handle) {\n",
              "    var output_area = handle.output_area;\n",
              "    var output = handle.output;\n",
              "\n",
              "    // limit handleAddOutput to display_data with EXEC_MIME_TYPE content only\n",
              "    if ((output.output_type != \"display_data\") || (!output.data.hasOwnProperty(EXEC_MIME_TYPE))) {\n",
              "      return\n",
              "    }\n",
              "\n",
              "    var toinsert = output_area.element.find(\".\" + CLASS_NAME.split(' ')[0]);\n",
              "\n",
              "    if (output.metadata[EXEC_MIME_TYPE][\"id\"] !== undefined) {\n",
              "      toinsert[toinsert.length - 1].firstChild.textContent = output.data[JS_MIME_TYPE];\n",
              "      // store reference to embed id on output_area\n",
              "      output_area._bokeh_element_id = output.metadata[EXEC_MIME_TYPE][\"id\"];\n",
              "    }\n",
              "    if (output.metadata[EXEC_MIME_TYPE][\"server_id\"] !== undefined) {\n",
              "      var bk_div = document.createElement(\"div\");\n",
              "      bk_div.innerHTML = output.data[HTML_MIME_TYPE];\n",
              "      var script_attrs = bk_div.children[0].attributes;\n",
              "      for (var i = 0; i < script_attrs.length; i++) {\n",
              "        toinsert[toinsert.length - 1].firstChild.setAttribute(script_attrs[i].name, script_attrs[i].value);\n",
              "      }\n",
              "      // store reference to server id on output_area\n",
              "      output_area._bokeh_server_id = output.metadata[EXEC_MIME_TYPE][\"server_id\"];\n",
              "    }\n",
              "  }\n",
              "\n",
              "  function register_renderer(events, OutputArea) {\n",
              "\n",
              "    function append_mime(data, metadata, element) {\n",
              "      // create a DOM node to render to\n",
              "      var toinsert = this.create_output_subarea(\n",
              "        metadata,\n",
              "        CLASS_NAME,\n",
              "        EXEC_MIME_TYPE\n",
              "      );\n",
              "      this.keyboard_manager.register_events(toinsert);\n",
              "      // Render to node\n",
              "      var props = {data: data, metadata: metadata[EXEC_MIME_TYPE]};\n",
              "      render(props, toinsert[toinsert.length - 1]);\n",
              "      element.append(toinsert);\n",
              "      return toinsert\n",
              "    }\n",
              "\n",
              "    /* Handle when an output is cleared or removed */\n",
              "    events.on('clear_output.CodeCell', handleClearOutput);\n",
              "    events.on('delete.Cell', handleClearOutput);\n",
              "\n",
              "    /* Handle when a new output is added */\n",
              "    events.on('output_added.OutputArea', handleAddOutput);\n",
              "\n",
              "    /**\n",
              "     * Register the mime type and append_mime function with output_area\n",
              "     */\n",
              "    OutputArea.prototype.register_mime_type(EXEC_MIME_TYPE, append_mime, {\n",
              "      /* Is output safe? */\n",
              "      safe: true,\n",
              "      /* Index of renderer in `output_area.display_order` */\n",
              "      index: 0\n",
              "    });\n",
              "  }\n",
              "\n",
              "  // register the mime type if in Jupyter Notebook environment and previously unregistered\n",
              "  if (root.Jupyter !== undefined) {\n",
              "    var events = require('base/js/events');\n",
              "    var OutputArea = require('notebook/js/outputarea').OutputArea;\n",
              "\n",
              "    if (OutputArea.prototype.mime_types().indexOf(EXEC_MIME_TYPE) == -1) {\n",
              "      register_renderer(events, OutputArea);\n",
              "    }\n",
              "  }\n",
              "\n",
              "  \n",
              "  if (typeof (root._bokeh_timeout) === \"undefined\" || force === true) {\n",
              "    root._bokeh_timeout = Date.now() + 5000;\n",
              "    root._bokeh_failed_load = false;\n",
              "  }\n",
              "\n",
              "  var NB_LOAD_WARNING = {'data': {'text/html':\n",
              "     \"<div style='background-color: #fdd'>\\n\"+\n",
              "     \"<p>\\n\"+\n",
              "     \"BokehJS does not appear to have successfully loaded. If loading BokehJS from CDN, this \\n\"+\n",
              "     \"may be due to a slow or bad network connection. Possible fixes:\\n\"+\n",
              "     \"</p>\\n\"+\n",
              "     \"<ul>\\n\"+\n",
              "     \"<li>re-rerun `output_notebook()` to attempt to load from CDN again, or</li>\\n\"+\n",
              "     \"<li>use INLINE resources instead, as so:</li>\\n\"+\n",
              "     \"</ul>\\n\"+\n",
              "     \"<code>\\n\"+\n",
              "     \"from bokeh.resources import INLINE\\n\"+\n",
              "     \"output_notebook(resources=INLINE)\\n\"+\n",
              "     \"</code>\\n\"+\n",
              "     \"</div>\"}};\n",
              "\n",
              "  function display_loaded() {\n",
              "    var el = document.getElementById(\"4647\");\n",
              "    if (el != null) {\n",
              "      el.textContent = \"BokehJS is loading...\";\n",
              "    }\n",
              "    if (root.Bokeh !== undefined) {\n",
              "      if (el != null) {\n",
              "        el.textContent = \"BokehJS \" + root.Bokeh.version + \" successfully loaded.\";\n",
              "      }\n",
              "    } else if (Date.now() < root._bokeh_timeout) {\n",
              "      setTimeout(display_loaded, 100)\n",
              "    }\n",
              "  }\n",
              "\n",
              "\n",
              "  function run_callbacks() {\n",
              "    try {\n",
              "      root._bokeh_onload_callbacks.forEach(function(callback) { callback() });\n",
              "    }\n",
              "    finally {\n",
              "      delete root._bokeh_onload_callbacks\n",
              "    }\n",
              "    console.info(\"Bokeh: all callbacks have finished\");\n",
              "  }\n",
              "\n",
              "  function load_libs(js_urls, callback) {\n",
              "    root._bokeh_onload_callbacks.push(callback);\n",
              "    if (root._bokeh_is_loading > 0) {\n",
              "      console.log(\"Bokeh: BokehJS is being loaded, scheduling callback at\", now());\n",
              "      return null;\n",
              "    }\n",
              "    if (js_urls == null || js_urls.length === 0) {\n",
              "      run_callbacks();\n",
              "      return null;\n",
              "    }\n",
              "    console.log(\"Bokeh: BokehJS not loaded, scheduling load and callback at\", now());\n",
              "    root._bokeh_is_loading = js_urls.length;\n",
              "    for (var i = 0; i < js_urls.length; i++) {\n",
              "      var url = js_urls[i];\n",
              "      var s = document.createElement('script');\n",
              "      s.src = url;\n",
              "      s.async = false;\n",
              "      s.onreadystatechange = s.onload = function() {\n",
              "        root._bokeh_is_loading--;\n",
              "        if (root._bokeh_is_loading === 0) {\n",
              "          console.log(\"Bokeh: all BokehJS libraries loaded\");\n",
              "          run_callbacks()\n",
              "        }\n",
              "      };\n",
              "      s.onerror = function() {\n",
              "        console.warn(\"failed to load library \" + url);\n",
              "      };\n",
              "      console.log(\"Bokeh: injecting script tag for BokehJS library: \", url);\n",
              "      document.getElementsByTagName(\"head\")[0].appendChild(s);\n",
              "    }\n",
              "  };var element = document.getElementById(\"4647\");\n",
              "  if (element == null) {\n",
              "    console.log(\"Bokeh: ERROR: autoload.js configured with elementid '4647' but no matching script tag was found. \")\n",
              "    return false;\n",
              "  }\n",
              "\n",
              "  var js_urls = [\"https://cdn.pydata.org/bokeh/release/bokeh-1.0.4.min.js\", \"https://cdn.pydata.org/bokeh/release/bokeh-widgets-1.0.4.min.js\", \"https://cdn.pydata.org/bokeh/release/bokeh-tables-1.0.4.min.js\", \"https://cdn.pydata.org/bokeh/release/bokeh-gl-1.0.4.min.js\"];\n",
              "\n",
              "  var inline_js = [\n",
              "    function(Bokeh) {\n",
              "      Bokeh.set_log_level(\"info\");\n",
              "    },\n",
              "    \n",
              "    function(Bokeh) {\n",
              "      \n",
              "    },\n",
              "    function(Bokeh) {\n",
              "      console.log(\"Bokeh: injecting CSS: https://cdn.pydata.org/bokeh/release/bokeh-1.0.4.min.css\");\n",
              "      Bokeh.embed.inject_css(\"https://cdn.pydata.org/bokeh/release/bokeh-1.0.4.min.css\");\n",
              "      console.log(\"Bokeh: injecting CSS: https://cdn.pydata.org/bokeh/release/bokeh-widgets-1.0.4.min.css\");\n",
              "      Bokeh.embed.inject_css(\"https://cdn.pydata.org/bokeh/release/bokeh-widgets-1.0.4.min.css\");\n",
              "      console.log(\"Bokeh: injecting CSS: https://cdn.pydata.org/bokeh/release/bokeh-tables-1.0.4.min.css\");\n",
              "      Bokeh.embed.inject_css(\"https://cdn.pydata.org/bokeh/release/bokeh-tables-1.0.4.min.css\");\n",
              "    }\n",
              "  ];\n",
              "\n",
              "  function run_inline_js() {\n",
              "    \n",
              "    if ((root.Bokeh !== undefined) || (force === true)) {\n",
              "      for (var i = 0; i < inline_js.length; i++) {\n",
              "        inline_js[i].call(root, root.Bokeh);\n",
              "      }if (force === true) {\n",
              "        display_loaded();\n",
              "      }} else if (Date.now() < root._bokeh_timeout) {\n",
              "      setTimeout(run_inline_js, 100);\n",
              "    } else if (!root._bokeh_failed_load) {\n",
              "      console.log(\"Bokeh: BokehJS failed to load within specified timeout.\");\n",
              "      root._bokeh_failed_load = true;\n",
              "    } else if (force !== true) {\n",
              "      var cell = $(document.getElementById(\"4647\")).parents('.cell').data().cell;\n",
              "      cell.output_area.append_execute_result(NB_LOAD_WARNING)\n",
              "    }\n",
              "\n",
              "  }\n",
              "\n",
              "  if (root._bokeh_is_loading === 0) {\n",
              "    console.log(\"Bokeh: BokehJS loaded, going straight to plotting\");\n",
              "    run_inline_js();\n",
              "  } else {\n",
              "    load_libs(js_urls, function() {\n",
              "      console.log(\"Bokeh: BokehJS plotting callback run at\", now());\n",
              "      run_inline_js();\n",
              "    });\n",
              "  }\n",
              "}(window));"
            ],
            "application/vnd.bokehjs_load.v0+json": "\n(function(root) {\n  function now() {\n    return new Date();\n  }\n\n  var force = true;\n\n  if (typeof (root._bokeh_onload_callbacks) === \"undefined\" || force === true) {\n    root._bokeh_onload_callbacks = [];\n    root._bokeh_is_loading = undefined;\n  }\n\n  \n\n  \n  if (typeof (root._bokeh_timeout) === \"undefined\" || force === true) {\n    root._bokeh_timeout = Date.now() + 5000;\n    root._bokeh_failed_load = false;\n  }\n\n  var NB_LOAD_WARNING = {'data': {'text/html':\n     \"<div style='background-color: #fdd'>\\n\"+\n     \"<p>\\n\"+\n     \"BokehJS does not appear to have successfully loaded. If loading BokehJS from CDN, this \\n\"+\n     \"may be due to a slow or bad network connection. Possible fixes:\\n\"+\n     \"</p>\\n\"+\n     \"<ul>\\n\"+\n     \"<li>re-rerun `output_notebook()` to attempt to load from CDN again, or</li>\\n\"+\n     \"<li>use INLINE resources instead, as so:</li>\\n\"+\n     \"</ul>\\n\"+\n     \"<code>\\n\"+\n     \"from bokeh.resources import INLINE\\n\"+\n     \"output_notebook(resources=INLINE)\\n\"+\n     \"</code>\\n\"+\n     \"</div>\"}};\n\n  function display_loaded() {\n    var el = document.getElementById(\"4647\");\n    if (el != null) {\n      el.textContent = \"BokehJS is loading...\";\n    }\n    if (root.Bokeh !== undefined) {\n      if (el != null) {\n        el.textContent = \"BokehJS \" + root.Bokeh.version + \" successfully loaded.\";\n      }\n    } else if (Date.now() < root._bokeh_timeout) {\n      setTimeout(display_loaded, 100)\n    }\n  }\n\n\n  function run_callbacks() {\n    try {\n      root._bokeh_onload_callbacks.forEach(function(callback) { callback() });\n    }\n    finally {\n      delete root._bokeh_onload_callbacks\n    }\n    console.info(\"Bokeh: all callbacks have finished\");\n  }\n\n  function load_libs(js_urls, callback) {\n    root._bokeh_onload_callbacks.push(callback);\n    if (root._bokeh_is_loading > 0) {\n      console.log(\"Bokeh: BokehJS is being loaded, scheduling callback at\", now());\n      return null;\n    }\n    if (js_urls == null || js_urls.length === 0) {\n      run_callbacks();\n      return null;\n    }\n    console.log(\"Bokeh: BokehJS not loaded, scheduling load and callback at\", now());\n    root._bokeh_is_loading = js_urls.length;\n    for (var i = 0; i < js_urls.length; i++) {\n      var url = js_urls[i];\n      var s = document.createElement('script');\n      s.src = url;\n      s.async = false;\n      s.onreadystatechange = s.onload = function() {\n        root._bokeh_is_loading--;\n        if (root._bokeh_is_loading === 0) {\n          console.log(\"Bokeh: all BokehJS libraries loaded\");\n          run_callbacks()\n        }\n      };\n      s.onerror = function() {\n        console.warn(\"failed to load library \" + url);\n      };\n      console.log(\"Bokeh: injecting script tag for BokehJS library: \", url);\n      document.getElementsByTagName(\"head\")[0].appendChild(s);\n    }\n  };var element = document.getElementById(\"4647\");\n  if (element == null) {\n    console.log(\"Bokeh: ERROR: autoload.js configured with elementid '4647' but no matching script tag was found. \")\n    return false;\n  }\n\n  var js_urls = [\"https://cdn.pydata.org/bokeh/release/bokeh-1.0.4.min.js\", \"https://cdn.pydata.org/bokeh/release/bokeh-widgets-1.0.4.min.js\", \"https://cdn.pydata.org/bokeh/release/bokeh-tables-1.0.4.min.js\", \"https://cdn.pydata.org/bokeh/release/bokeh-gl-1.0.4.min.js\"];\n\n  var inline_js = [\n    function(Bokeh) {\n      Bokeh.set_log_level(\"info\");\n    },\n    \n    function(Bokeh) {\n      \n    },\n    function(Bokeh) {\n      console.log(\"Bokeh: injecting CSS: https://cdn.pydata.org/bokeh/release/bokeh-1.0.4.min.css\");\n      Bokeh.embed.inject_css(\"https://cdn.pydata.org/bokeh/release/bokeh-1.0.4.min.css\");\n      console.log(\"Bokeh: injecting CSS: https://cdn.pydata.org/bokeh/release/bokeh-widgets-1.0.4.min.css\");\n      Bokeh.embed.inject_css(\"https://cdn.pydata.org/bokeh/release/bokeh-widgets-1.0.4.min.css\");\n      console.log(\"Bokeh: injecting CSS: https://cdn.pydata.org/bokeh/release/bokeh-tables-1.0.4.min.css\");\n      Bokeh.embed.inject_css(\"https://cdn.pydata.org/bokeh/release/bokeh-tables-1.0.4.min.css\");\n    }\n  ];\n\n  function run_inline_js() {\n    \n    if ((root.Bokeh !== undefined) || (force === true)) {\n      for (var i = 0; i < inline_js.length; i++) {\n        inline_js[i].call(root, root.Bokeh);\n      }if (force === true) {\n        display_loaded();\n      }} else if (Date.now() < root._bokeh_timeout) {\n      setTimeout(run_inline_js, 100);\n    } else if (!root._bokeh_failed_load) {\n      console.log(\"Bokeh: BokehJS failed to load within specified timeout.\");\n      root._bokeh_failed_load = true;\n    } else if (force !== true) {\n      var cell = $(document.getElementById(\"4647\")).parents('.cell').data().cell;\n      cell.output_area.append_execute_result(NB_LOAD_WARNING)\n    }\n\n  }\n\n  if (root._bokeh_is_loading === 0) {\n    console.log(\"Bokeh: BokehJS loaded, going straight to plotting\");\n    run_inline_js();\n  } else {\n    load_libs(js_urls, function() {\n      console.log(\"Bokeh: BokehJS plotting callback run at\", now());\n      run_inline_js();\n    });\n  }\n}(window));"
          },
          "metadata": {
            "tags": []
          }
        },
        {
          "output_type": "display_data",
          "data": {
            "text/html": [
              "\n",
              "\n",
              "\n",
              "\n",
              "\n",
              "\n",
              "  <div class=\"bk-root\" id=\"3d3157ae-4a17-4cdb-842a-3ef3f55c0783\" data-root-id=\"4583\"></div>\n"
            ]
          },
          "metadata": {
            "tags": []
          }
        },
        {
          "output_type": "display_data",
          "data": {
            "application/javascript": [
              "(function(root) {\n",
              "  function embed_document(root) {\n",
              "    \n",
              "  var docs_json = {\"9f1d6b29-8d86-4ca5-9a14-75b90284d5b2\":{\"roots\":{\"references\":[{\"attributes\":{\"below\":[{\"id\":\"4593\",\"type\":\"LinearAxis\"}],\"left\":[{\"id\":\"4598\",\"type\":\"CategoricalAxis\"}],\"plot_height\":125,\"plot_width\":700,\"renderers\":[{\"id\":\"4593\",\"type\":\"LinearAxis\"},{\"id\":\"4597\",\"type\":\"Grid\"},{\"id\":\"4598\",\"type\":\"CategoricalAxis\"},{\"id\":\"4601\",\"type\":\"Grid\"},{\"id\":\"4610\",\"type\":\"BoxAnnotation\"},{\"id\":\"4621\",\"type\":\"GlyphRenderer\"},{\"id\":\"4626\",\"type\":\"GlyphRenderer\"},{\"id\":\"4631\",\"type\":\"GlyphRenderer\"},{\"id\":\"4636\",\"type\":\"GlyphRenderer\"},{\"id\":\"4641\",\"type\":\"GlyphRenderer\"},{\"id\":\"4643\",\"type\":\"Label\"},{\"id\":\"4644\",\"type\":\"Label\"},{\"id\":\"4645\",\"type\":\"Label\"},{\"id\":\"4646\",\"type\":\"Label\"}],\"title\":{\"id\":\"4582\",\"type\":\"Title\"},\"toolbar\":{\"id\":\"4608\",\"type\":\"Toolbar\"},\"toolbar_location\":null,\"x_range\":{\"id\":\"4585\",\"type\":\"DataRange1d\"},\"x_scale\":{\"id\":\"4589\",\"type\":\"LinearScale\"},\"y_range\":{\"id\":\"4587\",\"type\":\"FactorRange\"},\"y_scale\":{\"id\":\"4591\",\"type\":\"CategoricalScale\"}},\"id\":\"4583\",\"subtype\":\"Figure\",\"type\":\"Plot\"},{\"attributes\":{\"height\":{\"value\":0.3},\"line_color\":{\"value\":\"gray\"},\"right\":{\"field\":\"right\"},\"y\":{\"field\":\"y\"}},\"id\":\"4634\",\"type\":\"HBar\"},{\"attributes\":{\"callback\":null,\"data\":{\"x0\":[9000],\"x1\":[9000],\"y0\":[[\"ABC_CPU_Motherboard\",-0.5]],\"y1\":[[\"ABC_CPU_Motherboard\",0.5]]},\"selected\":{\"id\":\"4759\",\"type\":\"Selection\"},\"selection_policy\":{\"id\":\"4758\",\"type\":\"UnionRenderers\"}},\"id\":\"4638\",\"type\":\"ColumnDataSource\"},{\"attributes\":{\"source\":{\"id\":\"4618\",\"type\":\"ColumnDataSource\"}},\"id\":\"4622\",\"type\":\"CDSView\"},{\"attributes\":{\"line_color\":{\"value\":\"Green\"},\"line_width\":{\"value\":2},\"x0\":{\"field\":\"x0\"},\"x1\":{\"field\":\"x1\"},\"y0\":{\"field\":\"y0\"},\"y1\":{\"field\":\"y1\"}},\"id\":\"4639\",\"type\":\"Segment\"},{\"attributes\":{},\"id\":\"4750\",\"type\":\"UnionRenderers\"},{\"attributes\":{\"plot\":null,\"text\":\"$14,150 (157.22% ) spent on a $9,000 budget target project: $5,150 over target\"},\"id\":\"4582\",\"type\":\"Title\"},{\"attributes\":{},\"id\":\"4748\",\"type\":\"BasicTickFormatter\"},{\"attributes\":{\"callback\":null,\"data\":{\"y\":[\"ABC_CPU_Motherboard\"]},\"selected\":{\"id\":\"4751\",\"type\":\"Selection\"},\"selection_policy\":{\"id\":\"4750\",\"type\":\"UnionRenderers\"}},\"id\":\"4618\",\"type\":\"ColumnDataSource\"},{\"attributes\":{\"callback\":null,\"range_padding\":0},\"id\":\"4585\",\"type\":\"DataRange1d\"},{\"attributes\":{\"callback\":null,\"data\":{\"y\":[\"ABC_CPU_Motherboard\"]},\"selected\":{\"id\":\"4753\",\"type\":\"Selection\"},\"selection_policy\":{\"id\":\"4752\",\"type\":\"UnionRenderers\"}},\"id\":\"4623\",\"type\":\"ColumnDataSource\"},{\"attributes\":{\"source\":{\"id\":\"4633\",\"type\":\"ColumnDataSource\"}},\"id\":\"4637\",\"type\":\"CDSView\"},{\"attributes\":{\"bottom_units\":\"screen\",\"fill_alpha\":{\"value\":0.5},\"fill_color\":{\"value\":\"lightgrey\"},\"left_units\":\"screen\",\"level\":\"overlay\",\"line_alpha\":{\"value\":1.0},\"line_color\":{\"value\":\"black\"},\"line_dash\":[4,4],\"line_width\":{\"value\":2},\"plot\":null,\"render_mode\":\"css\",\"right_units\":\"screen\",\"top_units\":\"screen\"},\"id\":\"4610\",\"type\":\"BoxAnnotation\"},{\"attributes\":{\"formatter\":{\"id\":\"4746\",\"type\":\"CategoricalTickFormatter\"},\"plot\":{\"id\":\"4583\",\"subtype\":\"Figure\",\"type\":\"Plot\"},\"ticker\":{\"id\":\"4599\",\"type\":\"CategoricalTicker\"}},\"id\":\"4598\",\"type\":\"CategoricalAxis\"},{\"attributes\":{\"source\":{\"id\":\"4638\",\"type\":\"ColumnDataSource\"}},\"id\":\"4642\",\"type\":\"CDSView\"},{\"attributes\":{},\"id\":\"4752\",\"type\":\"UnionRenderers\"},{\"attributes\":{},\"id\":\"4607\",\"type\":\"HelpTool\"},{\"attributes\":{},\"id\":\"4757\",\"type\":\"Selection\"},{\"attributes\":{\"formatter\":{\"id\":\"4748\",\"type\":\"BasicTickFormatter\"},\"plot\":{\"id\":\"4583\",\"subtype\":\"Figure\",\"type\":\"Plot\"},\"ticker\":{\"id\":\"4594\",\"type\":\"BasicTicker\"}},\"id\":\"4593\",\"type\":\"LinearAxis\"},{\"attributes\":{\"data_source\":{\"id\":\"4623\",\"type\":\"ColumnDataSource\"},\"glyph\":{\"id\":\"4624\",\"type\":\"HBar\"},\"hover_glyph\":null,\"muted_glyph\":null,\"nonselection_glyph\":{\"id\":\"4625\",\"type\":\"HBar\"},\"selection_glyph\":null,\"view\":{\"id\":\"4627\",\"type\":\"CDSView\"}},\"id\":\"4626\",\"type\":\"GlyphRenderer\"},{\"attributes\":{},\"id\":\"4756\",\"type\":\"UnionRenderers\"},{\"attributes\":{},\"id\":\"4753\",\"type\":\"Selection\"},{\"attributes\":{\"active_drag\":\"auto\",\"active_inspect\":\"auto\",\"active_multi\":null,\"active_scroll\":\"auto\",\"active_tap\":\"auto\",\"tools\":[{\"id\":\"4602\",\"type\":\"PanTool\"},{\"id\":\"4603\",\"type\":\"WheelZoomTool\"},{\"id\":\"4604\",\"type\":\"BoxZoomTool\"},{\"id\":\"4605\",\"type\":\"SaveTool\"},{\"id\":\"4606\",\"type\":\"ResetTool\"},{\"id\":\"4607\",\"type\":\"HelpTool\"}]},\"id\":\"4608\",\"type\":\"Toolbar\"},{\"attributes\":{\"fill_color\":{\"value\":\"#bdc9e1\"},\"height\":{\"value\":0.8},\"left\":{\"value\":9000},\"line_color\":{\"value\":\"#bdc9e1\"},\"right\":{\"value\":18000},\"y\":{\"field\":\"y\"}},\"id\":\"4624\",\"type\":\"HBar\"},{\"attributes\":{},\"id\":\"4755\",\"type\":\"Selection\"},{\"attributes\":{},\"id\":\"4759\",\"type\":\"Selection\"},{\"attributes\":{\"grid_line_color\":{\"value\":null},\"plot\":{\"id\":\"4583\",\"subtype\":\"Figure\",\"type\":\"Plot\"},\"ticker\":{\"id\":\"4594\",\"type\":\"BasicTicker\"}},\"id\":\"4597\",\"type\":\"Grid\"},{\"attributes\":{},\"id\":\"4589\",\"type\":\"LinearScale\"},{\"attributes\":{\"plot\":{\"id\":\"4583\",\"subtype\":\"Figure\",\"type\":\"Plot\"},\"text\":\"Over Budget\",\"text_color\":{\"value\":\"black\"},\"text_font_size\":{\"value\":\"10pt\"},\"x\":9000,\"x_offset\":15,\"y\":0,\"y_offset\":5},\"id\":\"4644\",\"type\":\"Label\"},{\"attributes\":{\"plot\":{\"id\":\"4583\",\"subtype\":\"Figure\",\"type\":\"Plot\"},\"text\":\"OK\",\"text_color\":{\"value\":\"black\"},\"text_font_size\":{\"value\":\"10pt\"},\"x\":0,\"x_offset\":15,\"y\":0,\"y_offset\":5},\"id\":\"4643\",\"type\":\"Label\"},{\"attributes\":{\"callback\":null,\"data\":{\"right\":[14150.0],\"y\":[\"ABC_CPU_Motherboard\"]},\"selected\":{\"id\":\"4757\",\"type\":\"Selection\"},\"selection_policy\":{\"id\":\"4756\",\"type\":\"UnionRenderers\"}},\"id\":\"4633\",\"type\":\"ColumnDataSource\"},{\"attributes\":{},\"id\":\"4606\",\"type\":\"ResetTool\"},{\"attributes\":{},\"id\":\"4602\",\"type\":\"PanTool\"},{\"attributes\":{},\"id\":\"4746\",\"type\":\"CategoricalTickFormatter\"},{\"attributes\":{\"dimension\":1,\"grid_line_color\":{\"value\":null},\"plot\":{\"id\":\"4583\",\"subtype\":\"Figure\",\"type\":\"Plot\"},\"ticker\":{\"id\":\"4599\",\"type\":\"CategoricalTicker\"}},\"id\":\"4601\",\"type\":\"Grid\"},{\"attributes\":{},\"id\":\"4754\",\"type\":\"UnionRenderers\"},{\"attributes\":{\"data_source\":{\"id\":\"4638\",\"type\":\"ColumnDataSource\"},\"glyph\":{\"id\":\"4639\",\"type\":\"Segment\"},\"hover_glyph\":null,\"muted_glyph\":null,\"nonselection_glyph\":{\"id\":\"4640\",\"type\":\"Segment\"},\"selection_glyph\":null,\"view\":{\"id\":\"4642\",\"type\":\"CDSView\"}},\"id\":\"4641\",\"type\":\"GlyphRenderer\"},{\"attributes\":{\"fill_color\":{\"value\":\"#f1eef6\"},\"height\":{\"value\":0.8},\"line_color\":{\"value\":\"#f1eef6\"},\"right\":{\"value\":9000},\"y\":{\"field\":\"y\"}},\"id\":\"4619\",\"type\":\"HBar\"},{\"attributes\":{},\"id\":\"4751\",\"type\":\"Selection\"},{\"attributes\":{\"data_source\":{\"id\":\"4618\",\"type\":\"ColumnDataSource\"},\"glyph\":{\"id\":\"4619\",\"type\":\"HBar\"},\"hover_glyph\":null,\"muted_glyph\":null,\"nonselection_glyph\":{\"id\":\"4620\",\"type\":\"HBar\"},\"selection_glyph\":null,\"view\":{\"id\":\"4622\",\"type\":\"CDSView\"}},\"id\":\"4621\",\"type\":\"GlyphRenderer\"},{\"attributes\":{\"fill_alpha\":{\"value\":0.1},\"fill_color\":{\"value\":\"#1f77b4\"},\"height\":{\"value\":0.8},\"left\":{\"value\":18000},\"line_alpha\":{\"value\":0.1},\"line_color\":{\"value\":\"#1f77b4\"},\"right\":{\"value\":27000},\"y\":{\"field\":\"y\"}},\"id\":\"4630\",\"type\":\"HBar\"},{\"attributes\":{\"fill_color\":{\"value\":\"#74a9cf\"},\"height\":{\"value\":0.8},\"left\":{\"value\":18000},\"line_color\":{\"value\":\"#74a9cf\"},\"right\":{\"value\":27000},\"y\":{\"field\":\"y\"}},\"id\":\"4629\",\"type\":\"HBar\"},{\"attributes\":{},\"id\":\"4758\",\"type\":\"UnionRenderers\"},{\"attributes\":{\"callback\":null,\"factors\":[\"ABC_CPU_Motherboard\"]},\"id\":\"4587\",\"type\":\"FactorRange\"},{\"attributes\":{\"plot\":{\"id\":\"4583\",\"subtype\":\"Figure\",\"type\":\"Plot\"},\"text\":\"Way Over Budget\",\"text_color\":{\"value\":\"black\"},\"text_font_size\":{\"value\":\"10pt\"},\"x\":18000,\"x_offset\":15,\"y\":0,\"y_offset\":5},\"id\":\"4646\",\"type\":\"Label\"},{\"attributes\":{\"fill_alpha\":{\"value\":0.1},\"fill_color\":{\"value\":\"#1f77b4\"},\"height\":{\"value\":0.3},\"line_alpha\":{\"value\":0.1},\"line_color\":{\"value\":\"#1f77b4\"},\"right\":{\"field\":\"right\"},\"y\":{\"field\":\"y\"}},\"id\":\"4635\",\"type\":\"HBar\"},{\"attributes\":{\"fill_alpha\":{\"value\":0.1},\"fill_color\":{\"value\":\"#1f77b4\"},\"height\":{\"value\":0.8},\"left\":{\"value\":9000},\"line_alpha\":{\"value\":0.1},\"line_color\":{\"value\":\"#1f77b4\"},\"right\":{\"value\":18000},\"y\":{\"field\":\"y\"}},\"id\":\"4625\",\"type\":\"HBar\"},{\"attributes\":{\"data_source\":{\"id\":\"4633\",\"type\":\"ColumnDataSource\"},\"glyph\":{\"id\":\"4634\",\"type\":\"HBar\"},\"hover_glyph\":null,\"muted_glyph\":null,\"nonselection_glyph\":{\"id\":\"4635\",\"type\":\"HBar\"},\"selection_glyph\":null,\"view\":{\"id\":\"4637\",\"type\":\"CDSView\"}},\"id\":\"4636\",\"type\":\"GlyphRenderer\"},{\"attributes\":{},\"id\":\"4605\",\"type\":\"SaveTool\"},{\"attributes\":{\"num_minor_ticks\":0},\"id\":\"4594\",\"type\":\"BasicTicker\"},{\"attributes\":{\"source\":{\"id\":\"4628\",\"type\":\"ColumnDataSource\"}},\"id\":\"4632\",\"type\":\"CDSView\"},{\"attributes\":{\"plot\":{\"id\":\"4583\",\"subtype\":\"Figure\",\"type\":\"Plot\"},\"text\":\"Way Over Budget\",\"text_color\":{\"value\":\"black\"},\"text_font_size\":{\"value\":\"10pt\"},\"x\":18000,\"x_offset\":15,\"y\":0,\"y_offset\":5},\"id\":\"4645\",\"type\":\"Label\"},{\"attributes\":{\"line_alpha\":{\"value\":0.1},\"line_color\":{\"value\":\"#1f77b4\"},\"line_width\":{\"value\":2},\"x0\":{\"field\":\"x0\"},\"x1\":{\"field\":\"x1\"},\"y0\":{\"field\":\"y0\"},\"y1\":{\"field\":\"y1\"}},\"id\":\"4640\",\"type\":\"Segment\"},{\"attributes\":{\"data_source\":{\"id\":\"4628\",\"type\":\"ColumnDataSource\"},\"glyph\":{\"id\":\"4629\",\"type\":\"HBar\"},\"hover_glyph\":null,\"muted_glyph\":null,\"nonselection_glyph\":{\"id\":\"4630\",\"type\":\"HBar\"},\"selection_glyph\":null,\"view\":{\"id\":\"4632\",\"type\":\"CDSView\"}},\"id\":\"4631\",\"type\":\"GlyphRenderer\"},{\"attributes\":{},\"id\":\"4591\",\"type\":\"CategoricalScale\"},{\"attributes\":{\"callback\":null,\"data\":{\"y\":[\"ABC_CPU_Motherboard\"]},\"selected\":{\"id\":\"4755\",\"type\":\"Selection\"},\"selection_policy\":{\"id\":\"4754\",\"type\":\"UnionRenderers\"}},\"id\":\"4628\",\"type\":\"ColumnDataSource\"},{\"attributes\":{\"source\":{\"id\":\"4623\",\"type\":\"ColumnDataSource\"}},\"id\":\"4627\",\"type\":\"CDSView\"},{\"attributes\":{},\"id\":\"4603\",\"type\":\"WheelZoomTool\"},{\"attributes\":{\"fill_alpha\":{\"value\":0.1},\"fill_color\":{\"value\":\"#1f77b4\"},\"height\":{\"value\":0.8},\"line_alpha\":{\"value\":0.1},\"line_color\":{\"value\":\"#1f77b4\"},\"right\":{\"value\":9000},\"y\":{\"field\":\"y\"}},\"id\":\"4620\",\"type\":\"HBar\"},{\"attributes\":{},\"id\":\"4599\",\"type\":\"CategoricalTicker\"},{\"attributes\":{\"overlay\":{\"id\":\"4610\",\"type\":\"BoxAnnotation\"}},\"id\":\"4604\",\"type\":\"BoxZoomTool\"}],\"root_ids\":[\"4583\"]},\"title\":\"Bokeh Application\",\"version\":\"1.0.4\"}};\n",
              "  var render_items = [{\"docid\":\"9f1d6b29-8d86-4ca5-9a14-75b90284d5b2\",\"roots\":{\"4583\":\"3d3157ae-4a17-4cdb-842a-3ef3f55c0783\"}}];\n",
              "  root.Bokeh.embed.embed_items_notebook(docs_json, render_items);\n",
              "\n",
              "  }\n",
              "  if (root.Bokeh !== undefined) {\n",
              "    embed_document(root);\n",
              "  } else {\n",
              "    var attempts = 0;\n",
              "    var timer = setInterval(function(root) {\n",
              "      if (root.Bokeh !== undefined) {\n",
              "        embed_document(root);\n",
              "        clearInterval(timer);\n",
              "      }\n",
              "      attempts++;\n",
              "      if (attempts > 100) {\n",
              "        console.log(\"Bokeh: ERROR: Unable to run BokehJS code because BokehJS library is missing\");\n",
              "        clearInterval(timer);\n",
              "      }\n",
              "    }, 10, root)\n",
              "  }\n",
              "})(window);"
            ],
            "application/vnd.bokehjs_exec.v0+json": ""
          },
          "metadata": {
            "tags": [],
            "application/vnd.bokehjs_exec.v0+json": {
              "id": "4583"
            }
          }
        }
      ]
    }
  ]
}